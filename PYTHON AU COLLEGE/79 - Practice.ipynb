{
 "cells": [
  {
   "cell_type": "markdown",
   "id": "62c96e22-0630-420d-8ce9-0c3d97e3d38d",
   "metadata": {},
   "source": [
    "## Que 1) Write a program to find the maximum number in a list."
   ]
  },
  {
   "cell_type": "code",
   "execution_count": 1,
   "id": "3deb915a-4942-4c6d-a4df-6844bd9e5c6d",
   "metadata": {},
   "outputs": [
    {
     "name": "stdout",
     "output_type": "stream",
     "text": [
      "The maximum number in the list is: 10\n"
     ]
    }
   ],
   "source": [
    "# Python program to find the maximum number in a list using the built-in max() function\n",
    "\n",
    "def find_maximum(numbers):\n",
    "    if not numbers:\n",
    "        return \"The list is empty.\"\n",
    "    return max(numbers)\n",
    "\n",
    "# Example usage\n",
    "numbers = [3, 5, 7, 2, 8, 10, 1]\n",
    "maximum = find_maximum(numbers)\n",
    "print(\"The maximum number in the list is:\", maximum)\n"
   ]
  },
  {
   "cell_type": "markdown",
   "id": "0312875b-d1c1-4a74-b647-5cea348f03d2",
   "metadata": {},
   "source": [
    "## Que 2) Write a program to find the sum of elements in a list."
   ]
  },
  {
   "cell_type": "code",
   "execution_count": 1,
   "id": "53973ffa-9d73-494d-8e3e-93c81218993c",
   "metadata": {},
   "outputs": [
    {
     "name": "stdout",
     "output_type": "stream",
     "text": [
      "The sum of elements in the list is: 63\n"
     ]
    }
   ],
   "source": [
    "# Python program to find the sum of elements in a list\n",
    "\n",
    "def find_sum(numbers):\n",
    "    return sum(numbers)\n",
    "\n",
    "# Example usage\n",
    "numbers = [3, 10, 20, 30]\n",
    "total = find_sum(numbers)\n",
    "print(\"The sum of elements in the list is:\", total)\n"
   ]
  },
  {
   "cell_type": "markdown",
   "id": "6d070006-4553-49e6-97d1-960444ddae65",
   "metadata": {},
   "source": [
    "## Que 3) Write a program to find the number of distinct elements in a list."
   ]
  },
  {
   "cell_type": "code",
   "execution_count": 4,
   "id": "58f49c18-7514-40b1-9671-0e8caf1b5ff5",
   "metadata": {},
   "outputs": [
    {
     "name": "stdout",
     "output_type": "stream",
     "text": [
      "The number of distinct elements in the list is: 7\n"
     ]
    }
   ],
   "source": [
    "# Python program to find the number of distinct elements in a list\n",
    "\n",
    "def count_distinct_elements(numbers):\n",
    "    distinct_elements = set(numbers)\n",
    "    return len(distinct_elements)\n",
    "\n",
    "# Example usage\n",
    "numbers = [3, 5, 7, 2, 8, 10, 1, 3, 7, 2]\n",
    "distinct_count = count_distinct_elements(numbers)\n",
    "print(\"The number of distinct elements in the list is:\", distinct_count)\n"
   ]
  },
  {
   "cell_type": "code",
   "execution_count": null,
   "id": "1d731517-3021-4c49-837f-ebb935d6ebba",
   "metadata": {},
   "outputs": [],
   "source": []
  }
 ],
 "metadata": {
  "kernelspec": {
   "display_name": "Python 3 (ipykernel)",
   "language": "python",
   "name": "python3"
  },
  "language_info": {
   "codemirror_mode": {
    "name": "ipython",
    "version": 3
   },
   "file_extension": ".py",
   "mimetype": "text/x-python",
   "name": "python",
   "nbconvert_exporter": "python",
   "pygments_lexer": "ipython3",
   "version": "3.12.4"
  }
 },
 "nbformat": 4,
 "nbformat_minor": 5
}
