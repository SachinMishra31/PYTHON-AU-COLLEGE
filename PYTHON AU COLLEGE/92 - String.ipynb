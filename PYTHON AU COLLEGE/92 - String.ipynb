{
 "cells": [
  {
   "cell_type": "code",
   "execution_count": 5,
   "id": "20739935-90f4-4921-9b92-ea32bf1a9e01",
   "metadata": {},
   "outputs": [
    {
     "name": "stdout",
     "output_type": "stream",
     "text": [
      "d\n"
     ]
    }
   ],
   "source": [
    "#  Program to print the last character of a string\n",
    "\n",
    "a = \" hello world\"\n",
    "print(a[-1])"
   ]
  },
  {
   "cell_type": "code",
   "execution_count": 7,
   "id": "edc2ccb1-52d1-497b-84d9-fed53cde89c6",
   "metadata": {},
   "outputs": [
    {
     "name": "stdout",
     "output_type": "stream",
     "text": [
      "hello wor\n"
     ]
    }
   ],
   "source": [
    "a = \"hello world\"\n",
    "print(a[:-2])"
   ]
  },
  {
   "cell_type": "code",
   "execution_count": 11,
   "id": "ed929d45-0404-4c79-8088-e9b03a2452bb",
   "metadata": {},
   "outputs": [
    {
     "name": "stdout",
     "output_type": "stream",
     "text": [
      "ell\n"
     ]
    }
   ],
   "source": [
    "str = \"hello world\"\n",
    "print(str[1:4])\n",
    "      "
   ]
  },
  {
   "cell_type": "code",
   "execution_count": 13,
   "id": "6f422671-e759-4d55-8d12-a1b2f92062ab",
   "metadata": {},
   "outputs": [
    {
     "name": "stdout",
     "output_type": "stream",
     "text": [
      "ello wo\n"
     ]
    }
   ],
   "source": [
    "str = \"hello world\"\n",
    "print(str[1:8])"
   ]
  },
  {
   "cell_type": "code",
   "execution_count": 15,
   "id": "8339d832-6ad5-4846-9930-68b61f1bff99",
   "metadata": {},
   "outputs": [
    {
     "name": "stdout",
     "output_type": "stream",
     "text": [
      "ello wo\n"
     ]
    }
   ],
   "source": [
    "str = \"hello world\"\n",
    "print(str[1:-3])"
   ]
  },
  {
   "cell_type": "code",
   "execution_count": 17,
   "id": "f9a02e0e-a820-4d75-9d54-8226d6744fc6",
   "metadata": {},
   "outputs": [
    {
     "name": "stdout",
     "output_type": "stream",
     "text": [
      "dlrow olleH\n"
     ]
    }
   ],
   "source": [
    "#  program to reverse a string\n",
    "\n",
    "str = \"Hello world\"\n",
    "print(str[::-1])"
   ]
  },
  {
   "cell_type": "code",
   "execution_count": 19,
   "id": "79351a0b-06cf-473a-815f-27fdada8f6cd",
   "metadata": {},
   "outputs": [
    {
     "name": "stdout",
     "output_type": "stream",
     "text": [
      "drwolH\n"
     ]
    }
   ],
   "source": [
    "#predict the output\n",
    "str = \"Hello world\"\n",
    "print(str[::-2])\n"
   ]
  },
  {
   "cell_type": "code",
   "execution_count": 21,
   "id": "48181029-54d0-4c1a-a0ad-92d1a6596f08",
   "metadata": {},
   "outputs": [
    {
     "name": "stdout",
     "output_type": "stream",
     "text": [
      "Hlowrd\n"
     ]
    }
   ],
   "source": [
    "#predict the output\n",
    "str = \"Hello world\"\n",
    "print(str[::2])\n"
   ]
  },
  {
   "cell_type": "code",
   "execution_count": 39,
   "id": "915fdcff-18f4-4b83-864d-010a44c20744",
   "metadata": {},
   "outputs": [
    {
     "data": {
      "text/plain": [
       "'py\"thon'"
      ]
     },
     "execution_count": 39,
     "metadata": {},
     "output_type": "execute_result"
    }
   ],
   "source": [
    "#Concatenated strings\n",
    "2*'chunnu'+ 'munnu'\n",
    "\n",
    "'py\"thon'"
   ]
  },
  {
   "cell_type": "code",
   "execution_count": 41,
   "id": "0a9e438b-73ad-40d0-8960-9cebb82bf5dd",
   "metadata": {},
   "outputs": [
    {
     "name": "stdout",
     "output_type": "stream",
     "text": [
      "321\n"
     ]
    }
   ],
   "source": [
    "# write a program to reverse a 3 digit number\n",
    "\n",
    "str = \"123\"\n",
    "print(str[::-1])"
   ]
  },
  {
   "cell_type": "code",
   "execution_count": null,
   "id": "d1e600c0-a9ac-4ff1-b3b9-163e345e8c75",
   "metadata": {},
   "outputs": [],
   "source": []
  }
 ],
 "metadata": {
  "kernelspec": {
   "display_name": "Python 3 (ipykernel)",
   "language": "python",
   "name": "python3"
  },
  "language_info": {
   "codemirror_mode": {
    "name": "ipython",
    "version": 3
   },
   "file_extension": ".py",
   "mimetype": "text/x-python",
   "name": "python",
   "nbconvert_exporter": "python",
   "pygments_lexer": "ipython3",
   "version": "3.12.4"
  }
 },
 "nbformat": 4,
 "nbformat_minor": 5
}
