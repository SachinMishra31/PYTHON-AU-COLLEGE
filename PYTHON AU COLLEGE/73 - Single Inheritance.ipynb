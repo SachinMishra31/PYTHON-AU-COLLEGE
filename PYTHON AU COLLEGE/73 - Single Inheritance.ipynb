{
 "cells": [
  {
   "cell_type": "code",
   "execution_count": 2,
   "id": "631dbb55-cbe6-4572-9344-fa5b1eefc362",
   "metadata": {},
   "outputs": [
    {
     "name": "stdout",
     "output_type": "stream",
     "text": [
      "Engine is Powerful\n",
      "100\n"
     ]
    }
   ],
   "source": [
    "class car:\n",
    "    def speed(self):\n",
    "        print(\"100\")\n",
    "class Audi(car):\n",
    "    def engine(self):\n",
    "        print(\"Engine is Powerful\")\n",
    "c = Audi()\n",
    "c.engine()\n",
    "c.speed()"
   ]
  },
  {
   "cell_type": "code",
   "execution_count": 5,
   "id": "9d3ae1a6-58a3-4529-b149-3749ce5b053d",
   "metadata": {},
   "outputs": [
    {
     "name": "stdout",
     "output_type": "stream",
     "text": [
      "bark\n",
      "meow\n"
     ]
    }
   ],
   "source": [
    "class Animal:\n",
    "    def sound(self):\n",
    "        print(\"some generic sound\")\n",
    "\n",
    "class Dog(Animal):\n",
    "    def sound(self):\n",
    "        print(\"bark\")\n",
    "class Cat(Animal):\n",
    "    def sound(self):\n",
    "        print(\"meow\")\n",
    "\n",
    "dog = Dog()\n",
    "cat = Cat()\n",
    "\n",
    "\n",
    "# overriding\n",
    "dog.sound()\n",
    "cat.sound()"
   ]
  },
  {
   "cell_type": "markdown",
   "id": "ceeed1b7-0efb-48c4-9f50-47afed5957b2",
   "metadata": {},
   "source": [
    "# Types of inheritance"
   ]
  },
  {
   "cell_type": "markdown",
   "id": "fd222f10-0c68-44f3-b225-c32ef1b4be18",
   "metadata": {},
   "source": [
    "## 1) Single Inheritance"
   ]
  },
  {
   "cell_type": "markdown",
   "id": "a7e004d4-7665-412a-84a7-ecb2022c9939",
   "metadata": {},
   "source": [
    "### Que 1) write a python to create a advanced Calculator using single inheritace ?"
   ]
  },
  {
   "cell_type": "code",
   "execution_count": 6,
   "id": "b0d0571f-d62c-461c-8458-0ad4ca2e667c",
   "metadata": {},
   "outputs": [],
   "source": [
    "## create a class calculator which contains two method's add(num1,num2) and sub(num1 , num2).\n",
    "## create another class Advanced Calculator which contains mul(num1, num2) and div(num1,num2).\n",
    "## inherit the method of class calculator in class Advanced Calculator.\n",
    "\n",
    "## Get two input from the user."
   ]
  },
  {
   "cell_type": "code",
   "execution_count": 8,
   "id": "4de713b8-d831-4c44-9e21-73361bb4e45b",
   "metadata": {},
   "outputs": [
    {
     "ename": "NameError",
     "evalue": "name 'Calculator' is not defined",
     "output_type": "error",
     "traceback": [
      "\u001b[1;31m---------------------------------------------------------------------------\u001b[0m",
      "\u001b[1;31mNameError\u001b[0m                                 Traceback (most recent call last)",
      "Cell \u001b[1;32mIn[8], line 8\u001b[0m\n\u001b[0;32m      6\u001b[0m     \u001b[38;5;28;01mdef\u001b[39;00m \u001b[38;5;21msub\u001b[39m(\u001b[38;5;28mself\u001b[39m,num1,num2):\n\u001b[0;32m      7\u001b[0m         \u001b[38;5;28;01mreturn\u001b[39;00m num1\u001b[38;5;241m-\u001b[39mnum2;\n\u001b[1;32m----> 8\u001b[0m \u001b[38;5;28;01mclass\u001b[39;00m \u001b[38;5;21;01mAdvancedCalculator\u001b[39;00m(Calculator):\n\u001b[0;32m      9\u001b[0m     \u001b[38;5;28;01mdef\u001b[39;00m \u001b[38;5;21mmul\u001b[39m(\u001b[38;5;28mself\u001b[39m,num1,num2):\n\u001b[0;32m     10\u001b[0m         \u001b[38;5;28mprint\u001b[39m(\u001b[38;5;124m\"\u001b[39m\u001b[38;5;124mMultiplication:\u001b[39m\u001b[38;5;124m\"\u001b[39m,num1\u001b[38;5;241m*\u001b[39mnum2)\n",
      "\u001b[1;31mNameError\u001b[0m: name 'Calculator' is not defined"
     ]
    }
   ],
   "source": [
    "class calculator:\n",
    "    def add(self,num1,num2):\n",
    "        self.num1=num2;\n",
    "        self.num2=num2;\n",
    "        return self.num1+self.num2\n",
    "    def sub(self,num1,num2):\n",
    "        return num1-num2;\n",
    "class AdvancedCalculator(Calculator):\n",
    "    def mul(self,num1,num2):\n",
    "        print(\"Multiplication:\",num1*num2)\n",
    "    def div(self,num1,num):\n",
    "        return num1//num2;\n",
    "\n",
    "x =AdvancedCalculator()\n",
    "num1=int(input())\n",
    "num2=int(input())\n",
    "print(\"Addition:;%d\"%(x.add(num1,num2)))\n",
    "print(\"Subtractin:\",x.sub(num1,num2))\n",
    "x.mul(num1,num2)\n",
    "print(\"Floor Division : %d\"%(x.div(num1,num2)))\n"
   ]
  },
  {
   "cell_type": "code",
   "execution_count": null,
   "id": "a03efe35-690c-4620-b8da-ba7117c49807",
   "metadata": {},
   "outputs": [],
   "source": []
  }
 ],
 "metadata": {
  "kernelspec": {
   "display_name": "Python 3 (ipykernel)",
   "language": "python",
   "name": "python3"
  },
  "language_info": {
   "codemirror_mode": {
    "name": "ipython",
    "version": 3
   },
   "file_extension": ".py",
   "mimetype": "text/x-python",
   "name": "python",
   "nbconvert_exporter": "python",
   "pygments_lexer": "ipython3",
   "version": "3.12.4"
  }
 },
 "nbformat": 4,
 "nbformat_minor": 5
}
