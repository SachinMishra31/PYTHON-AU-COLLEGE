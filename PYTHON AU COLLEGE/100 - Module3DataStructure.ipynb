{
 "cells": [
  {
   "cell_type": "markdown",
   "id": "023d15e7-1f8e-421c-b76b-ca9c169fe8f9",
   "metadata": {},
   "source": [
    "# Tuples\n"
   ]
  },
  {
   "cell_type": "code",
   "execution_count": 1,
   "id": "14e49ab1-626c-4a57-a2ea-38272da82bfa",
   "metadata": {},
   "outputs": [
    {
     "name": "stdout",
     "output_type": "stream",
     "text": [
      "()\n"
     ]
    }
   ],
   "source": [
    "## Creating Tuples\n",
    "\n",
    "empty_tuple = ()\n",
    "print(empty_tuple)"
   ]
  },
  {
   "cell_type": "code",
   "execution_count": 2,
   "id": "3da8f7c4-9936-4ed8-8fb3-88ef4a76f92d",
   "metadata": {},
   "outputs": [
    {
     "name": "stdout",
     "output_type": "stream",
     "text": [
      "(26, 45, 32)\n"
     ]
    }
   ],
   "source": [
    "## Creating Tuples - 1\n",
    "\n",
    "value_tuple = 26,45,32\n",
    "print(value_tuple)"
   ]
  },
  {
   "cell_type": "code",
   "execution_count": 3,
   "id": "889f098b-7c06-4fb1-aacc-e695ebb31ac9",
   "metadata": {},
   "outputs": [
    {
     "name": "stdout",
     "output_type": "stream",
     "text": [
      "(26, 45, 'hello')\n"
     ]
    }
   ],
   "source": [
    "## Creating Tuples - 2\n",
    "\n",
    "value_tuple = (26,45,'hello')\n",
    "print(value_tuple)\n",
    "\n",
    "\n",
    "\n",
    "\n"
   ]
  },
  {
   "cell_type": "code",
   "execution_count": 4,
   "id": "1b44884e-f964-4a71-92e4-5ab81563f9e3",
   "metadata": {},
   "outputs": [
    {
     "name": "stdout",
     "output_type": "stream",
     "text": [
      "hello\n"
     ]
    }
   ],
   "source": [
    "## Creating Tuples with 1 element\n",
    "\n",
    "Tuple = ('hello')\n",
    "print(Tuple)"
   ]
  },
  {
   "cell_type": "code",
   "execution_count": 5,
   "id": "85b32817-31d0-4829-b096-5a68f9e96115",
   "metadata": {},
   "outputs": [
    {
     "name": "stdout",
     "output_type": "stream",
     "text": [
      "('hello',)\n"
     ]
    }
   ],
   "source": [
    "## Creating Tuples with 1 element and followed bt commo\n",
    "\n",
    "Tuple = ('hello',)\n",
    "print(Tuple)\n"
   ]
  },
  {
   "cell_type": "markdown",
   "id": "7abade84-65a6-4505-800f-06a9ebbfd963",
   "metadata": {},
   "source": [
    "## immutable"
   ]
  },
  {
   "cell_type": "code",
   "execution_count": 6,
   "id": "302efecb-1d84-4ec5-9a75-aac7ad95df8b",
   "metadata": {},
   "outputs": [
    {
     "ename": "TypeError",
     "evalue": "'tuple' object does not support item assignment",
     "output_type": "error",
     "traceback": [
      "\u001b[1;31m---------------------------------------------------------------------------\u001b[0m",
      "\u001b[1;31mTypeError\u001b[0m                                 Traceback (most recent call last)",
      "Cell \u001b[1;32mIn[6], line 4\u001b[0m\n\u001b[0;32m      1\u001b[0m \u001b[38;5;66;03m## immutable\u001b[39;00m\n\u001b[0;32m      3\u001b[0m value_tuple \u001b[38;5;241m=\u001b[39m (\u001b[38;5;241m26\u001b[39m,\u001b[38;5;241m45\u001b[39m,\u001b[38;5;124m'\u001b[39m\u001b[38;5;124mhello\u001b[39m\u001b[38;5;124m'\u001b[39m)\n\u001b[1;32m----> 4\u001b[0m value_tuple[\u001b[38;5;241m1\u001b[39m] \u001b[38;5;241m=\u001b[39m \u001b[38;5;241m7\u001b[39m\n\u001b[0;32m      5\u001b[0m \u001b[38;5;28mprint\u001b[39m(value_tuple)\n",
      "\u001b[1;31mTypeError\u001b[0m: 'tuple' object does not support item assignment"
     ]
    }
   ],
   "source": [
    "## immutable\n",
    "\n",
    "value_tuple = (26,45,'hello')\n",
    "value_tuple[1] = 7\n",
    "print(value_tuple)\n",
    "\n"
   ]
  },
  {
   "cell_type": "markdown",
   "id": "284c9327-abc0-4513-865b-6d6f4b9e8012",
   "metadata": {},
   "source": [
    "## Concatenation"
   ]
  },
  {
   "cell_type": "code",
   "execution_count": 7,
   "id": "e9fb8c80-038d-4356-acef-5840168c3129",
   "metadata": {},
   "outputs": [
    {
     "name": "stdout",
     "output_type": "stream",
     "text": [
      "(26, 45, 'hello', 7, 5.6, 'python')\n"
     ]
    }
   ],
   "source": [
    "## Concatenation\n",
    "\n",
    "value1_tuple = (26,45,'hello')\n",
    "\n",
    "value2_tuple = 7,5.6,\"python\"\n",
    "\n",
    "print(value1_tuple + value2_tuple)\n",
    "\n"
   ]
  },
  {
   "cell_type": "markdown",
   "id": "6f942dda-9fd7-438f-96d4-1a04c961e081",
   "metadata": {},
   "source": [
    "## Nesting of tuples\n"
   ]
  },
  {
   "cell_type": "code",
   "execution_count": 8,
   "id": "cb25ddd0-8e7b-48b5-b638-287f0611a69d",
   "metadata": {},
   "outputs": [
    {
     "name": "stdout",
     "output_type": "stream",
     "text": [
      "((26, 45, 'hello'), (7, 5.6, 'python'))\n"
     ]
    }
   ],
   "source": [
    "## Nesting od tuples\n",
    "\n",
    "value1_tuple = (26,45,'hello')\n",
    "\n",
    "value2_tuple = 7,5.6,\"python\"\n",
    "\n",
    "value3_tuple = value1_tuple , value2_tuple\n",
    "\n",
    "print(value3_tuple)\n",
    "\n"
   ]
  },
  {
   "cell_type": "markdown",
   "id": "ae6d976b-d52b-4108-b7fd-1799a750efbf",
   "metadata": {},
   "source": [
    "## Repetition in Tuples"
   ]
  },
  {
   "cell_type": "code",
   "execution_count": 10,
   "id": "c24adce5-514c-442d-811d-445d709c2ea3",
   "metadata": {},
   "outputs": [
    {
     "name": "stdout",
     "output_type": "stream",
     "text": [
      "(26, 45, 'hello', 26, 45, 'hello')\n"
     ]
    }
   ],
   "source": [
    "value_tuple = (26,45,'hello')*2\n",
    "print(value_tuple)\n"
   ]
  },
  {
   "cell_type": "markdown",
   "id": "23d71dd4-c010-4c6f-a6c4-1e379ea21712",
   "metadata": {},
   "source": [
    "## Accessing Values in tuples"
   ]
  },
  {
   "cell_type": "code",
   "execution_count": 11,
   "id": "aca52b82-5c04-4fb7-87bc-9f999b04cf93",
   "metadata": {},
   "outputs": [
    {
     "name": "stdout",
     "output_type": "stream",
     "text": [
      "7.5\n"
     ]
    }
   ],
   "source": [
    "value_tuple = (26,45,'hello' , 7.5)\n",
    "print(value_tuple[3])"
   ]
  },
  {
   "cell_type": "code",
   "execution_count": 13,
   "id": "d241b9f6-257a-40a0-a3c0-2054811e27fe",
   "metadata": {},
   "outputs": [
    {
     "name": "stdout",
     "output_type": "stream",
     "text": [
      "(26, 45, 'hello', 7.5)\n"
     ]
    }
   ],
   "source": [
    "value_tuple = (26,45,'hello' , 7.5)\n",
    "print(value_tuple[0 :])"
   ]
  },
  {
   "cell_type": "code",
   "execution_count": 14,
   "id": "1dd2687d-fd5a-4146-a091-52272b59bb37",
   "metadata": {},
   "outputs": [
    {
     "name": "stdout",
     "output_type": "stream",
     "text": [
      "('hello', 7.5)\n"
     ]
    }
   ],
   "source": [
    "value_tuple = (26,45,'hello' , 7.5)\n",
    "print(value_tuple[2:])"
   ]
  },
  {
   "cell_type": "code",
   "execution_count": 15,
   "id": "fc0c7342-9661-4abd-be55-02844d61b7b1",
   "metadata": {},
   "outputs": [
    {
     "name": "stdout",
     "output_type": "stream",
     "text": [
      "(26, 45, 'hello')\n"
     ]
    }
   ],
   "source": [
    "value_tuple = (26,45,'hello' , 7.5)\n",
    "print(value_tuple[:3])"
   ]
  },
  {
   "cell_type": "code",
   "execution_count": 16,
   "id": "e12ce097-7a30-4835-9516-8cedcae5a550",
   "metadata": {},
   "outputs": [
    {
     "name": "stdout",
     "output_type": "stream",
     "text": [
      "(26, 45, 'hello', 7.5, 'z', 5, 6.9)\n"
     ]
    }
   ],
   "source": [
    "value_tuple = (26,45,'hello',7.5,'z',5,6.9)\n",
    "print(value_tuple[:7])"
   ]
  },
  {
   "cell_type": "code",
   "execution_count": 17,
   "id": "32b8efc4-80e5-4576-a6eb-88875cbd0bd9",
   "metadata": {},
   "outputs": [
    {
     "name": "stdout",
     "output_type": "stream",
     "text": [
      "(26, 45, 'hello', 7.5)\n"
     ]
    }
   ],
   "source": [
    "value_tuple = (26,45,'hello',7.5,'z',5,6.9)\n",
    "print(value_tuple[:4])\n",
    "\n"
   ]
  },
  {
   "cell_type": "code",
   "execution_count": 18,
   "id": "541e8f2c-627f-4dbb-83cc-2d0cdfcb4628",
   "metadata": {},
   "outputs": [
    {
     "name": "stdout",
     "output_type": "stream",
     "text": [
      "6.9\n"
     ]
    }
   ],
   "source": [
    "value_tuple = (26,45,'hello',7.5,'z',5,6.9)\n",
    "print(value_tuple[-1])"
   ]
  },
  {
   "cell_type": "code",
   "execution_count": 19,
   "id": "32bc0fdf-71c1-4848-bf3e-383ff6227bd1",
   "metadata": {},
   "outputs": [
    {
     "name": "stdout",
     "output_type": "stream",
     "text": [
      "(26, 45, 'hello')\n"
     ]
    }
   ],
   "source": [
    "## Slicing in Tuples\n",
    "\n",
    "value_tuple = (26,45,'hello',7.5,'z',5,6.9)\n",
    "print(value_tuple[:-4])"
   ]
  },
  {
   "cell_type": "code",
   "execution_count": 20,
   "id": "10f0ee6f-5c84-4f89-a5f2-2e14e9294bc9",
   "metadata": {},
   "outputs": [
    {
     "name": "stdout",
     "output_type": "stream",
     "text": [
      "(7.5, 'z', 5, 6.9)\n"
     ]
    }
   ],
   "source": [
    "value_tuple = (26,45,'hello',7.5,'z',5,6.9)\n",
    "print(value_tuple[-4:])"
   ]
  },
  {
   "cell_type": "code",
   "execution_count": 21,
   "id": "3183947a-357a-4c91-b1dc-d7e4823487d7",
   "metadata": {},
   "outputs": [
    {
     "name": "stdout",
     "output_type": "stream",
     "text": [
      "(26, 45, 'hello', 7.5, 'z', 5)\n"
     ]
    }
   ],
   "source": [
    "value_tuple = (26,45,'hello',7.5,'z',5,6.9)\n",
    "print(value_tuple[:-1])"
   ]
  },
  {
   "cell_type": "code",
   "execution_count": 22,
   "id": "5c6c1f25-519a-45a4-b271-a0434ef1933e",
   "metadata": {},
   "outputs": [
    {
     "name": "stdout",
     "output_type": "stream",
     "text": [
      "(6.9, 5, 'z', 7.5, 'hello', 45, 26)\n"
     ]
    }
   ],
   "source": [
    "value_tuple = (26,45,'hello',7.5,'z',5,6.9)\n",
    "print(value_tuple[::-1])"
   ]
  },
  {
   "cell_type": "code",
   "execution_count": 23,
   "id": "4c065b16-d1c4-41d6-83e7-6dfe68cc973c",
   "metadata": {},
   "outputs": [
    {
     "name": "stdout",
     "output_type": "stream",
     "text": [
      "(6.9, 'z', 'hello', 26)\n"
     ]
    }
   ],
   "source": [
    "value_tuple = (26,45,'hello',7.5,'z',5,6.9)\n",
    "print(value_tuple[::-2])"
   ]
  },
  {
   "cell_type": "code",
   "execution_count": 24,
   "id": "f64ac151-0a42-4782-9136-2dbf12b003b7",
   "metadata": {},
   "outputs": [
    {
     "name": "stdout",
     "output_type": "stream",
     "text": [
      "(6.9, 7.5, 26)\n"
     ]
    }
   ],
   "source": [
    "value_tuple = (26,45,'hello',7.5,'z',5,6.9)\n",
    "print(value_tuple[::-3])"
   ]
  },
  {
   "cell_type": "code",
   "execution_count": 25,
   "id": "e48aafd0-45d6-47e5-9e46-bffa38aa7b00",
   "metadata": {},
   "outputs": [
    {
     "name": "stdout",
     "output_type": "stream",
     "text": [
      "('z', 5, 6.9)\n"
     ]
    }
   ],
   "source": [
    "value_tuple = (26,45,'hello',7.5,'z',5,6.9)\n",
    "print(value_tuple[-3::])"
   ]
  },
  {
   "cell_type": "code",
   "execution_count": 26,
   "id": "08478876-2326-4881-b0f2-197c2bad5f64",
   "metadata": {},
   "outputs": [
    {
     "name": "stdout",
     "output_type": "stream",
     "text": [
      "(26, 'hello', 'z', 6.9)\n"
     ]
    }
   ],
   "source": [
    "value_tuple = (26,45,'hello',7.5,'z',5,6.9)\n",
    "print(value_tuple[::2])"
   ]
  },
  {
   "cell_type": "code",
   "execution_count": 27,
   "id": "388e4567-f03e-4657-a20c-a302b020a1a1",
   "metadata": {},
   "outputs": [
    {
     "name": "stdout",
     "output_type": "stream",
     "text": [
      "(45, 'hello', 7.5)\n"
     ]
    }
   ],
   "source": [
    "value_tuple = (26,45,'hello',7.5,'z',5,6.9)\n",
    "print(value_tuple[1:4])"
   ]
  },
  {
   "cell_type": "code",
   "execution_count": 29,
   "id": "d2c385d4-0da2-4d9b-b765-42f8b371b524",
   "metadata": {},
   "outputs": [
    {
     "name": "stdout",
     "output_type": "stream",
     "text": [
      "(45, 'hello', 7.5, 'z', 5, 6.9)\n"
     ]
    }
   ],
   "source": [
    "value_tuple = (26,45,'hello',7.5,'z',5,6.9)\n",
    "print(value_tuple[1::1])"
   ]
  },
  {
   "cell_type": "code",
   "execution_count": 31,
   "id": "7c6300da-0e3c-4630-b172-3883fa5a0ca3",
   "metadata": {},
   "outputs": [
    {
     "name": "stdout",
     "output_type": "stream",
     "text": [
      "(45, 'z')\n"
     ]
    }
   ],
   "source": [
    "value_tuple = (26,45,'hello',7.5,'z',5,6.9)\n",
    "print(value_tuple[1::3])"
   ]
  },
  {
   "cell_type": "code",
   "execution_count": 32,
   "id": "dd1f3d41-fe46-4c30-88db-2fa5ce22f280",
   "metadata": {},
   "outputs": [
    {
     "name": "stdout",
     "output_type": "stream",
     "text": [
      "(6.9, 'z', 'hello', 26)\n"
     ]
    }
   ],
   "source": [
    "value_tuple = (26,45,'hello',7.5,'z',5,6.9)\n",
    "print(value_tuple[-1::-2])"
   ]
  },
  {
   "cell_type": "code",
   "execution_count": 33,
   "id": "0fc1333b-ead7-4b7d-b467-33cff7bfa39e",
   "metadata": {},
   "outputs": [
    {
     "name": "stdout",
     "output_type": "stream",
     "text": [
      "(45, 7.5, 5)\n"
     ]
    }
   ],
   "source": [
    "value_tuple = (26,45,'hello',7.5,'z',5,6.9)\n",
    "print(value_tuple[1:6:2])"
   ]
  },
  {
   "cell_type": "code",
   "execution_count": 34,
   "id": "6d41886c-82a0-4f3d-bd7c-2d49af780cdd",
   "metadata": {},
   "outputs": [
    {
     "name": "stdout",
     "output_type": "stream",
     "text": [
      "(45,)\n"
     ]
    }
   ],
   "source": [
    "value_tuple = (26,45,'hello',7.5,'z',5,6.9)\n",
    "print(value_tuple[1:3:2])"
   ]
  },
  {
   "cell_type": "markdown",
   "id": "fd0dd116-aca8-4d5b-8e6c-3317e1e9ed84",
   "metadata": {},
   "source": [
    "# Deleting a Tuple"
   ]
  },
  {
   "cell_type": "code",
   "execution_count": 3,
   "id": "9b7c8a39-c203-4e11-9e5d-b25367fe8476",
   "metadata": {},
   "outputs": [
    {
     "name": "stdout",
     "output_type": "stream",
     "text": [
      "(26, 45, 'hello', 7.5, 'z', 5, 6.9)\n"
     ]
    }
   ],
   "source": [
    "value_tuple = (26,45,'hello',7.5,'z',5,6.9)\n",
    "\n",
    "##del(value_tuple)\n",
    "print(value_tuple)"
   ]
  },
  {
   "cell_type": "markdown",
   "id": "7877d0a2-0c63-412c-821e-35d8a4fb946b",
   "metadata": {},
   "source": [
    "## Looping\n"
   ]
  },
  {
   "cell_type": "code",
   "execution_count": 1,
   "id": "82978974-b40f-42f2-9033-cf01081d2476",
   "metadata": {},
   "outputs": [
    {
     "name": "stdout",
     "output_type": "stream",
     "text": [
      "('hello',)\n",
      "(('hello',),)\n",
      "((('hello',),),)\n"
     ]
    }
   ],
   "source": [
    "Tuple = ('hello')\n",
    "n = 3\n",
    "for i in range(int(n)):\n",
    "    Tuple = (Tuple,)\n",
    "    print(Tuple)"
   ]
  },
  {
   "cell_type": "markdown",
   "id": "396d0222-e91d-4b99-a17f-c558ae7d9a78",
   "metadata": {},
   "source": [
    "## Built in Function"
   ]
  },
  {
   "cell_type": "code",
   "execution_count": 2,
   "id": "e27a746b-a6d6-4b3b-bd72-3b5f2f3b7e0c",
   "metadata": {},
   "outputs": [
    {
     "name": "stdout",
     "output_type": "stream",
     "text": [
      "5\n"
     ]
    }
   ],
   "source": [
    "tuple = ('developer',5,8.9,'r',8)\n",
    "print(len(tuple))"
   ]
  },
  {
   "cell_type": "code",
   "execution_count": 4,
   "id": "81933e35-bd56-486b-9c3d-33466e95630c",
   "metadata": {},
   "outputs": [
    {
     "name": "stdout",
     "output_type": "stream",
     "text": [
      "8.9\n"
     ]
    }
   ],
   "source": [
    "tuple = (5,8.9,8)\n",
    "print(max(tuple))"
   ]
  },
  {
   "cell_type": "code",
   "execution_count": 5,
   "id": "beba081f-740c-4b75-9fce-8405fea91458",
   "metadata": {},
   "outputs": [
    {
     "name": "stdout",
     "output_type": "stream",
     "text": [
      "5\n"
     ]
    }
   ],
   "source": [
    "tuple = (5,8.9,8)\n",
    "print(min(tuple))"
   ]
  },
  {
   "cell_type": "code",
   "execution_count": 6,
   "id": "1a45a0dc-a077-43fd-829f-e95f7b401626",
   "metadata": {},
   "outputs": [
    {
     "name": "stdout",
     "output_type": "stream",
     "text": [
      "21.9\n"
     ]
    }
   ],
   "source": [
    "tuple = (5,8.9,8)\n",
    "print(sum(tuple))"
   ]
  },
  {
   "cell_type": "code",
   "execution_count": 7,
   "id": "40f0c78b-edef-4b8a-b781-a6edf2d88660",
   "metadata": {},
   "outputs": [
    {
     "name": "stdout",
     "output_type": "stream",
     "text": [
      "[4, 5, 8, 9, 89]\n"
     ]
    }
   ],
   "source": [
    "tuple = (9,5,89,4,8)\n",
    "print(sorted(tuple))\n"
   ]
  },
  {
   "cell_type": "code",
   "execution_count": 8,
   "id": "fdc374e9-6ab6-434e-bf2e-30566c5e8371",
   "metadata": {},
   "outputs": [
    {
     "name": "stdout",
     "output_type": "stream",
     "text": [
      "True\n"
     ]
    }
   ],
   "source": [
    "tuple = (0,1)\n",
    "print(any(tuple))"
   ]
  },
  {
   "cell_type": "code",
   "execution_count": 9,
   "id": "9dadf4de-28d1-4a09-9ee6-2a33737a0ce8",
   "metadata": {},
   "outputs": [
    {
     "name": "stdout",
     "output_type": "stream",
     "text": [
      "False\n"
     ]
    }
   ],
   "source": [
    "tuple = (0,)\n",
    "print(any(tuple))"
   ]
  },
  {
   "cell_type": "code",
   "execution_count": 10,
   "id": "a006f96d-3580-4ac6-9e09-5f4f49ee3433",
   "metadata": {},
   "outputs": [
    {
     "name": "stdout",
     "output_type": "stream",
     "text": [
      "True\n"
     ]
    }
   ],
   "source": [
    "tuple = (4,1)\n",
    "print(all(tuple))\n"
   ]
  },
  {
   "cell_type": "code",
   "execution_count": 11,
   "id": "c223cfd7-15c3-45dd-8fa8-ef4841b8cf9a",
   "metadata": {},
   "outputs": [
    {
     "name": "stdout",
     "output_type": "stream",
     "text": [
      "False\n"
     ]
    }
   ],
   "source": [
    "tuple = (0,5,7)\n",
    "print(all(tuple))\n"
   ]
  },
  {
   "cell_type": "code",
   "execution_count": 12,
   "id": "b206514d-9ee3-416d-a156-b997ce4c1e40",
   "metadata": {},
   "outputs": [
    {
     "name": "stdout",
     "output_type": "stream",
     "text": [
      "True\n"
     ]
    }
   ],
   "source": [
    "tuple = ()\n",
    "print(all(tuple))\n"
   ]
  },
  {
   "cell_type": "markdown",
   "id": "885239f2-a0f9-4e83-90d3-af85e4ca7263",
   "metadata": {},
   "source": [
    "## Predict the output"
   ]
  },
  {
   "cell_type": "code",
   "execution_count": 13,
   "id": "60f110f0-c525-4728-baf0-74f97aaf1cbb",
   "metadata": {},
   "outputs": [
    {
     "name": "stdout",
     "output_type": "stream",
     "text": [
      "apple\n",
      "byte\n",
      "computer\n"
     ]
    }
   ],
   "source": [
    "tuple = (\"apple\",\"byte\",\"computer\")\n",
    "for i in tuple:\n",
    "    print(i)"
   ]
  },
  {
   "cell_type": "code",
   "execution_count": 19,
   "id": "397b07f6-5f66-4fea-9cba-cfbc26803ca6",
   "metadata": {},
   "outputs": [
    {
     "name": "stdout",
     "output_type": "stream",
     "text": [
      "apple\n"
     ]
    }
   ],
   "source": [
    "tuple = (\"apple\",\"byte\",\"computer\")\n",
    "n=2\n",
    "for i in range(n):\n",
    "    print(tuple[i])\n",
    "    break\n",
    "    "
   ]
  },
  {
   "cell_type": "code",
   "execution_count": 20,
   "id": "751b998f-7ee0-4a0f-a03e-fae3ff16e50f",
   "metadata": {},
   "outputs": [
    {
     "name": "stdout",
     "output_type": "stream",
     "text": [
      "2\n",
      "1\n",
      "0\n"
     ]
    }
   ],
   "source": [
    "tuple = (3,7,'p','y','z',9.5,'y')\n",
    "print(tuple.count('y'))\n",
    "print(tuple.count(7))\n",
    "print(tuple.count(9))"
   ]
  },
  {
   "cell_type": "code",
   "execution_count": 21,
   "id": "aaf79af1-337d-4dac-981f-c028afc6a24d",
   "metadata": {},
   "outputs": [
    {
     "name": "stdout",
     "output_type": "stream",
     "text": [
      "3\n",
      "1\n"
     ]
    }
   ],
   "source": [
    "tuple = (3,7,'p','y','z',9.5,'y')\n",
    "print(tuple.index('y'))\n",
    "print(tuple.index(7))"
   ]
  },
  {
   "cell_type": "markdown",
   "id": "3b2882a8-55cf-4b5d-abe2-b83d56c10cb5",
   "metadata": {},
   "source": [
    "# SET"
   ]
  },
  {
   "cell_type": "code",
   "execution_count": null,
   "id": "ea121dd0-4889-47e6-9e36-03cc17c2abf3",
   "metadata": {},
   "outputs": [],
   "source": []
  },
  {
   "cell_type": "markdown",
   "id": "4bb582e1-29c4-4d79-b713-a13d35cce141",
   "metadata": {},
   "source": [
    "# LIST"
   ]
  },
  {
   "cell_type": "code",
   "execution_count": null,
   "id": "10fc6497-3789-40ec-8c7d-131e666c4af7",
   "metadata": {},
   "outputs": [],
   "source": [
    "## what is the way to print all "
   ]
  },
  {
   "cell_type": "code",
   "execution_count": null,
   "id": "d6427004-aada-48bf-9671-8eb556d61611",
   "metadata": {},
   "outputs": [],
   "source": [
    "## INDEXING\n",
    "\n",
    "a = [10,20,30,40]"
   ]
  }
 ],
 "metadata": {
  "kernelspec": {
   "display_name": "Python 3 (ipykernel)",
   "language": "python",
   "name": "python3"
  },
  "language_info": {
   "codemirror_mode": {
    "name": "ipython",
    "version": 3
   },
   "file_extension": ".py",
   "mimetype": "text/x-python",
   "name": "python",
   "nbconvert_exporter": "python",
   "pygments_lexer": "ipython3",
   "version": "3.12.4"
  }
 },
 "nbformat": 4,
 "nbformat_minor": 5
}
