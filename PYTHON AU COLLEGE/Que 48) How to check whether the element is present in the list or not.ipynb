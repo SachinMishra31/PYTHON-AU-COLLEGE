{
 "cells": [
  {
   "cell_type": "code",
   "execution_count": 1,
   "id": "f812e32c-c333-4152-9bf9-e2aa544a7b7b",
   "metadata": {},
   "outputs": [],
   "source": [
    "## Que 5) How to check whether the element is present in the list or not? need to check whether elements 30 is present in the above list or not"
   ]
  },
  {
   "cell_type": "code",
   "execution_count": 2,
   "id": "18dc6596-048e-4ab8-b9de-0b75720e4b5d",
   "metadata": {},
   "outputs": [
    {
     "name": "stdout",
     "output_type": "stream",
     "text": [
      "value found\n"
     ]
    }
   ],
   "source": [
    "a = [10,20,30]\n",
    "for i in a:\n",
    "    if i == 30:\n",
    "        print(\"value found\")\n",
    "        break\n",
    "else:\n",
    "    print(\"value not found\")"
   ]
  },
  {
   "cell_type": "markdown",
   "id": "e328b0ee-73c0-42e1-b635-3ee9e4ba12a2",
   "metadata": {},
   "source": [
    "## Revision 1"
   ]
  },
  {
   "cell_type": "code",
   "execution_count": 1,
   "id": "abac170b-7df1-408a-b6ed-c59b6d194048",
   "metadata": {},
   "outputs": [
    {
     "name": "stdout",
     "output_type": "stream",
     "text": [
      "value found\n"
     ]
    }
   ],
   "source": [
    "a = [10,20,30]\n",
    "\n",
    "for i in a:\n",
    "    if i == 30:\n",
    "        print(\"value found\")\n",
    "        break\n",
    "\n",
    "else:\n",
    "    print(\"value not found\")"
   ]
  },
  {
   "cell_type": "code",
   "execution_count": null,
   "id": "911cc762-4b65-4597-9290-689ab874811e",
   "metadata": {},
   "outputs": [],
   "source": []
  }
 ],
 "metadata": {
  "kernelspec": {
   "display_name": "Python 3 (ipykernel)",
   "language": "python",
   "name": "python3"
  },
  "language_info": {
   "codemirror_mode": {
    "name": "ipython",
    "version": 3
   },
   "file_extension": ".py",
   "mimetype": "text/x-python",
   "name": "python",
   "nbconvert_exporter": "python",
   "pygments_lexer": "ipython3",
   "version": "3.12.4"
  }
 },
 "nbformat": 4,
 "nbformat_minor": 5
}
