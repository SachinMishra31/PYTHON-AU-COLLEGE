{
 "cells": [
  {
   "cell_type": "code",
   "execution_count": 1,
   "id": "c977b90a-037b-4205-831f-bfb33028884c",
   "metadata": {},
   "outputs": [
    {
     "name": "stdin",
     "output_type": "stream",
     "text": [
      "Enter the student type (MSDS, MSH, MGSDS, MGSH):  MSH\n"
     ]
    },
    {
     "name": "stdout",
     "output_type": "stream",
     "text": [
      "Total fee to be collected: 70000\n"
     ]
    }
   ],
   "source": [
    "tuition_fee = 50000 \n",
    "bus_fee = 5000       \n",
    "hostel_fee = 20000   \n",
    "def calculate_fee(student_type):\n",
    "    if student_type == \"MSDS\":\n",
    "        \n",
    "        return tuition_fee + bus_fee\n",
    "    elif student_type == \"MSH\":\n",
    "       \n",
    "        return tuition_fee + hostel_fee\n",
    "    elif student_type == \"MGSDS\":\n",
    "       \n",
    "        return 1.5 * tuition_fee + bus_fee\n",
    "    elif student_type == \"MGSH\":\n",
    "        \n",
    "        return 1.5 * tuition_fee + hostel_fee\n",
    "    else:\n",
    "        return \"Invalid student type\"\n",
    "\n",
    "\n",
    "student_type = input(\"Enter the student type (MSDS, MSH, MGSDS, MGSH): \")\n",
    "\n",
    "\n",
    "fee = calculate_fee(student_type)\n",
    "print(f\"Total fee to be collected: {fee}\")"
   ]
  },
  {
   "cell_type": "code",
   "execution_count": null,
   "id": "f14621c6-210c-4863-998a-5965429bb2b1",
   "metadata": {},
   "outputs": [],
   "source": []
  }
 ],
 "metadata": {
  "kernelspec": {
   "display_name": "Python 3 (ipykernel)",
   "language": "python",
   "name": "python3"
  },
  "language_info": {
   "codemirror_mode": {
    "name": "ipython",
    "version": 3
   },
   "file_extension": ".py",
   "mimetype": "text/x-python",
   "name": "python",
   "nbconvert_exporter": "python",
   "pygments_lexer": "ipython3",
   "version": "3.12.4"
  }
 },
 "nbformat": 4,
 "nbformat_minor": 5
}
