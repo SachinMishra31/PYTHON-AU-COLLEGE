{
 "cells": [
  {
   "cell_type": "code",
   "execution_count": 1,
   "id": "15721d2d-9fda-49ea-9e18-7dfd1765da9e",
   "metadata": {},
   "outputs": [
    {
     "name": "stdout",
     "output_type": "stream",
     "text": [
      "The sum of elements in the list is: 63\n"
     ]
    }
   ],
   "source": [
    "def find_sum(numbers):\n",
    "    return sum(numbers)\n",
    "\n",
    "# Example usage\n",
    "numbers = [3, 10, 20, 30]\n",
    "total = find_sum(numbers)\n",
    "print(\"The sum of elements in the list is:\", total)\n"
   ]
  },
  {
   "cell_type": "markdown",
   "id": "8c726e92-8e6b-4e32-9dc2-d53678156e0f",
   "metadata": {},
   "source": [
    "## Revision 3"
   ]
  },
  {
   "cell_type": "code",
   "execution_count": 1,
   "id": "5d7b8b05-6eb2-4d3d-b5ad-30253e4bc126",
   "metadata": {},
   "outputs": [
    {
     "name": "stdout",
     "output_type": "stream",
     "text": [
      "The sum of elements in the list is : 63\n"
     ]
    }
   ],
   "source": [
    "def find_sum(numbers):\n",
    "    return sum(numbers)\n",
    "\n",
    "# Example usage\n",
    "\n",
    "numbers = [3,10,20,30]\n",
    "total = find_sum(numbers)\n",
    "print(\"The sum of elements in the list is :\", total)"
   ]
  },
  {
   "cell_type": "code",
   "execution_count": null,
   "id": "6a73ec3c-296d-4a8f-95fa-56edeecb97dc",
   "metadata": {},
   "outputs": [],
   "source": []
  }
 ],
 "metadata": {
  "kernelspec": {
   "display_name": "Python 3 (ipykernel)",
   "language": "python",
   "name": "python3"
  },
  "language_info": {
   "codemirror_mode": {
    "name": "ipython",
    "version": 3
   },
   "file_extension": ".py",
   "mimetype": "text/x-python",
   "name": "python",
   "nbconvert_exporter": "python",
   "pygments_lexer": "ipython3",
   "version": "3.12.4"
  }
 },
 "nbformat": 4,
 "nbformat_minor": 5
}
