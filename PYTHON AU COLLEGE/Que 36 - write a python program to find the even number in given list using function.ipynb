{
 "cells": [
  {
   "cell_type": "code",
   "execution_count": 2,
   "id": "0229f937-4d8f-4db0-a6da-d837169af2b7",
   "metadata": {},
   "outputs": [
    {
     "name": "stdin",
     "output_type": "stream",
     "text": [
      "Enter the numbers separated by spaces:  7 6 4 \n"
     ]
    },
    {
     "name": "stdout",
     "output_type": "stream",
     "text": [
      "The even numbers in the list are: [6, 4]\n"
     ]
    }
   ],
   "source": [
    "# Function to find even numbers in a list\n",
    "def find_even_numbers(numbers_list):\n",
    "    even_numbers = []\n",
    "    for num in numbers_list:\n",
    "        if num % 2 == 0:\n",
    "            even_numbers.append(num)\n",
    "    return even_numbers\n",
    "\n",
    "# Input: List of numbers\n",
    "numbers = list(map(int, input(\"Enter the numbers separated by spaces: \").split()))\n",
    "\n",
    "# Output: List of even numbers\n",
    "even_numbers = find_even_numbers(numbers)\n",
    "print(f\"The even numbers in the list are: {even_numbers}\")\n"
   ]
  },
  {
   "cell_type": "code",
   "execution_count": null,
   "id": "15e81146-ebc5-4035-9071-0a5e0cdc6485",
   "metadata": {},
   "outputs": [],
   "source": []
  }
 ],
 "metadata": {
  "kernelspec": {
   "display_name": "Python 3 (ipykernel)",
   "language": "python",
   "name": "python3"
  },
  "language_info": {
   "codemirror_mode": {
    "name": "ipython",
    "version": 3
   },
   "file_extension": ".py",
   "mimetype": "text/x-python",
   "name": "python",
   "nbconvert_exporter": "python",
   "pygments_lexer": "ipython3",
   "version": "3.12.4"
  }
 },
 "nbformat": 4,
 "nbformat_minor": 5
}
