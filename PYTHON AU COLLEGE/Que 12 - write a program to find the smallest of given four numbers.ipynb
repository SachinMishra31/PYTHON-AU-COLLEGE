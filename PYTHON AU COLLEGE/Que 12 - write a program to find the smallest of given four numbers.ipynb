{
 "cells": [
  {
   "cell_type": "code",
   "execution_count": 1,
   "id": "e8ed0e84-3e0d-4838-82c7-adb80d596755",
   "metadata": {},
   "outputs": [
    {
     "name": "stdin",
     "output_type": "stream",
     "text": [
      "Enter your num1 5\n",
      "Enter your num2 7\n",
      "Enter your num3 9\n",
      "Enter your num3 8\n"
     ]
    },
    {
     "name": "stdout",
     "output_type": "stream",
     "text": [
      "num1 is smallest number\n"
     ]
    }
   ],
   "source": [
    "num1 = int(input(\"Enter your num1\"))\n",
    "num2 = int(input(\"Enter your num2\"))\n",
    "num3 = int(input(\"Enter your num3\"))\n",
    "num4 = int(input(\"Enter your num3\"))\n",
    "if num1<num2 and num1 <num3 and num1<num4:\n",
    "    print(\"num1 is smallest number\")\n",
    "elif num2<num1 and num2<num3 and num2<num4:\n",
    "    print(\"num2 is smallest number\")\n",
    "else:\n",
    "    print(\"num3 is smallest number\")"
   ]
  },
  {
   "cell_type": "code",
   "execution_count": null,
   "id": "9151f81c-fe61-4437-bdd4-391e6dd5c3a7",
   "metadata": {},
   "outputs": [],
   "source": []
  }
 ],
 "metadata": {
  "kernelspec": {
   "display_name": "Python 3 (ipykernel)",
   "language": "python",
   "name": "python3"
  },
  "language_info": {
   "codemirror_mode": {
    "name": "ipython",
    "version": 3
   },
   "file_extension": ".py",
   "mimetype": "text/x-python",
   "name": "python",
   "nbconvert_exporter": "python",
   "pygments_lexer": "ipython3",
   "version": "3.12.4"
  }
 },
 "nbformat": 4,
 "nbformat_minor": 5
}
