{
 "cells": [
  {
   "cell_type": "code",
   "execution_count": 1,
   "id": "8c523be9-52d7-4949-898f-860a4d0d46c6",
   "metadata": {},
   "outputs": [
    {
     "name": "stdout",
     "output_type": "stream",
     "text": [
      "Sample String: The quick Brow Fox\n",
      "Number of uppercase letters: 3\n",
      "Number of lowercase letters: 12\n"
     ]
    }
   ],
   "source": [
    "def count_case(s):\n",
    "    upper_count = 0\n",
    "    lower_count = 0\n",
    "    for char in s:\n",
    "        if char.isupper():\n",
    "            upper_count += 1\n",
    "        elif char.islower():\n",
    "            lower_count += 1\n",
    "    return upper_count, lower_count\n",
    "\n",
    "\n",
    "sample_string = \"The quick Brow Fox\"\n",
    "\n",
    "\n",
    "upper, lower = count_case(sample_string)\n",
    "\n",
    "\n",
    "print(\"Sample String:\", sample_string)\n",
    "print(\"Number of uppercase letters:\", upper)\n",
    "print(\"Number of lowercase letters:\", lower)"
   ]
  },
  {
   "cell_type": "code",
   "execution_count": null,
   "id": "450516ed-39a6-419d-8536-6abaf11c5bf7",
   "metadata": {},
   "outputs": [],
   "source": []
  }
 ],
 "metadata": {
  "kernelspec": {
   "display_name": "Python 3 (ipykernel)",
   "language": "python",
   "name": "python3"
  },
  "language_info": {
   "codemirror_mode": {
    "name": "ipython",
    "version": 3
   },
   "file_extension": ".py",
   "mimetype": "text/x-python",
   "name": "python",
   "nbconvert_exporter": "python",
   "pygments_lexer": "ipython3",
   "version": "3.12.4"
  }
 },
 "nbformat": 4,
 "nbformat_minor": 5
}
