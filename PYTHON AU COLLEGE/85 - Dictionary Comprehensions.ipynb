{
 "cells": [
  {
   "cell_type": "markdown",
   "id": "0ea94c68-353f-48d6-af43-bd6010f9c6d1",
   "metadata": {},
   "source": [
    "# Basic dict Comprehension"
   ]
  },
  {
   "cell_type": "markdown",
   "id": "558a07e9-c7ca-4919-bc77-07518c0ebb95",
   "metadata": {},
   "source": [
    "### Que 1) Create a dictionary where the keys are numbers and the values are the squares of those numbes ?"
   ]
  },
  {
   "cell_type": "code",
   "execution_count": 1,
   "id": "612a0b05-3666-476f-a3e9-3ba43a6869c2",
   "metadata": {},
   "outputs": [
    {
     "name": "stdout",
     "output_type": "stream",
     "text": [
      "{0: 0, 1: 1, 2: 4, 3: 9, 4: 16}\n"
     ]
    }
   ],
   "source": [
    "squares = {x:x**2 for x in range (5)}\n",
    "print(squares)"
   ]
  },
  {
   "cell_type": "markdown",
   "id": "f4b59964-5383-4068-be75-34d83b46d682",
   "metadata": {},
   "source": [
    "# Basic dict Comprehension (with a condition)"
   ]
  },
  {
   "cell_type": "markdown",
   "id": "07bb810b-c150-471f-a254-aa78edf0064f",
   "metadata": {},
   "source": [
    "### Que 2) Create a dictionary where the keys are even numbers and the values are their cubes  ?"
   ]
  },
  {
   "cell_type": "code",
   "execution_count": 3,
   "id": "4c557f42-396a-404c-82fb-d952fb90f521",
   "metadata": {},
   "outputs": [
    {
     "name": "stdout",
     "output_type": "stream",
     "text": [
      "{0: 0, 2: 8, 4: 64, 6: 216, 8: 512}\n"
     ]
    }
   ],
   "source": [
    "cubes = {x:x**3 for x in range(10) if x%2 == 0}\n",
    "print(cubes)"
   ]
  },
  {
   "cell_type": "markdown",
   "id": "f0b52a1a-bc6e-4b5c-b4be-82e9b92f8971",
   "metadata": {},
   "source": [
    "# using two lists"
   ]
  },
  {
   "cell_type": "markdown",
   "id": "f2f62061-f146-48ef-b904-f94d549109bd",
   "metadata": {},
   "source": [
    "### Que 3) crate a dictionary from two lists , one for keys and one for values ?"
   ]
  },
  {
   "cell_type": "code",
   "execution_count": 4,
   "id": "19656586-2d08-4d87-a61f-103c119cfb9a",
   "metadata": {},
   "outputs": [
    {
     "name": "stdout",
     "output_type": "stream",
     "text": [
      "{'a': 1, 'b': 2, 'c': 3}\n"
     ]
    }
   ],
   "source": [
    "keys = ['a','b','c']\n",
    "values = [ 1,2,3]\n",
    "my_dict = {keys[i]:values[i] for i in range(len(keys))}\n",
    "print(my_dict)"
   ]
  },
  {
   "cell_type": "markdown",
   "id": "2bcbf239-7172-4020-8942-2ca3713d981a",
   "metadata": {},
   "source": [
    "# swapping keys and values"
   ]
  },
  {
   "cell_type": "markdown",
   "id": "a3070da2-9095-48f4-929b-b54f4ba98c81",
   "metadata": {},
   "source": [
    "### Que 4) Create a dictionary by swapping keys and values from another dictionary ?"
   ]
  },
  {
   "cell_type": "code",
   "execution_count": 5,
   "id": "51726116-d60c-4bc0-8a9b-73d3104dde75",
   "metadata": {},
   "outputs": [
    {
     "name": "stdout",
     "output_type": "stream",
     "text": [
      "{1: 'a', 2: 'b', 3: 'c'}\n"
     ]
    }
   ],
   "source": [
    "original = {'a':1,'b':2,'c':3}\n",
    "swapped = {v:k for k , v in original.items()}\n",
    "print(swapped)"
   ]
  },
  {
   "cell_type": "markdown",
   "id": "0d42bdac-61c1-4d5e-9b75-ed3abc1e092f",
   "metadata": {},
   "source": [
    "# Filtering items based on value"
   ]
  },
  {
   "cell_type": "code",
   "execution_count": 6,
   "id": "cbbca07e-e9d9-46ae-9e2c-3f4a7136e3c1",
   "metadata": {},
   "outputs": [],
   "source": [
    "## create a dictionary where the values are only included if they satisfy a certain conditon"
   ]
  },
  {
   "cell_type": "markdown",
   "id": "e6a219d7-fd44-4709-a239-077736886426",
   "metadata": {},
   "source": [
    "### Que 5) Filter out all entries where the value is less than 5 ?"
   ]
  },
  {
   "cell_type": "code",
   "execution_count": 7,
   "id": "ae825e66-77b3-4468-a87b-e95781c11bd1",
   "metadata": {},
   "outputs": [
    {
     "name": "stdout",
     "output_type": "stream",
     "text": [
      "{'b': 6, 'd': 10}\n"
     ]
    }
   ],
   "source": [
    "original = {'a':1,'b':6,'c':3,'d':10}\n",
    "filtered = {k:v for k,v in original.items() if v >= 5}\n",
    "print(filtered)"
   ]
  },
  {
   "cell_type": "markdown",
   "id": "acab0d7a-5427-48ab-8203-206559a530e5",
   "metadata": {},
   "source": [
    "# Transforming values"
   ]
  },
  {
   "cell_type": "code",
   "execution_count": 8,
   "id": "1ee96e1d-0a4c-49aa-a40d-1113675fa661",
   "metadata": {},
   "outputs": [],
   "source": [
    "# you can transform the values of an existing dictionary while keeping the keys intact ."
   ]
  },
  {
   "cell_type": "markdown",
   "id": "5c5cc6fa-b2bd-4740-bb42-8b61acab9095",
   "metadata": {},
   "source": [
    "###  Que 6) Multiply each value by 10."
   ]
  },
  {
   "cell_type": "code",
   "execution_count": 9,
   "id": "4128f296-8ed1-467b-8fcf-1a136f2d7e9e",
   "metadata": {},
   "outputs": [
    {
     "name": "stdout",
     "output_type": "stream",
     "text": [
      "{'a': 10, 'b': 20, 'c': 30}\n"
     ]
    }
   ],
   "source": [
    "original = {'a':1,'b':2,'c':3}\n",
    "transformed = {k:v*10 for k, v in original.items()}\n",
    "print(transformed)"
   ]
  },
  {
   "cell_type": "markdown",
   "id": "0f15dead-d7fd-4240-a3e6-6ded2189a195",
   "metadata": {},
   "source": [
    "# Nested Dictionary Comprehension"
   ]
  },
  {
   "cell_type": "code",
   "execution_count": 10,
   "id": "df2147d3-7727-4263-8454-8a1923c02ad8",
   "metadata": {},
   "outputs": [],
   "source": [
    "# you can have a dictionary comprehension inside another dictionary comprehension."
   ]
  },
  {
   "cell_type": "markdown",
   "id": "e9fc75a7-9950-4217-a133-0e84ffcfbeb2",
   "metadata": {},
   "source": [
    "##### Que 7) Create a dictionary of dictionaries,where each key is associated with  another dictionary containing the square and cube of the number ?"
   ]
  },
  {
   "cell_type": "code",
   "execution_count": 11,
   "id": "a2c8fc42-7343-43a7-8a39-13c7a6438dcd",
   "metadata": {},
   "outputs": [
    {
     "name": "stdout",
     "output_type": "stream",
     "text": [
      "{1: {'square': 1, 'cube': 1}, 2: {'square': 4, 'cube': 8}, 3: {'square': 9, 'cube': 27}, 4: {'square': 16, 'cube': 64}}\n"
     ]
    }
   ],
   "source": [
    "numbers = [1,2,3,4]\n",
    "nested_dict = {x:{'square':x**2,'cube':x**3} for x in numbers}\n",
    "print(nested_dict)"
   ]
  },
  {
   "cell_type": "markdown",
   "id": "98c7e4a6-d55a-489c-809a-6d1a5f97f1ad",
   "metadata": {},
   "source": [
    "# Creating a dictionary from two lists with a condition"
   ]
  },
  {
   "cell_type": "markdown",
   "id": "51308bd2-691e-47ae-b683-61ff713d8daa",
   "metadata": {},
   "source": [
    "##### Que 8) create a dictionary from two lists , where the key is an elements from the first list and the value is an element from the second list , but  only if the index of the key is even ?"
   ]
  },
  {
   "cell_type": "code",
   "execution_count": 16,
   "id": "5ef93280-034b-4b2a-9049-606458b474b0",
   "metadata": {},
   "outputs": [
    {
     "name": "stdout",
     "output_type": "stream",
     "text": [
      "{'a': 1, 'c': 3}\n"
     ]
    }
   ],
   "source": [
    "keys = ['a','b','c','d']\n",
    "values = [1,2,3,4]\n",
    "filtered_dict = {keys[i]:values[i] for i in range(len(keys)) if i % 2 == 0}\n",
    "print(filtered_dict)"
   ]
  },
  {
   "cell_type": "markdown",
   "id": "5a1c22bc-8156-495d-8222-afd02e30cb2b",
   "metadata": {},
   "source": [
    "# Creating a dictionary from tuples"
   ]
  },
  {
   "cell_type": "code",
   "execution_count": 17,
   "id": "5a2d6164-ead1-426c-a2e0-0da9d0e57412",
   "metadata": {},
   "outputs": [],
   "source": [
    "## you can use tuples to form key-value pairs for a dictionary."
   ]
  },
  {
   "cell_type": "markdown",
   "id": "6f2198dd-510b-4900-a6fc-add1397813ae",
   "metadata": {},
   "source": [
    "### Que 9) Convert a list of tuples into a dictionary ?"
   ]
  },
  {
   "cell_type": "code",
   "execution_count": 18,
   "id": "291e293d-363c-4fc0-b7bb-1389585103a0",
   "metadata": {},
   "outputs": [
    {
     "name": "stdout",
     "output_type": "stream",
     "text": [
      "{'a': 1, 'b': 2, 'c': 3}\n"
     ]
    }
   ],
   "source": [
    "tuples = [('a',1),('b',2),('c',3)]\n",
    "my_dict = {key: value for key , value in tuples}\n",
    "print(my_dict)"
   ]
  },
  {
   "cell_type": "markdown",
   "id": "5e8f376a-abc1-4f84-bc59-27acf68b4f39",
   "metadata": {},
   "source": [
    "# Handling Missing Keys(Default Value)"
   ]
  },
  {
   "cell_type": "code",
   "execution_count": 19,
   "id": "89307793-8750-4e36-8570-a31dd1f92b7e",
   "metadata": {},
   "outputs": [],
   "source": [
    "# using dictionary comprehension to add default values if the key is missing."
   ]
  },
  {
   "cell_type": "markdown",
   "id": "6a604940-000b-4ccd-a8cf-d96f29169153",
   "metadata": {},
   "source": [
    "### Que 10) Add  a default value if a key is not found in a dictionary ?"
   ]
  },
  {
   "cell_type": "code",
   "execution_count": 20,
   "id": "2305e4fe-e3e0-4986-ad29-2c9a8d23fe02",
   "metadata": {},
   "outputs": [
    {
     "name": "stdout",
     "output_type": "stream",
     "text": [
      "{'a': 1, 'b': 2, 'c': 3, 'd': 0}\n"
     ]
    }
   ],
   "source": [
    "keys = ['a','b','c','d']\n",
    "values = [1,2,3]\n",
    "my_dict = {k:values[i] if i < len(values) else 0 for i, k in enumerate(keys)}\n",
    "print(my_dict)"
   ]
  },
  {
   "cell_type": "code",
   "execution_count": null,
   "id": "2112ee6e-052f-4e00-a120-3b04d3f3b785",
   "metadata": {},
   "outputs": [],
   "source": []
  }
 ],
 "metadata": {
  "kernelspec": {
   "display_name": "Python 3 (ipykernel)",
   "language": "python",
   "name": "python3"
  },
  "language_info": {
   "codemirror_mode": {
    "name": "ipython",
    "version": 3
   },
   "file_extension": ".py",
   "mimetype": "text/x-python",
   "name": "python",
   "nbconvert_exporter": "python",
   "pygments_lexer": "ipython3",
   "version": "3.12.4"
  }
 },
 "nbformat": 4,
 "nbformat_minor": 5
}
