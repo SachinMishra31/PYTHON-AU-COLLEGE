{
 "cells": [
  {
   "cell_type": "code",
   "execution_count": 3,
   "id": "8e7f78bf-c48b-4a03-8974-c70c25a92d94",
   "metadata": {},
   "outputs": [
    {
     "name": "stdout",
     "output_type": "stream",
     "text": [
      "d\n",
      "d\n"
     ]
    }
   ],
   "source": [
    "# String operation and Methods\n",
    "import math\n",
    "str=\"welcom world\"\n",
    "print(str[11])\n",
    "print(str[-1])"
   ]
  },
  {
   "cell_type": "code",
   "execution_count": 3,
   "id": "121c806a-03a9-4ced-ab28-534124f9134c",
   "metadata": {},
   "outputs": [
    {
     "name": "stdout",
     "output_type": "stream",
     "text": [
      "he\n",
      "llo world\n",
      "hello wor\n",
      "ld\n",
      "ell\n",
      "ello wo\n",
      "ello wo\n"
     ]
    }
   ],
   "source": [
    "a='hello world'\n",
    "print(a[:2])\n",
    "print(a[2:])\n",
    "print(a[:-2])\n",
    "print(a[-2:])\n",
    "print(a[1:4])\n",
    "print(a[1:8])\n",
    "print(a[1:-3])"
   ]
  },
  {
   "cell_type": "code",
   "execution_count": 5,
   "id": "465b2c73-3a9b-48bc-9bf9-6d79031c9749",
   "metadata": {},
   "outputs": [
    {
     "name": "stdout",
     "output_type": "stream",
     "text": [
      "dlrow olleh\n",
      "drwolh\n",
      "hlowrd\n",
      "llo world\n",
      "ld\n",
      "dwl\n",
      "hlowrd\n"
     ]
    }
   ],
   "source": [
    "a='hello world'\n",
    "print(a[::-1])\n",
    "print(a[::-2])\n",
    "print(a[::2])\n",
    "print(a[2::])\n",
    "print(a[-2::])\n",
    "print(a[::-4])\n",
    "print(a[0:11:2])"
   ]
  },
  {
   "cell_type": "code",
   "execution_count": 7,
   "id": "41107c6f-487a-479a-ae7e-b0d6a46d6a1a",
   "metadata": {},
   "outputs": [
    {
     "data": {
      "text/plain": [
       "'chunnuchunnumunnu'"
      ]
     },
     "execution_count": 7,
     "metadata": {},
     "output_type": "execute_result"
    }
   ],
   "source": [
    "2*'chunnu'+'munnu'"
   ]
  },
  {
   "cell_type": "code",
   "execution_count": 9,
   "id": "395d39a3-fa1c-42ed-851a-727aa6c838ef",
   "metadata": {},
   "outputs": [
    {
     "name": "stdout",
     "output_type": "stream",
     "text": [
      "654\n"
     ]
    }
   ],
   "source": [
    "m=\"456\"\n",
    "print(m[::-1])"
   ]
  },
  {
   "cell_type": "code",
   "execution_count": null,
   "id": "25543331-a199-44d3-b0f3-c5e770e7e95a",
   "metadata": {},
   "outputs": [],
   "source": [
    "#PRACTICE SESSION\n",
    "#VARIABLES AND DATA TYPES"
   ]
  },
  {
   "cell_type": "code",
   "execution_count": 11,
   "id": "90dd54b9-54d5-4bf8-adc5-9f79647c51fe",
   "metadata": {},
   "outputs": [
    {
     "name": "stdout",
     "output_type": "stream",
     "text": [
      "ALL IS WELL\n",
      "False\n",
      "False\n",
      "True\n",
      "False\n",
      "False\n"
     ]
    }
   ],
   "source": [
    "#que 1\n",
    "\n",
    "x=\"ALL IS WELL\"\n",
    "print(x)\n",
    "\n",
    "print(x.isalpha())\n",
    "print(x.islower())\n",
    "print(x.isupper())\n",
    "print(x.isdigit())\n",
    "print(x.isalnum())\n"
   ]
  },
  {
   "cell_type": "code",
   "execution_count": null,
   "id": "2dc37415-8328-496b-b6ae-459aa16d44b1",
   "metadata": {},
   "outputs": [],
   "source": [
    "#que 2\n",
    "\n",
    "x = \"WE ARE DATA SCIENTIST\"\n"
   ]
  }
 ],
 "metadata": {
  "kernelspec": {
   "display_name": "Python 3 (ipykernel)",
   "language": "python",
   "name": "python3"
  },
  "language_info": {
   "codemirror_mode": {
    "name": "ipython",
    "version": 3
   },
   "file_extension": ".py",
   "mimetype": "text/x-python",
   "name": "python",
   "nbconvert_exporter": "python",
   "pygments_lexer": "ipython3",
   "version": "3.12.4"
  }
 },
 "nbformat": 4,
 "nbformat_minor": 5
}
