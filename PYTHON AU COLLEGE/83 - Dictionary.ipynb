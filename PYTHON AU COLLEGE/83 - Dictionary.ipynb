{
 "cells": [
  {
   "cell_type": "code",
   "execution_count": 1,
   "id": "2eab070b-fe47-4708-b858-020e0d328ada",
   "metadata": {},
   "outputs": [],
   "source": [
    "## unordered ,indexed and changeable\n",
    "\n",
    "## Dictionary holds key:value\n",
    "\n",
    "## keys cant be repeated"
   ]
  },
  {
   "cell_type": "markdown",
   "id": "d20c0bde-c64a-40b9-9442-d5eab3aeb435",
   "metadata": {},
   "source": [
    "## Creating an empty dictionary"
   ]
  },
  {
   "cell_type": "markdown",
   "id": "2c704ba8-6e23-4c3f-a184-75ab687c5b81",
   "metadata": {},
   "source": [
    "## Creating a dictionary with integer keys"
   ]
  },
  {
   "cell_type": "code",
   "execution_count": 2,
   "id": "c23b58f8-c9b6-401a-bebd-d77b757abf4d",
   "metadata": {},
   "outputs": [
    {
     "name": "stdout",
     "output_type": "stream",
     "text": [
      "{1: 'Focus', 2: 'Academy', 3: 'for', 4: 'career', 5: 'Enhancement'}\n"
     ]
    }
   ],
   "source": [
    "dic = {1:\"Focus\",2:\"Academy\",3:\"for\",4:\"career\",5:\"Enhancement\"}\n",
    "print(dic)"
   ]
  },
  {
   "cell_type": "markdown",
   "id": "36c9af96-6e59-47a3-8229-bbacde434d4d",
   "metadata": {},
   "source": [
    "## Creating a dictionary with Mixed keys"
   ]
  },
  {
   "cell_type": "code",
   "execution_count": 3,
   "id": "442e7668-3ff5-43fb-8996-c5fa9bd50c1c",
   "metadata": {},
   "outputs": [
    {
     "ename": "SyntaxError",
     "evalue": "incomplete input (174944046.py, line 1)",
     "output_type": "error",
     "traceback": [
      "\u001b[1;36m  Cell \u001b[1;32mIn[3], line 1\u001b[1;36m\u001b[0m\n\u001b[1;33m    dic = {1:(2,4,5),\"Name\":\"FACE\",f\u001b[0m\n\u001b[1;37m                                    ^\u001b[0m\n\u001b[1;31mSyntaxError\u001b[0m\u001b[1;31m:\u001b[0m incomplete input\n"
     ]
    }
   ],
   "source": [
    "dic = {1:(2,4,5),\"Name\":\"FACE\",f"
   ]
  },
  {
   "cell_type": "markdown",
   "id": "763c3ef2-3eb2-4de9-9548-20c1d4807e40",
   "metadata": {},
   "source": [
    "## Creating a dictionary with dict()"
   ]
  },
  {
   "cell_type": "code",
   "execution_count": null,
   "id": "70249165-17c0-4e51-bae9-27bf49420cf2",
   "metadata": {},
   "outputs": [],
   "source": [
    "dic = {1:[2,4,5],\"Name\":\"FACE\",\"FACE\",4:"
   ]
  },
  {
   "cell_type": "markdown",
   "id": "67c068e0-dbfe-4c29-a7ab-12a1378bd041",
   "metadata": {},
   "source": [
    "## Creating a dictionary with pair elements"
   ]
  },
  {
   "cell_type": "code",
   "execution_count": 4,
   "id": "c0542493-e551-4c62-93c7-2ba6c897ec47",
   "metadata": {},
   "outputs": [
    {
     "name": "stdout",
     "output_type": "stream",
     "text": [
      "{1: 2, 'Name': 'FACE', 4: 5}\n"
     ]
    }
   ],
   "source": [
    "dic = dict([(1,2),(\"Name\",\"FACE\"),(4,5)])\n",
    "print(dic)\n"
   ]
  },
  {
   "cell_type": "markdown",
   "id": "d8472d40-239f-4515-8858-f534bb5cca42",
   "metadata": {},
   "source": [
    "## Creating a nested dictionary "
   ]
  },
  {
   "cell_type": "code",
   "execution_count": 5,
   "id": "8940601c-5fa4-4bf1-b464-50254c4c8b8e",
   "metadata": {},
   "outputs": [
    {
     "name": "stdout",
     "output_type": "stream",
     "text": [
      "{1: 'FACE', 2: 4, 3: {5: 'hello', 6: 9.5}}\n"
     ]
    }
   ],
   "source": [
    "dic = {1:\"FACE\",2:4,3:{5:\"hello\",6:9.5}}\n",
    "print(dic)"
   ]
  },
  {
   "cell_type": "markdown",
   "id": "ffcee892-8482-4480-87f0-ee4874579016",
   "metadata": {},
   "source": [
    "## Adding elements to a dictionary"
   ]
  },
  {
   "cell_type": "code",
   "execution_count": 6,
   "id": "97236e1e-dc31-41e2-ab0c-05254b415728",
   "metadata": {},
   "outputs": [
    {
     "name": "stdout",
     "output_type": "stream",
     "text": [
      "{0: 'Apple', 1: 'Hard', 3: 'work'}\n"
     ]
    }
   ],
   "source": [
    "dic = {}\n",
    "dic[0] = \"Apple\"\n",
    "dic[1] = \"Hard\"\n",
    "dic[3] = \"work\" \n",
    "print(dic)\n",
    "dic['new_set'] = 1,5,8"
   ]
  },
  {
   "cell_type": "code",
   "execution_count": 7,
   "id": "ca61ec11-3ec1-48f8-a049-1eac380e8e04",
   "metadata": {},
   "outputs": [
    {
     "name": "stdout",
     "output_type": "stream",
     "text": [
      "{0: 'Apple', 1: 'Hard', 3: 'work', 'new_set': (1, 5, 8)}\n"
     ]
    }
   ],
   "source": [
    "print(dic)"
   ]
  },
  {
   "cell_type": "code",
   "execution_count": 8,
   "id": "446fde1e-17f3-42a3-849c-4500e7296d2b",
   "metadata": {},
   "outputs": [],
   "source": [
    "dic[0] = \"Google\""
   ]
  },
  {
   "cell_type": "code",
   "execution_count": 9,
   "id": "bfe9031f-4c55-4bee-81ae-de12ac0221a7",
   "metadata": {},
   "outputs": [
    {
     "name": "stdout",
     "output_type": "stream",
     "text": [
      "{0: 'Google', 1: 'Hard', 3: 'work', 'new_set': (1, 5, 8)}\n"
     ]
    }
   ],
   "source": [
    "print(dic)"
   ]
  },
  {
   "cell_type": "markdown",
   "id": "1f46dd3c-0dfe-4d93-93d6-3b75a071327e",
   "metadata": {},
   "source": [
    "## Accessing elements using key"
   ]
  },
  {
   "cell_type": "code",
   "execution_count": 10,
   "id": "7ea53364-1d71-43c5-adb7-ba14d114fa7d",
   "metadata": {},
   "outputs": [
    {
     "name": "stdout",
     "output_type": "stream",
     "text": [
      "{0: 'Google', 1: 'Hard', 3: 'work', 'new_set': (1, 5, 8)}\n"
     ]
    }
   ],
   "source": [
    "dic = {0: 'Google', 1: 'Hard', 3: 'work', 'new_set': (1, 5, 8)}\n",
    "print(dic)"
   ]
  },
  {
   "cell_type": "markdown",
   "id": "f9301d33-4706-4169-b765-65d1d99a6be4",
   "metadata": {},
   "source": [
    "## Accessing elements using using get()"
   ]
  },
  {
   "cell_type": "code",
   "execution_count": 11,
   "id": "9e3ca03a-72ae-4be8-a179-a6aabf4a8bfb",
   "metadata": {},
   "outputs": [
    {
     "name": "stdout",
     "output_type": "stream",
     "text": [
      "(1, 5, 8)\n",
      "Hard\n"
     ]
    }
   ],
   "source": [
    "dic = {0: 'Apple', 1: 'Hard', 3: 'work', 'new_set': (1, 5, 8)}\n",
    "print(dic.get(\"new_set\"))\n",
    "print(dic.get(1))"
   ]
  },
  {
   "cell_type": "markdown",
   "id": "cb1aaae1-b5ff-4292-a27f-7f7f5765031b",
   "metadata": {},
   "source": [
    "## Removing elements"
   ]
  },
  {
   "cell_type": "code",
   "execution_count": 12,
   "id": "b439c74c-157d-4949-ad03-55e1de0804b4",
   "metadata": {},
   "outputs": [
    {
     "name": "stdout",
     "output_type": "stream",
     "text": [
      "{0: 'Apple', 1: 'Hard', 3: 'work'}\n"
     ]
    }
   ],
   "source": [
    "dic = {0: 'Apple', 1: 'Hard', 3: 'work', 'new_set': (1, 5, 8)}\n",
    "dic.pop(\"new_set\")\n",
    "print(dic)"
   ]
  },
  {
   "cell_type": "code",
   "execution_count": 13,
   "id": "2b760ba4-41ec-4e18-b9af-23d4848146ea",
   "metadata": {},
   "outputs": [
    {
     "name": "stdout",
     "output_type": "stream",
     "text": [
      "{0: 'Apple', 1: 'Hard'}\n"
     ]
    }
   ],
   "source": [
    "del dic[3]\n",
    "print(dic)"
   ]
  },
  {
   "cell_type": "code",
   "execution_count": null,
   "id": "0b56e5ab-a57b-44e4-98bf-aafea12ee30d",
   "metadata": {},
   "outputs": [],
   "source": [
    "clear dic"
   ]
  }
 ],
 "metadata": {
  "kernelspec": {
   "display_name": "Python 3 (ipykernel)",
   "language": "python",
   "name": "python3"
  },
  "language_info": {
   "codemirror_mode": {
    "name": "ipython",
    "version": 3
   },
   "file_extension": ".py",
   "mimetype": "text/x-python",
   "name": "python",
   "nbconvert_exporter": "python",
   "pygments_lexer": "ipython3",
   "version": "3.12.4"
  }
 },
 "nbformat": 4,
 "nbformat_minor": 5
}
