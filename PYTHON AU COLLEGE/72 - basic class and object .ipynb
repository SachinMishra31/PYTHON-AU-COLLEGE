{
 "cells": [
  {
   "cell_type": "markdown",
   "id": "4cb19acc-db7e-4bfd-9b4e-02a95dbb970d",
   "metadata": {},
   "source": [
    "# Predict the output"
   ]
  },
  {
   "cell_type": "code",
   "execution_count": 1,
   "id": "817c49a7-f9aa-437c-9ed9-03f9f525cd37",
   "metadata": {},
   "outputs": [
    {
     "name": "stdout",
     "output_type": "stream",
     "text": [
      "welcome to oops concept\n"
     ]
    }
   ],
   "source": [
    "class python:\n",
    "    def fun(self):\n",
    "        print(\"welcome to oops concept\")\n",
    "pyt = python()\n",
    "pyt.fun()"
   ]
  },
  {
   "cell_type": "code",
   "execution_count": 21,
   "id": "e3a5c2df-950e-47c9-bac1-be2526483d58",
   "metadata": {},
   "outputs": [
    {
     "name": "stdout",
     "output_type": "stream",
     "text": [
      "Name:  AUDI ID:  2000000\n"
     ]
    }
   ],
   "source": [
    "class Car:\n",
    "    'common_car'\n",
    "    car_count = 0 \n",
    "\n",
    "    \n",
    "    def __init__(self, name, id):\n",
    "        self.name = name\n",
    "        self.id = id\n",
    "        Car.car_count += 1  \n",
    "\n",
    "    \n",
    "    def print_car_data(self):\n",
    "        print(\"Name: \", self.name, \"ID: \", self.id)\n",
    "\n",
    "\n",
    "\n",
    "c = Car(\"AUDI\", 2000000)\n",
    "c.print_car_data()"
   ]
  },
  {
   "cell_type": "code",
   "execution_count": 23,
   "id": "cb8b6a94-5421-49e9-a470-c4a563beb00b",
   "metadata": {},
   "outputs": [
    {
     "name": "stdout",
     "output_type": "stream",
     "text": [
      "xxxxx 26 30000\n"
     ]
    }
   ],
   "source": [
    "class Employee:\n",
    "    def __init__(self,n,a,s):\n",
    "        self.name = n\n",
    "        self.age = a\n",
    "        self.salary = s\n",
    "    def display_data(self):\n",
    "        print(self.name,self.age,self.salary)\n",
    "\n",
    "\n",
    "\n",
    "e1 = Employee(\"xxxxx\",26,30000)\n",
    "e1.display_data()"
   ]
  },
  {
   "cell_type": "code",
   "execution_count": 25,
   "id": "bd132f7b-a863-4476-b28d-4c3b97c9305d",
   "metadata": {},
   "outputs": [
    {
     "name": "stdout",
     "output_type": "stream",
     "text": [
      "positive\n"
     ]
    }
   ],
   "source": [
    "class Number:\n",
    "    def __init__(self,n):\n",
    "        self.number = n\n",
    "\n",
    "    def check_num(self):\n",
    "        if self.number > 0:\n",
    "            print(\"positive\")\n",
    "        else:\n",
    "            print(\"Negative\")\n",
    "\n",
    "n1 = Number(26)\n",
    "n1.check_num()"
   ]
  },
  {
   "cell_type": "code",
   "execution_count": 28,
   "id": "13123d82-0893-4b0b-a46d-8d4697e2284c",
   "metadata": {},
   "outputs": [
    {
     "name": "stdout",
     "output_type": "stream",
     "text": [
      "eagle Crow sparrow\n"
     ]
    }
   ],
   "source": [
    "class Birds:\n",
    "    def __init__(self,b1,b2,b3):\n",
    "        self.b1=b1\n",
    "        self.b2=b2\n",
    "        self.b3=b3\n",
    "        \n",
    "    def printdata(self):\n",
    "        print(self.b1,self.b2,self.b3)\n",
    "        \n",
    "b=Birds(\"eagle\",\"Crow\",\"sparrow\")\n",
    "b.printdata()"
   ]
  },
  {
   "cell_type": "code",
   "execution_count": 29,
   "id": "2d0de358-e3c2-411d-8bb4-ac6821b9a365",
   "metadata": {},
   "outputs": [
    {
     "name": "stdout",
     "output_type": "stream",
     "text": [
      "Hell0\n",
      "10\n"
     ]
    }
   ],
   "source": [
    "## class object\n",
    "\n",
    "class Test:\n",
    "    x = 10 # static variable\n",
    "    def __init__(self):\n",
    "        print(\"Hell0\")\n",
    "\n",
    "t = Test()\n",
    "print(Test.x) # Test is the class object\n",
    "    "
   ]
  },
  {
   "cell_type": "code",
   "execution_count": 31,
   "id": "a6606ab1-565b-4dc0-bbf0-2705bc6ed1bd",
   "metadata": {},
   "outputs": [
    {
     "name": "stdout",
     "output_type": "stream",
     "text": [
      "Total cars :  0\n",
      "Name:  AUDI ID:  2000000\n",
      "Name:  BENZ ID:  3000000\n",
      "Name:  BMW ID:  1000000\n"
     ]
    }
   ],
   "source": [
    "class Car:\n",
    "    'common_car'\n",
    "    car_count = 0 \n",
    "\n",
    "    \n",
    "    def __init__(self, name, id):\n",
    "        self.name = name\n",
    "        self.id = id\n",
    "        Car.car_count += 1  \n",
    "\n",
    "    \n",
    "    def print_car_data(self):\n",
    "        print(\"Name: \", self.name, \"ID: \", self.id)\n",
    "\n",
    "\n",
    "\n",
    "c = Car(\"AUDI\", 2000000)\n",
    "c1 = Car(\"BENZ\", 3000000)\n",
    "c2 = Car(\"BMW\", 1000000)\n",
    "print(\"Total cars : \" ,car.car_count)\n",
    "c.print_car_data()\n",
    "c1.print_car_data()\n",
    "c2.print_car_data()\n",
    "\n"
   ]
  },
  {
   "cell_type": "code",
   "execution_count": 33,
   "id": "9e85eaa7-f01b-4383-8015-09f3e357ed6f",
   "metadata": {},
   "outputs": [
    {
     "name": "stdout",
     "output_type": "stream",
     "text": [
      "car\n"
     ]
    }
   ],
   "source": [
    "class test:\n",
    "    def __init__(self):\n",
    "        self.variable = 'car'\n",
    "        self.change(self.variable)\n",
    "    def change(self,var):\n",
    "        var = 'Bike'\n",
    "\n",
    "obj = test()\n",
    "print(obj.variable)"
   ]
  },
  {
   "cell_type": "code",
   "execution_count": 1,
   "id": "91c7a089-a8e1-4e66-8a09-601e4dedf8fb",
   "metadata": {},
   "outputs": [
    {
     "name": "stdout",
     "output_type": "stream",
     "text": [
      "seru says bhoo!\n",
      "seru is a 3-year-old desi dog.\n"
     ]
    }
   ],
   "source": [
    "class Dog:\n",
    "    def __init__(self, name, breed, age):\n",
    "        self.name = name\n",
    "        self.breed = breed\n",
    "        self.age = age\n",
    "\n",
    "    def bark(self):\n",
    "        return f\"{self.name} says bhoo!\"\n",
    "\n",
    "    def info(self):\n",
    "        return f\"{self.name} is a {self.age}-year-old {self.breed}.\"\n",
    "\n",
    "# Example usage\n",
    "dog1 = Dog(\"seru\", \"desi dog\", 3)\n",
    "print(dog1.bark())\n",
    "print(dog1.info())"
   ]
  },
  {
   "cell_type": "code",
   "execution_count": null,
   "id": "edcb5e67-7618-4f69-a7a5-3d8f56fc1dbc",
   "metadata": {},
   "outputs": [],
   "source": []
  }
 ],
 "metadata": {
  "kernelspec": {
   "display_name": "Python 3 (ipykernel)",
   "language": "python",
   "name": "python3"
  },
  "language_info": {
   "codemirror_mode": {
    "name": "ipython",
    "version": 3
   },
   "file_extension": ".py",
   "mimetype": "text/x-python",
   "name": "python",
   "nbconvert_exporter": "python",
   "pygments_lexer": "ipython3",
   "version": "3.12.4"
  }
 },
 "nbformat": 4,
 "nbformat_minor": 5
}
