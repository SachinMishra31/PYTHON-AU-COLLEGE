{
 "cells": [
  {
   "cell_type": "markdown",
   "id": "9c7aa39a-14cc-4060-a4d5-655cc59fb778",
   "metadata": {},
   "source": [
    "# Indexing"
   ]
  },
  {
   "cell_type": "markdown",
   "id": "aecd0777-db74-40a9-9d43-a0967f97e293",
   "metadata": {},
   "source": [
    "### Que 1) What is the way to print all the elements in the list?"
   ]
  },
  {
   "cell_type": "code",
   "execution_count": 1,
   "id": "6123061b-02de-45d1-b45a-2378509602d0",
   "metadata": {},
   "outputs": [
    {
     "name": "stdout",
     "output_type": "stream",
     "text": [
      "10 20 30 40 "
     ]
    }
   ],
   "source": [
    "a = [10,20,30,40]\n",
    "for i in a:\n",
    "    print(i,end=\" \")"
   ]
  },
  {
   "cell_type": "markdown",
   "id": "432b7c21-74e6-4d43-bfa9-3aadd89a86c1",
   "metadata": {},
   "source": [
    "### Que 2) How to check whether the element is present in the list or not? need to check whether elements 30 is present in the above list or not"
   ]
  },
  {
   "cell_type": "code",
   "execution_count": 2,
   "id": "014978ff-0047-465c-adc5-8e9269c6818e",
   "metadata": {},
   "outputs": [
    {
     "name": "stdout",
     "output_type": "stream",
     "text": [
      "value found\n"
     ]
    }
   ],
   "source": [
    "for i in a:\n",
    "    if i == 30:\n",
    "        print(\"value found\")\n",
    "        break\n",
    "else:\n",
    "    print(\"value not found\")"
   ]
  },
  {
   "cell_type": "markdown",
   "id": "e037f7d2-451e-4560-b107-b376d70819de",
   "metadata": {},
   "source": [
    "### Que 3) Write a python code to find the index value of a nmumber 30 in the list a(a=[10,20,30,40])"
   ]
  },
  {
   "cell_type": "code",
   "execution_count": 3,
   "id": "e1104b80-f3ec-471f-96fc-84c1e907b260",
   "metadata": {},
   "outputs": [
    {
     "name": "stdout",
     "output_type": "stream",
     "text": [
      "2\n"
     ]
    }
   ],
   "source": [
    "for i in range(len(a)):\n",
    "    if a[i] == 30:\n",
    "        print(i)\n",
    "        break"
   ]
  },
  {
   "cell_type": "markdown",
   "id": "077d80af-74b3-4391-9eaa-4aeff83645f0",
   "metadata": {},
   "source": [
    "# Reverse Indexing"
   ]
  },
  {
   "cell_type": "code",
   "execution_count": 4,
   "id": "e9a9e958-ca09-4ad1-addf-0d4e6ad9ac4a",
   "metadata": {},
   "outputs": [
    {
     "name": "stdout",
     "output_type": "stream",
     "text": [
      "7\n"
     ]
    }
   ],
   "source": [
    "items = [ 10,20,30,40,50,60,70,80]\n",
    "print(items.index(80))"
   ]
  },
  {
   "cell_type": "code",
   "execution_count": 6,
   "id": "1f1de934-adf6-4d78-b88a-ec2a5c794271",
   "metadata": {},
   "outputs": [
    {
     "name": "stdout",
     "output_type": "stream",
     "text": [
      "[1, 'ABC', 84.9, 'a']\n"
     ]
    }
   ],
   "source": [
    "information = [1,\"ABC\",84.9,'a']\n",
    "print(information)"
   ]
  },
  {
   "cell_type": "code",
   "execution_count": 7,
   "id": "a63a2567-28a3-451a-8186-7e1fae2d5367",
   "metadata": {},
   "outputs": [],
   "source": [
    "information += \"Hello\""
   ]
  },
  {
   "cell_type": "markdown",
   "id": "758308bd-3b14-4104-a5ac-9a84eb306c5f",
   "metadata": {},
   "source": [
    "information"
   ]
  },
  {
   "cell_type": "code",
   "execution_count": 10,
   "id": "29a93eff-71fc-484b-90eb-9858533757cf",
   "metadata": {},
   "outputs": [],
   "source": [
    "information*= 2"
   ]
  },
  {
   "cell_type": "code",
   "execution_count": 11,
   "id": "10ff211c-7093-4e6a-b65d-131af3aa2afd",
   "metadata": {},
   "outputs": [
    {
     "data": {
      "text/plain": [
       "[1,\n",
       " 'ABC',\n",
       " 84.9,\n",
       " 'a',\n",
       " 'H',\n",
       " 'e',\n",
       " 'l',\n",
       " 'l',\n",
       " 'o',\n",
       " 1,\n",
       " 'ABC',\n",
       " 84.9,\n",
       " 'a',\n",
       " 'H',\n",
       " 'e',\n",
       " 'l',\n",
       " 'l',\n",
       " 'o']"
      ]
     },
     "execution_count": 11,
     "metadata": {},
     "output_type": "execute_result"
    }
   ],
   "source": [
    "information"
   ]
  },
  {
   "cell_type": "markdown",
   "id": "ede6da34-ad03-4cbe-ba47-726fb5427b61",
   "metadata": {},
   "source": [
    "### write a python code to achieve the  output= 'xyz','a','e'"
   ]
  },
  {
   "cell_type": "code",
   "execution_count": 12,
   "id": "33e60f27-cd06-4741-b6ef-e242149ba570",
   "metadata": {},
   "outputs": [
    {
     "data": {
      "text/plain": [
       "['ABC', 'a', 'e']"
      ]
     },
     "execution_count": 12,
     "metadata": {},
     "output_type": "execute_result"
    }
   ],
   "source": [
    "information[1:6:2]"
   ]
  },
  {
   "cell_type": "markdown",
   "id": "79e8e895-d424-4660-aa59-263ad57d0ae1",
   "metadata": {},
   "source": [
    "### Write a python code to create a list 100 elements , where all the entries are same number , and the number is given the user"
   ]
  },
  {
   "cell_type": "code",
   "execution_count": 13,
   "id": "deb2ad3c-be59-49c4-902f-ebeecdd4848b",
   "metadata": {},
   "outputs": [
    {
     "name": "stdin",
     "output_type": "stream",
     "text": [
      "Enter a number:  4\n"
     ]
    },
    {
     "name": "stdout",
     "output_type": "stream",
     "text": [
      "[4, 4, 4, 4, 4, 4, 4, 4, 4, 4, 4, 4, 4, 4, 4, 4, 4, 4, 4, 4, 4, 4, 4, 4, 4, 4, 4, 4, 4, 4, 4, 4, 4, 4, 4, 4, 4, 4, 4, 4, 4, 4, 4, 4, 4, 4, 4, 4, 4, 4, 4, 4, 4, 4, 4, 4, 4, 4, 4, 4, 4, 4, 4, 4, 4, 4, 4, 4, 4, 4, 4, 4, 4, 4, 4, 4, 4, 4, 4, 4, 4, 4, 4, 4, 4, 4, 4, 4, 4, 4, 4, 4, 4, 4, 4, 4, 4, 4, 4, 4]\n"
     ]
    }
   ],
   "source": [
    "user_number = int(input(\"Enter a number: \"))\n",
    "number_list = [user_number] * 100\n",
    "print(number_list)\n"
   ]
  },
  {
   "cell_type": "markdown",
   "id": "b5cc8b6e-fc9a-4ed8-9c13-b32aee3253a4",
   "metadata": {},
   "source": [
    "### write a python code to create a list  of first 10 odd elements without using decision making statement."
   ]
  },
  {
   "cell_type": "code",
   "execution_count": 15,
   "id": "77a7bb75-f013-4810-aee6-d6f96e9ab17a",
   "metadata": {},
   "outputs": [
    {
     "data": {
      "text/plain": [
       "[1, 3, 5, 7, 9, 11, 13, 15, 17, 19]"
      ]
     },
     "execution_count": 15,
     "metadata": {},
     "output_type": "execute_result"
    }
   ],
   "source": [
    "list_1=list(range(1,20,2))\n",
    "list_1"
   ]
  },
  {
   "cell_type": "markdown",
   "id": "e02bb91a-75fc-44c3-a104-e94308fb8492",
   "metadata": {},
   "source": [
    "### Write a python code to create  a list of  1 to 10 elements and from the list created , create another list with only odd values."
   ]
  },
  {
   "cell_type": "code",
   "execution_count": 16,
   "id": "51aa383b-3855-40b3-9b80-100a8612e7a0",
   "metadata": {},
   "outputs": [
    {
     "name": "stdout",
     "output_type": "stream",
     "text": [
      "[1, 2, 3, 4, 5, 6, 7, 8, 9, 10]\n",
      "[1, 3, 5, 7, 9]\n"
     ]
    }
   ],
   "source": [
    "list1 = list(range(1,11))\n",
    "odd = list1[::2]\n",
    "print(list1)\n",
    "print(odd)"
   ]
  },
  {
   "cell_type": "markdown",
   "id": "dc24e63d-f1b5-492e-bc3c-6168450defda",
   "metadata": {},
   "source": [
    "### write a python code to create a list of 1 to 10 elements and from the list created , create another list with only even values."
   ]
  },
  {
   "cell_type": "code",
   "execution_count": 20,
   "id": "0dbc7d3c-4937-4fe4-bce6-65da773ee587",
   "metadata": {},
   "outputs": [
    {
     "name": "stdout",
     "output_type": "stream",
     "text": [
      "[2, 4, 6, 8, 10]\n"
     ]
    }
   ],
   "source": [
    "even= list1[1::2]\n",
    "print(even)"
   ]
  },
  {
   "cell_type": "markdown",
   "id": "c853b167-38cc-4c53-bb19-20b72b99645c",
   "metadata": {},
   "source": [
    "# CONCATENATION"
   ]
  },
  {
   "cell_type": "markdown",
   "id": "b5ea453e-3948-4eb5-b328-d5b802f5988d",
   "metadata": {},
   "source": [
    "### Write a python code  to create a list , which extracts elements from the string given by the user"
   ]
  },
  {
   "cell_type": "code",
   "execution_count": null,
   "id": "bec6ea8a-384e-4c1d-b352-487b20b8faa6",
   "metadata": {},
   "outputs": [],
   "source": [
    "\n"
   ]
  },
  {
   "cell_type": "markdown",
   "id": "a8a4425c-1655-4962-9a80-d9296c3507d1",
   "metadata": {},
   "source": [
    "### write a python program to get the input from the user for creating two lists and add  the elements of one list into the other."
   ]
  },
  {
   "cell_type": "code",
   "execution_count": 4,
   "id": "1cf436ce-bf67-45d0-b5bb-2caab4fffc76",
   "metadata": {},
   "outputs": [
    {
     "name": "stdin",
     "output_type": "stream",
     "text": [
      " 4\n",
      " 12\n",
      " 26\n",
      " 10\n",
      " 6\n"
     ]
    },
    {
     "name": "stdout",
     "output_type": "stream",
     "text": [
      "[12, 26, 10, 6]\n"
     ]
    }
   ],
   "source": [
    "size_of_list_1=int(input())\n",
    "list_1=[]\n",
    "for i in range(size_of_list_1):\n",
    "    list_1.append(int(input()))\n",
    "print(list_1)\n",
    "# size_of_list_2=int(input())\n",
    "# list_2=[]\n",
    "# for i in range(size_of_list_2):\n",
    "#     list_2.append(int(input()))\n",
    "# print(list_2)\n"
   ]
  },
  {
   "cell_type": "markdown",
   "id": "5cd15fc0-616d-48a1-8e5c-13879fc64be5",
   "metadata": {},
   "source": [
    "### Write a python program to find the maximum number in the given list"
   ]
  },
  {
   "cell_type": "code",
   "execution_count": 8,
   "id": "6c0b8201-83a3-497b-8966-c2689807969a",
   "metadata": {},
   "outputs": [
    {
     "name": "stdin",
     "output_type": "stream",
     "text": [
      " 12\n",
      " 26\n"
     ]
    },
    {
     "name": "stdout",
     "output_type": "stream",
     "text": [
      "26\n"
     ]
    }
   ],
   "source": [
    "a=int(input())\n",
    "b=list(map(int,input().split()))\n",
    "print(max(b))"
   ]
  },
  {
   "cell_type": "markdown",
   "id": "2d217b22-e710-4d71-99c0-e6075cc6884e",
   "metadata": {},
   "source": [
    "### write a python to find the second largest number in the list."
   ]
  },
  {
   "cell_type": "code",
   "execution_count": 6,
   "id": "1fd69ea5-9002-499c-89f8-ca016101862e",
   "metadata": {},
   "outputs": [
    {
     "name": "stdin",
     "output_type": "stream",
     "text": [
      " 3\n",
      " 5\n"
     ]
    },
    {
     "name": "stdout",
     "output_type": "stream",
     "text": [
      "Error: List must have at least two unique elements.\n"
     ]
    }
   ],
   "source": [
    "# a = int(input())\n",
    "# b = list(map(int,input().split()))\n",
    "# b.sort()\n",
    "# print(b[-2])\n",
    "\n",
    "\n"
   ]
  },
  {
   "cell_type": "markdown",
   "id": "b87af2e4-c063-43eb-a722-0b054322f49f",
   "metadata": {},
   "source": [
    "### write a python code to create a list of 1 to 10 elements and from the list created,create another list with only odd values"
   ]
  },
  {
   "cell_type": "code",
   "execution_count": 7,
   "id": "32825594-adc5-4798-afb6-313bf67bd660",
   "metadata": {},
   "outputs": [
    {
     "name": "stdout",
     "output_type": "stream",
     "text": [
      "[1, 2, 3, 4, 5, 6, 7, 8, 9, 10]\n",
      "[1, 3, 5, 7, 9]\n"
     ]
    }
   ],
   "source": [
    "list1 = list(range(1,11))\n",
    "odd = list1[::2]\n",
    "print(list1)\n",
    "print(odd)\n"
   ]
  },
  {
   "cell_type": "markdown",
   "id": "f589967a-6f9c-4630-a5b3-0df09940640f",
   "metadata": {},
   "source": [
    "### write a python to find the largest even and largest odd number in the list."
   ]
  },
  {
   "cell_type": "code",
   "execution_count": 13,
   "id": "2bcfb858-90f7-4893-baa6-36c87b105456",
   "metadata": {},
   "outputs": [
    {
     "name": "stdin",
     "output_type": "stream",
     "text": [
      " 5\n",
      " 12\n",
      " 99\n",
      " 45\n",
      " 67\n",
      " 99\n"
     ]
    },
    {
     "name": "stdout",
     "output_type": "stream",
     "text": [
      "Largest even number: 12\n",
      "Largest odd number: 99\n"
     ]
    }
   ],
   "source": [
    "n = int(input())\n",
    "b = []\n",
    "for i in range(n):\n",
    "    a=int(input())\n",
    "    b.append(a)\n",
    "c=[]\n",
    "d=[]\n",
    "for i in b:\n",
    "    if(i%2==0):\n",
    "        c.append(i)\n",
    "    else:\n",
    "        d.append(i)\n",
    "c.sort()\n",
    "d.sort()\n",
    "print(\"Largest even number:\" , c[-1])\n",
    "print(\"Largest odd number:\" , d[-1])\n"
   ]
  },
  {
   "cell_type": "markdown",
   "id": "b05f3344-11ad-45b7-923d-7c6ea6ab1708",
   "metadata": {},
   "source": [
    "### write a python program to find the union of two list."
   ]
  },
  {
   "cell_type": "code",
   "execution_count": 1,
   "id": "50a22fc6-db88-45b4-b5d7-0ef6ddab0930",
   "metadata": {},
   "outputs": [
    {
     "name": "stdin",
     "output_type": "stream",
     "text": [
      " 5\n",
      " 4\n"
     ]
    },
    {
     "name": "stdout",
     "output_type": "stream",
     "text": [
      "The Union of two lists is : [4, 5]\n"
     ]
    }
   ],
   "source": [
    "a = list(map(int,input().split()))\n",
    "b = list(map(int,input().split()))\n",
    "\n",
    "union = list(set().union(a,b))\n",
    "print(\"The Union of two lists is :\",union)"
   ]
  },
  {
   "cell_type": "markdown",
   "id": "b7ad766f-2fdb-4c20-b0d7-5e5d8c913be4",
   "metadata": {},
   "source": [
    "# write a program to print the number of repeated elements in a list"
   ]
  },
  {
   "cell_type": "code",
   "execution_count": 1,
   "id": "fb40b61a-3bd6-4ec7-afa0-9df97e2b3fc1",
   "metadata": {},
   "outputs": [
    {
     "name": "stdout",
     "output_type": "stream",
     "text": [
      "Number of repeated elements: 3\n"
     ]
    }
   ],
   "source": [
    "# Function to count repeated elements\n",
    "def count_repeated_elements(input_list):\n",
    "    # Create a dictionary to store the frequency of each element\n",
    "    frequency = {}\n",
    "    \n",
    "    # Count occurrences of each element\n",
    "    for item in input_list:\n",
    "        if item in frequency:\n",
    "            frequency[item] += 1\n",
    "        else:\n",
    "            frequency[item] = 1\n",
    "    \n",
    "    # Count the elements that are repeated\n",
    "    repeated_count = 0\n",
    "    for count in frequency.values():\n",
    "        if count > 1:\n",
    "            repeated_count += 1\n",
    "\n",
    "    return repeated_count\n",
    "\n",
    "# Example usage\n",
    "my_list = [1, 2, 3, 4, 2, 5, 6, 3, 4, 4]\n",
    "print(f\"Number of repeated elements: {count_repeated_elements(my_list)}\")\n"
   ]
  },
  {
   "cell_type": "markdown",
   "id": "76ef27e8-91bf-4778-960b-518daeb7894e",
   "metadata": {},
   "source": [
    "# write a program to print distinct elements in list"
   ]
  },
  {
   "cell_type": "markdown",
   "id": "04c4229d-6549-4365-aa31-85c445b5e213",
   "metadata": {},
   "source": [
    "# write a python program to find the union of 2 list"
   ]
  },
  {
   "cell_type": "markdown",
   "id": "e8c65af3-e89d-4c97-af4d-29db16c692aa",
   "metadata": {},
   "source": [
    "# write a python program to remove the duplicate items from the list"
   ]
  },
  {
   "cell_type": "code",
   "execution_count": 3,
   "id": "69cb61d0-da73-43a9-ae32-da52a40dec2a",
   "metadata": {},
   "outputs": [
    {
     "name": "stdin",
     "output_type": "stream",
     "text": [
      " 5\n",
      " 1 2 3 3 3 4 5\n"
     ]
    },
    {
     "name": "stdout",
     "output_type": "stream",
     "text": [
      "Non-duplicate items:\n",
      "[1, 2, 3, 4, 5]\n"
     ]
    }
   ],
   "source": [
    "size_of_list=int(input())\n",
    "list_1=list(map(int,input().split()))\n",
    "b = []\n",
    "unique = []\n",
    "for x in list_1:\n",
    "    if x not in b:\n",
    "        unique.append(x)\n",
    "        b.append(x)\n",
    "print(\"Non-duplicate items:\")\n",
    "print(unique)"
   ]
  },
  {
   "cell_type": "markdown",
   "id": "53c140e6-168e-4185-bb54-5c2fe027b1c6",
   "metadata": {},
   "source": [
    "# write a python program to swap the first and last value of the list."
   ]
  },
  {
   "cell_type": "code",
   "execution_count": 4,
   "id": "8adc9f22-fa6c-4a86-b923-81645889c1ef",
   "metadata": {},
   "outputs": [
    {
     "name": "stdin",
     "output_type": "stream",
     "text": [
      " 5\n",
      " 1 2 3 4\n"
     ]
    },
    {
     "name": "stdout",
     "output_type": "stream",
     "text": [
      "[4, 2, 3, 1]\n"
     ]
    }
   ],
   "source": [
    "size_of_list_1=int(input())\n",
    "list_1=list(map(int,input().split()))\n",
    "list_1[0]=list_1[0]+list_1[-1]\n",
    "list_1[-1]=list_1[0]-list_1[-1]\n",
    "list_1[0]=list_1[0]-list_1[-1]\n",
    "print(list_1)"
   ]
  },
  {
   "cell_type": "markdown",
   "id": "a94089dc-e6cc-428f-b32a-7ce9bd624b6b",
   "metadata": {},
   "source": [
    "# write a python program to sum of the list elements"
   ]
  },
  {
   "cell_type": "markdown",
   "id": "7bbf2fd7-aecc-4687-bc1f-38d4c414ac9b",
   "metadata": {},
   "source": [
    "# write a program to calculte the average of given list"
   ]
  },
  {
   "cell_type": "markdown",
   "id": "a7fd6045-46a4-4008-9343-16801453201b",
   "metadata": {},
   "source": [
    "# write a program to count the occurrance of 50 in given list"
   ]
  },
  {
   "cell_type": "code",
   "execution_count": null,
   "id": "7a75fec8-ac51-4cf6-a390-8468af144e38",
   "metadata": {},
   "outputs": [],
   "source": []
  }
 ],
 "metadata": {
  "kernelspec": {
   "display_name": "Python 3 (ipykernel)",
   "language": "python",
   "name": "python3"
  },
  "language_info": {
   "codemirror_mode": {
    "name": "ipython",
    "version": 3
   },
   "file_extension": ".py",
   "mimetype": "text/x-python",
   "name": "python",
   "nbconvert_exporter": "python",
   "pygments_lexer": "ipython3",
   "version": "3.12.4"
  }
 },
 "nbformat": 4,
 "nbformat_minor": 5
}
