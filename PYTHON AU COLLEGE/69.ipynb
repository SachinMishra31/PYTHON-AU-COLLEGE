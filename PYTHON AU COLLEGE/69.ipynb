{
 "cells": [
  {
   "cell_type": "code",
   "execution_count": 1,
   "id": "7fea6444-f506-431f-b045-7fe03404a846",
   "metadata": {},
   "outputs": [
    {
     "name": "stdout",
     "output_type": "stream",
     "text": [
      "Element frequencies:\n",
      "1: 2\n",
      "2: 2\n",
      "3: 1\n",
      "4: 3\n",
      "5: 1\n",
      "6: 2\n",
      "7: 1\n",
      "8: 1\n"
     ]
    }
   ],
   "source": [
    "def count_frequency(lst):\n",
    "    frequency = {}\n",
    "    for element in lst:\n",
    "        if element in frequency:\n",
    "            frequency[element] += 1\n",
    "        else:\n",
    "            frequency[element] = 1\n",
    "    return frequency\n",
    "\n",
    "\n",
    "example_list = [1, 2, 2, 3, 4, 4, 4, 5, 6, 6, 7, 8, 1]\n",
    "\n",
    "frequency_dict = count_frequency(example_list)\n",
    "\n",
    "print(\"Element frequencies:\")\n",
    "for element, count in frequency_dict.items():\n",
    "    print(f\"{element}: {count}\")"
   ]
  },
  {
   "cell_type": "code",
   "execution_count": null,
   "id": "c9cc5d47-f20d-401c-87d9-8cfa93cbbec3",
   "metadata": {},
   "outputs": [],
   "source": []
  }
 ],
 "metadata": {
  "kernelspec": {
   "display_name": "Python 3 (ipykernel)",
   "language": "python",
   "name": "python3"
  },
  "language_info": {
   "codemirror_mode": {
    "name": "ipython",
    "version": 3
   },
   "file_extension": ".py",
   "mimetype": "text/x-python",
   "name": "python",
   "nbconvert_exporter": "python",
   "pygments_lexer": "ipython3",
   "version": "3.12.4"
  }
 },
 "nbformat": 4,
 "nbformat_minor": 5
}
