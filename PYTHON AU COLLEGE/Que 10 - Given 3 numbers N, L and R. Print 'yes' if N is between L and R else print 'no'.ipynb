{
 "cells": [
  {
   "cell_type": "code",
   "execution_count": 1,
   "id": "ba9e8be4-8166-4856-a088-667b082644fe",
   "metadata": {},
   "outputs": [
    {
     "name": "stdin",
     "output_type": "stream",
     "text": [
      "Enter the number N:  3\n",
      "Enter the lower bound L:  2\n",
      "Enter the upper bound R:  6\n"
     ]
    },
    {
     "name": "stdout",
     "output_type": "stream",
     "text": [
      "yes\n"
     ]
    }
   ],
   "source": [
    "# Function to check if N is between L and R\n",
    "def check_between(N, L, R):\n",
    "    if L <= N <= R:\n",
    "        return \"yes\"\n",
    "    else:\n",
    "        return \"no\"\n",
    "\n",
    "# Input values\n",
    "N = int(input(\"Enter the number N: \"))\n",
    "L = int(input(\"Enter the lower bound L: \"))\n",
    "R = int(input(\"Enter the upper bound R: \"))\n",
    "\n",
    "# Check if N is between L and R\n",
    "result = check_between(N, L, R)\n",
    "\n",
    "# Output the result\n",
    "print(result)"
   ]
  },
  {
   "cell_type": "code",
   "execution_count": null,
   "id": "4dbdabff-1df1-4201-83c3-188267f7759a",
   "metadata": {},
   "outputs": [],
   "source": []
  }
 ],
 "metadata": {
  "kernelspec": {
   "display_name": "Python 3 (ipykernel)",
   "language": "python",
   "name": "python3"
  },
  "language_info": {
   "codemirror_mode": {
    "name": "ipython",
    "version": 3
   },
   "file_extension": ".py",
   "mimetype": "text/x-python",
   "name": "python",
   "nbconvert_exporter": "python",
   "pygments_lexer": "ipython3",
   "version": "3.12.4"
  }
 },
 "nbformat": 4,
 "nbformat_minor": 5
}
