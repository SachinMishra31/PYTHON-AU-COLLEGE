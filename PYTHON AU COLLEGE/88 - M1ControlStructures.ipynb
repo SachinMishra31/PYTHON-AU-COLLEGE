{
 "cells": [
  {
   "cell_type": "code",
   "execution_count": null,
   "id": "defdc840-5a0d-4061-a3df-770292500a5b",
   "metadata": {},
   "outputs": [],
   "source": [
    "#practice session \n",
    "# control structure if , if else\n",
    "\n"
   ]
  },
  {
   "cell_type": "code",
   "execution_count": 1,
   "id": "7b9d6b82-4d18-4ad7-a294-ac77b10d5794",
   "metadata": {},
   "outputs": [
    {
     "name": "stdout",
     "output_type": "stream",
     "text": [
      "Number is Positive\n"
     ]
    }
   ],
   "source": [
    "#que 1\n",
    "\n",
    "n=5\n",
    "if n>0:\n",
    "    print(\"Number is Positive\")\n",
    "else:\n",
    "    print (\"Number is Negative\")"
   ]
  },
  {
   "cell_type": "code",
   "execution_count": null,
   "id": "7356eeda-8533-4f4b-8734-131a9fa1537f",
   "metadata": {},
   "outputs": [],
   "source": [
    "5"
   ]
  },
  {
   "cell_type": "code",
   "execution_count": null,
   "id": "82cd33f0-2fc3-4ab2-98ae-19fa69c3ede7",
   "metadata": {},
   "outputs": [],
   "source": [
    "#example 1\n",
    "\n",
    "i = 16\n",
    "if i<15:\n",
    "    print(\"i is smaller than 15\")\n",
    "else:\n",
    "   if i>20:\n",
    "    print(\"i is also greater than 20\")\n",
    "   else:\n",
    "    print(\"i is between 15 and 20\")"
   ]
  },
  {
   "cell_type": "code",
   "execution_count": null,
   "id": "5f5299a1-3606-4242-a5f7-8a4148767d9b",
   "metadata": {},
   "outputs": [],
   "source": [
    "#example 2\n",
    "\n",
    "a=10\n",
    "if a>20:\n",
    "    print(\"a"
   ]
  },
  {
   "cell_type": "code",
   "execution_count": null,
   "id": "d76930f6-4985-44b8-bc23-f588a16f9a44",
   "metadata": {},
   "outputs": [],
   "source": [
    "n = int(input(\"enter your number\")\n",
    "        if n > 0"
   ]
  },
  {
   "cell_type": "code",
   "execution_count": 9,
   "id": "fdf2340a-3d24-46fa-8c8f-fb42ab4f1db9",
   "metadata": {},
   "outputs": [
    {
     "name": "stdin",
     "output_type": "stream",
     "text": [
      "enter your number 9\n"
     ]
    },
    {
     "name": "stdout",
     "output_type": "stream",
     "text": [
      "not divisible\n"
     ]
    }
   ],
   "source": [
    "#que 4\n",
    "\n",
    "d = int(input(\"enter your number\"))\n",
    "if d%2==0 and d%3 == 0:\n",
    "    print(\"yes, d is divisible by 2 and 3\")\n",
    "else:\n",
    "    print(\"not divisible\")\n",
    "               "
   ]
  },
  {
   "cell_type": "code",
   "execution_count": 10,
   "id": "61a6dc53-1078-43f2-8afa-8a021273abfb",
   "metadata": {},
   "outputs": [
    {
     "name": "stdin",
     "output_type": "stream",
     "text": [
      "enter year 2000\n"
     ]
    },
    {
     "name": "stdout",
     "output_type": "stream",
     "text": [
      "its a leap year\n"
     ]
    }
   ],
   "source": [
    "#leap year or not\n",
    "year = int(input(\"enter year\"))\n",
    "if (year%4 == 0 and year%100 != 0) or ( year%400 == 0):\n",
    "    print(\"its a leap year\")\n",
    "else:\n",
    "    print( \" it is not a leap year\")\n",
    "            "
   ]
  },
  {
   "cell_type": "code",
   "execution_count": 16,
   "id": "715bedc5-9278-45d1-a682-335239ead11a",
   "metadata": {},
   "outputs": [
    {
     "name": "stdin",
     "output_type": "stream",
     "text": [
      " enter day 7\n"
     ]
    },
    {
     "name": "stdout",
     "output_type": "stream",
     "text": [
      "16\n"
     ]
    }
   ],
   "source": [
    "#que 2\n",
    "day = int(input(\" enter day\"))\n",
    "if day<=5:\n",
    "    print( day*2)\n",
    "elif day >= 6 and day <=10:\n",
    "    print(10 + ( ( day - 5)*3))\n",
    "elif day >= 11 and day <=15:\n",
    "    print(25+(day-10)*4)\n",
    "else:\n",
    "    print(45+ (day - 15)*5)\n",
    "                 "
   ]
  },
  {
   "cell_type": "code",
   "execution_count": 4,
   "id": "c8059ee5-5b0c-4961-80f7-133b7356d9dd",
   "metadata": {},
   "outputs": [
    {
     "name": "stdin",
     "output_type": "stream",
     "text": [
      "enter a number: 3\n"
     ]
    },
    {
     "name": "stdout",
     "output_type": "stream",
     "text": [
      "weird\n"
     ]
    }
   ],
   "source": [
    "#que 3 odd or even\n",
    "n= int(input(\"enter a number:\"))\n",
    "if  n>0:\n",
    "    if n%2 != 0:\n",
    "        print(\"weird\")\n",
    "    elif n%2 == 0 and (n>=2 and n<=5):\n",
    "        print(\"not weird\")\n",
    "    elif n%2 == 0 and (n>=6 and n<= 20):\n",
    "        print(\"weird\")\n",
    "    elif n%2==0 and n>20:\n",
    "        print(\"not weird\")\n",
    "    else:\n",
    "        print(\"na\")\n",
    "\n",
    "\n"
   ]
  },
  {
   "cell_type": "code",
   "execution_count": 18,
   "id": "26f41221-e475-4590-9514-2430e94b468c",
   "metadata": {},
   "outputs": [
    {
     "name": "stdin",
     "output_type": "stream",
     "text": [
      "enter your secured marks 62\n"
     ]
    },
    {
     "name": "stdout",
     "output_type": "stream",
     "text": [
      "first Division\n"
     ]
    }
   ],
   "source": [
    "marks = int (input(\"enter your secured marks\"))\n",
    "if marks>=60:\n",
    "    print(\"first Division\")\n",
    "elif marks>=50 and marks<=59:\n",
    "    print(\"second Division\")\n",
    "elif marks>=40 and marks<=49:\n",
    "    print(\"third division\")\n",
    "elif marks<40:\n",
    "    print(\"fail\")\n",
    "else:\n",
    "    print(\"Na\")"
   ]
  },
  {
   "cell_type": "code",
   "execution_count": 30,
   "id": "e098ebda-97b0-4e3b-953c-debdf5a643ce",
   "metadata": {},
   "outputs": [
    {
     "name": "stdin",
     "output_type": "stream",
     "text": [
      "enter your 1\n",
      "enter your 2\n",
      "enter your 3\n"
     ]
    },
    {
     "name": "stdout",
     "output_type": "stream",
     "text": [
      "c is greatest\n"
     ]
    }
   ],
   "source": [
    "a = int(input(\"enter your\"))\n",
    "b = int(input(\"enter your\"))\n",
    "c = int(input(\"enter your\"))\n",
    "if a > b and a > c:\n",
    "    print(\"a is greatest\")\n",
    "elif b > a and b > c:\n",
    "    print(\"b is greatest\")\n",
    "else:\n",
    "    print(\"c is greatest\")\n",
    "    "
   ]
  },
  {
   "cell_type": "code",
   "execution_count": 11,
   "id": "f296cc21-fd31-49a2-aa8a-74019d2556d1",
   "metadata": {},
   "outputs": [
    {
     "name": "stdin",
     "output_type": "stream",
     "text": [
      "Enter your num1 50\n",
      "Enter your num2 45\n",
      "Enter your num3 60\n"
     ]
    },
    {
     "name": "stdout",
     "output_type": "stream",
     "text": [
      "50\n"
     ]
    }
   ],
   "source": [
    "#find second laargest of three number\n",
    "num1 = int(input(\"Enter your num1\"))\n",
    "num2 = int(input(\"Enter your num2\"))\n",
    "num3 = int(input(\"Enter your num3\"))\n",
    "largest = 0\n",
    "smallest = 0\n",
    "\n",
    "#finding largest number\n",
    "if num1>num2 and num1>num3:\n",
    "    largest = num1\n",
    "elif num2>num1 and num2>num3:\n",
    "    largest = num2\n",
    "else:\n",
    "    largest = num3\n",
    "\n",
    "#finding smallest number\n",
    "if num1<num2 and num1 <3:\n",
    "    smallest = num1\n",
    "elif num2<num1 and num2<num3:\n",
    "    smallest = num2\n",
    "else:\n",
    "    smallest = num3\n",
    "    \n",
    "    \n",
    "secondlargest = num1+num2+num3 -(largest+smallest)\n",
    "print(secondlargest)\n",
    "        \n",
    "                \n",
    "    "
   ]
  },
  {
   "cell_type": "code",
   "execution_count": 7,
   "id": "41b1d4ba-4126-4d95-9dcc-6d1d77c14dbd",
   "metadata": {},
   "outputs": [
    {
     "name": "stdin",
     "output_type": "stream",
     "text": [
      "Enter your num1 1\n",
      "Enter your num2 2\n",
      "Enter your num3 3\n",
      "Enter your num3 4\n"
     ]
    },
    {
     "name": "stdout",
     "output_type": "stream",
     "text": [
      "num1 is smallest number\n"
     ]
    }
   ],
   "source": [
    "#write a program to find the smallest of given four numbers\n",
    "\n",
    "num1 = int(input(\"Enter your num1\"))\n",
    "num2 = int(input(\"Enter your num2\"))\n",
    "num3 = int(input(\"Enter your num3\"))\n",
    "num4 = int(input(\"Enter your num3\"))\n",
    "if num1<num2 and num1 <num3 and num1<num4:\n",
    "    print(\"num1 is smallest number\")\n",
    "elif num2<num1 and num2<num3 and num2<num4:\n",
    "    print(\"num2 is smallest number\")\n",
    "else:\n",
    "    print(\"num3 is smallest number\")\n",
    "\n"
   ]
  },
  {
   "cell_type": "code",
   "execution_count": 5,
   "id": "139201c0-7a86-4523-afef-f46140c3727a",
   "metadata": {},
   "outputs": [
    {
     "name": "stdin",
     "output_type": "stream",
     "text": [
      "Enter your number 4\n"
     ]
    },
    {
     "name": "stdout",
     "output_type": "stream",
     "text": [
      "number is not divisible by 2 and 3\n"
     ]
    }
   ],
   "source": [
    "# write a program to check whether the user input number,which is divisible by 2 and 3 both\n",
    "number = int(input(\"Enter your number\"))\n",
    "if number%2==0 and number%3==0: \n",
    "    print(\" number is divisible by 2 and 3\")\n",
    "else:\n",
    "    print(\"number is not divisible by 2 and 3\")\n",
    "\n"
   ]
  },
  {
   "cell_type": "code",
   "execution_count": 5,
   "id": "8322b41a-fe78-4e5b-8da3-f8a92103cc29",
   "metadata": {},
   "outputs": [
    {
     "name": "stdin",
     "output_type": "stream",
     "text": [
      "enter your number 546\n"
     ]
    },
    {
     "name": "stdout",
     "output_type": "stream",
     "text": [
      "Not trendy\n"
     ]
    }
   ],
   "source": [
    "number = int(input(\"enter your number\"))\n",
    "if 100 <= number <= 999:\n",
    "    number_str = str(number)\n",
    "    middle_digit = int(number_str[1])\n",
    "    if middle_digit%3 == 0:\n",
    "        print(\"trendy number\")\n",
    "    else:\n",
    "        print(\"Not trendy\")\n",
    "else:\n",
    "    print(\"not trendy\")\n",
    "                       \n",
    "    "
   ]
  },
  {
   "cell_type": "code",
   "execution_count": null,
   "id": "d237965c-e5af-4322-908e-c71cecbf60e5",
   "metadata": {},
   "outputs": [],
   "source": [
    "n_items = int(input())\n",
    "single_item_htime = float(input())\n",
    "\n",
    "if n_items == 1:\n",
    "    r_time = single_item_htime\n",
    "elif n_items == 2:\n",
    "    r_time == single_item_htime*1.5\n",
    "elif n_items == 3:\n",
    "    r_time == single_item_htime*2\n",
    "else:\n",
    "    print(\"number of items is more\")\n",
    "    \n",
    "print(r_time)"
   ]
  },
  {
   "cell_type": "markdown",
   "id": "6cd259ce-ed5b-4880-8e1d-9b405cbb6e13",
   "metadata": {},
   "source": [
    "# 26-9-2024"
   ]
  },
  {
   "cell_type": "markdown",
   "id": "1f4c8b45-837c-4326-a1c7-5521348eb5c5",
   "metadata": {},
   "source": [
    "## LOOPING CONSTRUCTS"
   ]
  },
  {
   "cell_type": "code",
   "execution_count": null,
   "id": "548b8ad6-7c57-454e-b193-bc7d3a68b265",
   "metadata": {},
   "outputs": [],
   "source": [
    "#FOR\n",
    "# SYNTAX : for <variable> in <sequence>"
   ]
  },
  {
   "cell_type": "code",
   "execution_count": 3,
   "id": "663c0808-7172-4048-84d3-81bd5196f564",
   "metadata": {},
   "outputs": [
    {
     "name": "stdout",
     "output_type": "stream",
     "text": [
      "1\n",
      "2\n",
      "3\n",
      "4\n",
      "5\n"
     ]
    }
   ],
   "source": [
    "for a in \"12345\":\n",
    "    print(a)\n",
    "\n"
   ]
  },
  {
   "cell_type": "code",
   "execution_count": 1,
   "id": "0dc273ca-7c6d-4591-b853-3291e4f8cdc8",
   "metadata": {},
   "outputs": [
    {
     "name": "stdout",
     "output_type": "stream",
     "text": [
      "1\n",
      "2\n",
      "3\n",
      "4\n",
      "5\n"
     ]
    }
   ],
   "source": [
    "for i in range(1,6):\n",
    "    print(i)\n",
    "    "
   ]
  },
  {
   "cell_type": "code",
   "execution_count": 5,
   "id": "0d8f3b06-03ea-449f-abaa-99fb0a8fee50",
   "metadata": {},
   "outputs": [
    {
     "name": "stdout",
     "output_type": "stream",
     "text": [
      "1\n",
      "3\n",
      "5\n",
      "7\n",
      "9\n",
      "11\n",
      "13\n",
      "15\n",
      "17\n",
      "19\n",
      "21\n",
      "23\n",
      "25\n",
      "27\n",
      "29\n",
      "31\n",
      "33\n",
      "35\n",
      "37\n",
      "39\n",
      "41\n",
      "43\n",
      "45\n",
      "47\n",
      "49\n"
     ]
    }
   ],
   "source": [
    "for i in range(50):\n",
    "    if i%2 != 0:\n",
    "        print(i)"
   ]
  },
  {
   "cell_type": "code",
   "execution_count": null,
   "id": "a4341622-9c0f-4e21-a903-7f6b1e1802eb",
   "metadata": {},
   "outputs": [],
   "source": [
    "\n",
    "tuition_fee = 50000 \n",
    "bus_fee = 5000       \n",
    "hostel_fee = 20000   \n",
    "def calculate_fee(student_type):\n",
    "    if student_type == \"MSDS\":\n",
    "        \n",
    "        return tuition_fee + bus_fee\n",
    "    elif student_type == \"MSH\":\n",
    "       \n",
    "        return tuition_fee + hostel_fee\n",
    "    elif student_type == \"MGSDS\":\n",
    "       \n",
    "        return 1.5 * tuition_fee + bus_fee\n",
    "    elif student_type == \"MGSH\":\n",
    "        \n",
    "        return 1.5 * tuition_fee + hostel_fee\n",
    "    else:\n",
    "        return \"Invalid student type\"\n",
    "\n",
    "\n",
    "student_type = input(\"Enter the student type (MSDS, MSH, MGSDS, MGSH): \")\n",
    "\n",
    "\n",
    "fee = calculate_fee(student_type)\n",
    "print(f\"Total fee to be collected: {fee}\")"
   ]
  },
  {
   "cell_type": "code",
   "execution_count": null,
   "id": "61fe3fde-97a1-4084-b67e-3571cb76074d",
   "metadata": {},
   "outputs": [],
   "source": []
  }
 ],
 "metadata": {
  "kernelspec": {
   "display_name": "Python 3 (ipykernel)",
   "language": "python",
   "name": "python3"
  },
  "language_info": {
   "codemirror_mode": {
    "name": "ipython",
    "version": 3
   },
   "file_extension": ".py",
   "mimetype": "text/x-python",
   "name": "python",
   "nbconvert_exporter": "python",
   "pygments_lexer": "ipython3",
   "version": "3.12.4"
  }
 },
 "nbformat": 4,
 "nbformat_minor": 5
}
