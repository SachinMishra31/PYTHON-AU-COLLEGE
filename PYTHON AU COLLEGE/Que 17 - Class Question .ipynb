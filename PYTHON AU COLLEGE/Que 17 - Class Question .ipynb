{
 "cells": [
  {
   "cell_type": "code",
   "execution_count": 1,
   "id": "8c858aa7-3514-4d19-918f-02140a48c7a8",
   "metadata": {},
   "outputs": [
    {
     "name": "stdin",
     "output_type": "stream",
     "text": [
      "enter a number: 4\n"
     ]
    },
    {
     "name": "stdout",
     "output_type": "stream",
     "text": [
      "not weird\n"
     ]
    }
   ],
   "source": [
    "n= int(input(\"enter a number:\"))\n",
    "if  n>0:\n",
    "    if n%2 != 0:\n",
    "        print(\"weird\")\n",
    "    elif n%2 == 0 and (n>=2 and n<=5):\n",
    "        print(\"not weird\")\n",
    "    elif n%2 == 0 and (n>=6 and n<= 20):\n",
    "        print(\"weird\")\n",
    "    elif n%2==0 and n>20:\n",
    "        print(\"not weird\")\n",
    "    else:\n",
    "        print(\"na\")\n"
   ]
  },
  {
   "cell_type": "code",
   "execution_count": null,
   "id": "2fb336e6-38a5-400e-9188-2ff41693769c",
   "metadata": {},
   "outputs": [],
   "source": []
  }
 ],
 "metadata": {
  "kernelspec": {
   "display_name": "Python 3 (ipykernel)",
   "language": "python",
   "name": "python3"
  },
  "language_info": {
   "codemirror_mode": {
    "name": "ipython",
    "version": 3
   },
   "file_extension": ".py",
   "mimetype": "text/x-python",
   "name": "python",
   "nbconvert_exporter": "python",
   "pygments_lexer": "ipython3",
   "version": "3.12.4"
  }
 },
 "nbformat": 4,
 "nbformat_minor": 5
}
