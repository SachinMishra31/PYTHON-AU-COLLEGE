{
 "cells": [
  {
   "cell_type": "code",
   "execution_count": 1,
   "id": "6ac2cb96-b76f-4d4d-b7b5-9907b061aa79",
   "metadata": {},
   "outputs": [
    {
     "name": "stdin",
     "output_type": "stream",
     "text": [
      "enter your secured marks 78\n"
     ]
    },
    {
     "name": "stdout",
     "output_type": "stream",
     "text": [
      "first Division\n"
     ]
    }
   ],
   "source": [
    "marks = int (input(\"enter your secured marks\"))\n",
    "if marks>=60:\n",
    "    print(\"first Division\")\n",
    "elif marks>=50 and marks<=59:\n",
    "    print(\"second Division\")\n",
    "elif marks>=40 and marks<=49:\n",
    "    print(\"third division\")\n",
    "elif marks<40:\n",
    "    print(\"fail\")\n",
    "else:\n",
    "    print(\"Na\")"
   ]
  },
  {
   "cell_type": "code",
   "execution_count": null,
   "id": "4d95397c-ef93-4552-a4f0-0e86478062a4",
   "metadata": {},
   "outputs": [],
   "source": []
  }
 ],
 "metadata": {
  "kernelspec": {
   "display_name": "Python 3 (ipykernel)",
   "language": "python",
   "name": "python3"
  },
  "language_info": {
   "codemirror_mode": {
    "name": "ipython",
    "version": 3
   },
   "file_extension": ".py",
   "mimetype": "text/x-python",
   "name": "python",
   "nbconvert_exporter": "python",
   "pygments_lexer": "ipython3",
   "version": "3.12.4"
  }
 },
 "nbformat": 4,
 "nbformat_minor": 5
}
