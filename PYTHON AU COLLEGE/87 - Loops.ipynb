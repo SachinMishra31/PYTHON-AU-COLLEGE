{
 "cells": [
  {
   "cell_type": "markdown",
   "id": "3c1d8db0-a49b-480f-9fa6-3eaf326f970f",
   "metadata": {},
   "source": [
    "### Print the first n natural numbers starts 1 to n.\n"
   ]
  },
  {
   "cell_type": "code",
   "execution_count": 2,
   "id": "e1dde488-9bbd-44e8-9017-c2b6212337bf",
   "metadata": {},
   "outputs": [
    {
     "name": "stdin",
     "output_type": "stream",
     "text": [
      " 10\n"
     ]
    },
    {
     "name": "stdout",
     "output_type": "stream",
     "text": [
      "1\n",
      "2\n",
      "3\n",
      "4\n",
      "5\n",
      "6\n",
      "7\n",
      "8\n",
      "9\n",
      "10\n"
     ]
    }
   ],
   "source": [
    "n = int(input())\n",
    "for i in range(1,n+1):\n",
    "    print(i)"
   ]
  },
  {
   "cell_type": "code",
   "execution_count": 4,
   "id": "a3e6af88-abb8-4d89-a090-032f4b456c72",
   "metadata": {},
   "outputs": [
    {
     "name": "stdin",
     "output_type": "stream",
     "text": [
      " 10\n"
     ]
    },
    {
     "name": "stdout",
     "output_type": "stream",
     "text": [
      "1\n",
      "2\n",
      "3\n",
      "4\n",
      "5\n",
      "6\n",
      "7\n",
      "8\n",
      "9\n",
      "10\n"
     ]
    }
   ],
   "source": [
    "n = int(input())\n",
    "i = 1\n",
    "while ( i <= n ):\n",
    "    print(i)\n",
    "    i = i+1"
   ]
  },
  {
   "cell_type": "markdown",
   "id": "2b1b7ace-d38f-4936-ad92-58c7af1082fa",
   "metadata": {},
   "source": [
    "### write a program to find factorial of number"
   ]
  },
  {
   "cell_type": "code",
   "execution_count": 9,
   "id": "066ecc9d-06d4-42ce-be1d-17655e8ced24",
   "metadata": {},
   "outputs": [
    {
     "name": "stdin",
     "output_type": "stream",
     "text": [
      "Enter your Number 4\n"
     ]
    },
    {
     "name": "stdout",
     "output_type": "stream",
     "text": [
      "24\n"
     ]
    }
   ],
   "source": [
    "Number = int(input(\"Enter your Number\"))\n",
    "Factorial = 1\n",
    "for i in range(1,Number+1):\n",
    "    Factorial = Factorial*i\n",
    "print(Factorial)"
   ]
  },
  {
   "cell_type": "markdown",
   "id": "576d6ad4-994a-490a-b919-23b5cca4e7dc",
   "metadata": {},
   "source": [
    "### write a program to find no. of characters and digits in a string"
   ]
  },
  {
   "cell_type": "code",
   "execution_count": 8,
   "id": "64d7a8f9-26cd-4381-91c3-0d2a30099b16",
   "metadata": {},
   "outputs": [
    {
     "name": "stdin",
     "output_type": "stream",
     "text": [
      " bca2024b\n"
     ]
    },
    {
     "name": "stdout",
     "output_type": "stream",
     "text": [
      "Digit: 4\n",
      "Alphabet: 4\n"
     ]
    }
   ],
   "source": [
    "x = input()\n",
    "digit = 0\n",
    "alphabet = 0\n",
    "for i in x:\n",
    "    if i.isdigit():\n",
    "        digit+=1\n",
    "    elif i.isalpha():\n",
    "        alphabet+=1\n",
    "print(\"Digit:\",digit)\n",
    "print(\"Alphabet:\",alphabet)\n"
   ]
  },
  {
   "cell_type": "markdown",
   "id": "f2235f37-1104-4271-b8d2-56d7f19f2df2",
   "metadata": {},
   "source": [
    "### write a program to reverse a string and check whether its palindrome or not."
   ]
  },
  {
   "cell_type": "code",
   "execution_count": 2,
   "id": "a3c6c0e4-57bb-4e7b-a9f6-bb6301e33d2d",
   "metadata": {},
   "outputs": [
    {
     "name": "stdin",
     "output_type": "stream",
     "text": [
      " fo\n"
     ]
    },
    {
     "name": "stdout",
     "output_type": "stream",
     "text": [
      "f\n",
      "of\n",
      "Reversed Text: of\n",
      "NO, the given is not a palindrome\n"
     ]
    }
   ],
   "source": [
    "text = str(input())\n",
    "rev_text = \"\"\n",
    "for j in text:\n",
    "    rev_text=j+rev_text\n",
    "    print(rev_text)\n",
    "print(\"Reversed Text:\",rev_text)\n",
    "\n",
    "if text == rev_text:\n",
    "    print(\"yes, the given string is palindrome\")\n",
    "else:\n",
    "    print(\"NO, the given is not a palindrome\")\n",
    "    "
   ]
  },
  {
   "cell_type": "markdown",
   "id": "1530063b-96f4-48d0-9a01-6c16be0076d1",
   "metadata": {},
   "source": [
    "### write a program to print all numbers between a and b (a and b inclusive) using a while loop"
   ]
  },
  {
   "cell_type": "code",
   "execution_count": 2,
   "id": "f39febec-61d2-4b19-ab32-ddb9d8114356",
   "metadata": {},
   "outputs": [
    {
     "name": "stdin",
     "output_type": "stream",
     "text": [
      "Enter the value of a:  1\n",
      "Enter the value of b:  9\n"
     ]
    },
    {
     "name": "stdout",
     "output_type": "stream",
     "text": [
      "1 2 3 4 5 6 7 8 9 "
     ]
    }
   ],
   "source": [
    "##1st method\n",
    "a = int(input(\"Enter the value of a: \"))\n",
    "b = int(input(\"Enter the value of b: \"))\n",
    "\n",
    "\n",
    "if a > b:\n",
    "    print(\"Invalid input! 'a' should be less than or equal to 'b'.\")\n",
    "else:\n",
    "    \n",
    "    num = a\n",
    "    \n",
    "    \n",
    "    while num <= b:\n",
    "        print(num, end=\" \")\n",
    "        num += 1\n",
    "\n"
   ]
  },
  {
   "cell_type": "code",
   "execution_count": null,
   "id": "7cbc5317-233a-4089-b066-8c800c2c8125",
   "metadata": {},
   "outputs": [],
   "source": [
    "### 2nd method\n",
    "\n",
    "a = int(input())\n",
    "b = int(input())\n",
    "\n",
    "while a>=b:\n",
    "    pass\n",
    "else:\n",
    "    for i in range(a,b+1):\n",
    "        print(i)\n",
    "        \n",
    "        "
   ]
  },
  {
   "cell_type": "code",
   "execution_count": 1,
   "id": "837e5f67-c672-4c12-94f2-659e280f84ea",
   "metadata": {},
   "outputs": [
    {
     "name": "stdin",
     "output_type": "stream",
     "text": [
      " 10\n",
      " 4\n"
     ]
    },
    {
     "name": "stdout",
     "output_type": "stream",
     "text": [
      "10\n",
      "9\n",
      "8\n",
      "7\n",
      "6\n",
      "5\n",
      "4\n"
     ]
    }
   ],
   "source": [
    "n1 = int(input())\n",
    "n2 = int(input())\n",
    "while (n1>=n2):\n",
    "    print(n1)\n",
    "    n1=n1-1"
   ]
  },
  {
   "cell_type": "markdown",
   "id": "0da9e447-d2ab-4faf-a6ea-400eb87a9632",
   "metadata": {},
   "source": [
    "### write a program to find the how many digit in the given number"
   ]
  },
  {
   "cell_type": "code",
   "execution_count": 2,
   "id": "1d22c8ee-aa7a-4061-bd65-11ff5f73dbed",
   "metadata": {},
   "outputs": [
    {
     "name": "stdin",
     "output_type": "stream",
     "text": [
      " 515\n"
     ]
    },
    {
     "name": "stdout",
     "output_type": "stream",
     "text": [
      "3\n"
     ]
    }
   ],
   "source": [
    "x = int(input())\n",
    "z = str(x)\n",
    "tot_digit = 0\n",
    "\n",
    "for i in z:\n",
    "    tot_digit+=1\n",
    "print(tot_digit)"
   ]
  },
  {
   "cell_type": "code",
   "execution_count": 6,
   "id": "fb0f7e29-7b0a-4175-9a6d-4b71265ec0c8",
   "metadata": {},
   "outputs": [
    {
     "name": "stdin",
     "output_type": "stream",
     "text": [
      "Enter your Number 5\n"
     ]
    },
    {
     "name": "stdout",
     "output_type": "stream",
     "text": [
      "1 * 5 = 5\n",
      "2 * 5 = 10\n",
      "3 * 5 = 15\n",
      "4 * 5 = 20\n",
      "5 * 5 = 25\n",
      "6 * 5 = 30\n",
      "7 * 5 = 35\n",
      "8 * 5 = 40\n",
      "9 * 5 = 45\n",
      "10 * 5 = 50\n"
     ]
    }
   ],
   "source": [
    "n = int(input(\"Enter your Number\"))\n",
    "product = 1\n",
    "num = 1\n",
    "while(num <= 10):\n",
    "    product = n*num\n",
    "    print(num,\"*\",n,\"=\",product)\n",
    "    num = num+1\n",
    "    \n"
   ]
  },
  {
   "cell_type": "markdown",
   "id": "cb43a461-d598-4907-9242-eab429ef4d7c",
   "metadata": {},
   "source": [
    "### write a program to print the sum of a given range of numbers using while loop"
   ]
  },
  {
   "cell_type": "code",
   "execution_count": 7,
   "id": "154986c5-afc9-43c8-8c5e-970b6112de25",
   "metadata": {},
   "outputs": [
    {
     "name": "stdin",
     "output_type": "stream",
     "text": [
      "Enter the value of a:  5\n",
      "Enter the value of b:  10\n"
     ]
    },
    {
     "name": "stdout",
     "output_type": "stream",
     "text": [
      "The sum of numbers from 5 to 10 is: 45\n"
     ]
    }
   ],
   "source": [
    "\n",
    "a = int(input(\"Enter the value of a: \"))\n",
    "b = int(input(\"Enter the value of b: \"))\n",
    "\n",
    "\n",
    "if a > b:\n",
    "    print(\"Invalid input! 'a' should be less than or equal to 'b'.\")\n",
    "else:\n",
    "    \n",
    "    total_sum = 0\n",
    "    num = a\n",
    "    \n",
    "    \n",
    "    while num <= b:\n",
    "        total_sum += num\n",
    "        num += 1\n",
    "    \n",
    "    \n",
    "    print(f\"The sum of numbers from {a} to {b} is: {total_sum}\")\n"
   ]
  },
  {
   "cell_type": "code",
   "execution_count": null,
   "id": "9b88af9b-3d1a-4be4-8ad9-33de395c4e2b",
   "metadata": {},
   "outputs": [],
   "source": []
  }
 ],
 "metadata": {
  "kernelspec": {
   "display_name": "Python 3 (ipykernel)",
   "language": "python",
   "name": "python3"
  },
  "language_info": {
   "codemirror_mode": {
    "name": "ipython",
    "version": 3
   },
   "file_extension": ".py",
   "mimetype": "text/x-python",
   "name": "python",
   "nbconvert_exporter": "python",
   "pygments_lexer": "ipython3",
   "version": "3.12.4"
  }
 },
 "nbformat": 4,
 "nbformat_minor": 5
}
