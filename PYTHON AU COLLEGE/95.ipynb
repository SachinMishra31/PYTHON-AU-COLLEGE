{
 "cells": [
  {
   "cell_type": "code",
   "execution_count": null,
   "id": "d58a6348-7ceb-4679-a6f4-fdda90ca1620",
   "metadata": {},
   "outputs": [],
   "source": [
    "def test(a,b,c):\n",
    "    add = a+b+c\n",
    "    product = a*b*c\n",
    "    return add, product\n",
    "\n",
    "x = int(input())\n",
    "y = float(input())\n",
    "z = int(input())\n",
    "\n",
    "test(x,y,z)\n",
    "\n",
    "\n"
   ]
  },
  {
   "cell_type": "code",
   "execution_count": null,
   "id": "2836cb07-c990-4a24-afb0-055362b03518",
   "metadata": {},
   "outputs": [],
   "source": []
  }
 ],
 "metadata": {
  "kernelspec": {
   "display_name": "Python 3 (ipykernel)",
   "language": "python",
   "name": "python3"
  },
  "language_info": {
   "codemirror_mode": {
    "name": "ipython",
    "version": 3
   },
   "file_extension": ".py",
   "mimetype": "text/x-python",
   "name": "python",
   "nbconvert_exporter": "python",
   "pygments_lexer": "ipython3",
   "version": "3.12.4"
  }
 },
 "nbformat": 4,
 "nbformat_minor": 5
}
