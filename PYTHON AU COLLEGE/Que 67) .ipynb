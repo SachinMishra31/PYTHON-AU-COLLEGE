{
 "cells": [
  {
   "cell_type": "code",
   "execution_count": 1,
   "id": "438168b3-e01e-4886-9283-5c12fb65f7ed",
   "metadata": {},
   "outputs": [
    {
     "name": "stdin",
     "output_type": "stream",
     "text": [
      "Enter the number of elements:  5\n",
      "Enter element 1:  1\n",
      "Enter element 2:  2\n",
      "Enter element 3:  3\n",
      "Enter element 4:  4\n",
      "Enter element 5:  5\n"
     ]
    },
    {
     "name": "stdout",
     "output_type": "stream",
     "text": [
      "The tuple is: (1, 2, 3, 4, 5)\n"
     ]
    }
   ],
   "source": [
    "# write a python program to get the tuple values from the user and print it ?\n",
    "\n",
    "\n",
    "n = int(input(\"Enter the number of elements: \"))  # Get the number of elements\n",
    "list_1 = []  # Initialize an empty list\n",
    "\n",
    "# Collect user inputs\n",
    "for i in range(n):\n",
    "    element = int(input(f\"Enter element {i+1}: \"))  # Get an integer input\n",
    "    list_1.append(element)  # Add it to the list\n",
    "\n",
    "# Convert the list to a tuple\n",
    "value = tuple(list_1)\n",
    "\n",
    "# Print the tuple\n",
    "print(\"The tuple is:\", value)\n"
   ]
  },
  {
   "cell_type": "code",
   "execution_count": null,
   "id": "a0ddcc2a-cd4f-4fb9-907d-5b920d1d8aac",
   "metadata": {},
   "outputs": [],
   "source": []
  }
 ],
 "metadata": {
  "kernelspec": {
   "display_name": "Python 3 (ipykernel)",
   "language": "python",
   "name": "python3"
  },
  "language_info": {
   "codemirror_mode": {
    "name": "ipython",
    "version": 3
   },
   "file_extension": ".py",
   "mimetype": "text/x-python",
   "name": "python",
   "nbconvert_exporter": "python",
   "pygments_lexer": "ipython3",
   "version": "3.12.4"
  }
 },
 "nbformat": 4,
 "nbformat_minor": 5
}
