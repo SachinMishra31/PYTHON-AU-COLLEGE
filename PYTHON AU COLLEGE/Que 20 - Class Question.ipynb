{
 "cells": [
  {
   "cell_type": "code",
   "execution_count": 1,
   "id": "82f4c03b-ae06-4918-9873-83e9b84a5cf7",
   "metadata": {},
   "outputs": [
    {
     "name": "stdin",
     "output_type": "stream",
     "text": [
      " 2\n",
      " 4\n"
     ]
    },
    {
     "ename": "NameError",
     "evalue": "name 'r_time' is not defined",
     "output_type": "error",
     "traceback": [
      "\u001b[1;31m---------------------------------------------------------------------------\u001b[0m",
      "\u001b[1;31mNameError\u001b[0m                                 Traceback (most recent call last)",
      "Cell \u001b[1;32mIn[1], line 7\u001b[0m\n\u001b[0;32m      5\u001b[0m     r_time \u001b[38;5;241m=\u001b[39m single_item_htime\n\u001b[0;32m      6\u001b[0m \u001b[38;5;28;01melif\u001b[39;00m n_items \u001b[38;5;241m==\u001b[39m \u001b[38;5;241m2\u001b[39m:\n\u001b[1;32m----> 7\u001b[0m     r_time \u001b[38;5;241m==\u001b[39m single_item_htime\u001b[38;5;241m*\u001b[39m\u001b[38;5;241m1.5\u001b[39m\n\u001b[0;32m      8\u001b[0m \u001b[38;5;28;01melif\u001b[39;00m n_items \u001b[38;5;241m==\u001b[39m \u001b[38;5;241m3\u001b[39m:\n\u001b[0;32m      9\u001b[0m     r_time \u001b[38;5;241m==\u001b[39m single_item_htime\u001b[38;5;241m*\u001b[39m\u001b[38;5;241m2\u001b[39m\n",
      "\u001b[1;31mNameError\u001b[0m: name 'r_time' is not defined"
     ]
    }
   ],
   "source": [
    "n_items = int(input())\n",
    "single_item_htime = float(input())\n",
    "\n",
    "if n_items == 1:\n",
    "    r_time = single_item_htime\n",
    "elif n_items == 2:\n",
    "    r_time == single_item_htime*1.5\n",
    "elif n_items == 3:\n",
    "    r_time == single_item_htime*2\n",
    "else:\n",
    "    print(\"number of items is more\")\n",
    "    \n",
    "print(r_time)"
   ]
  },
  {
   "cell_type": "code",
   "execution_count": null,
   "id": "c52fd523-1457-472c-91c2-fe17b69537ba",
   "metadata": {},
   "outputs": [],
   "source": []
  }
 ],
 "metadata": {
  "kernelspec": {
   "display_name": "Python 3 (ipykernel)",
   "language": "python",
   "name": "python3"
  },
  "language_info": {
   "codemirror_mode": {
    "name": "ipython",
    "version": 3
   },
   "file_extension": ".py",
   "mimetype": "text/x-python",
   "name": "python",
   "nbconvert_exporter": "python",
   "pygments_lexer": "ipython3",
   "version": "3.12.4"
  }
 },
 "nbformat": 4,
 "nbformat_minor": 5
}
