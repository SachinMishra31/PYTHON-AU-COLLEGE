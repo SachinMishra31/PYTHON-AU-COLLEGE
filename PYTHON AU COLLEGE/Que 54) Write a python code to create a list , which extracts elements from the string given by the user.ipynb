{
 "cells": [
  {
   "cell_type": "code",
   "execution_count": 1,
   "id": "1bb8e332-407a-4ee9-b8fb-539759390a71",
   "metadata": {},
   "outputs": [
    {
     "name": "stdin",
     "output_type": "stream",
     "text": [
      "Enter a string:  sachin\n"
     ]
    },
    {
     "name": "stdout",
     "output_type": "stream",
     "text": [
      "How would you like to split the string?\n",
      "1. By spaces (default)\n",
      "2. By a specific character (provide the character)\n",
      "3. Into individual characters\n"
     ]
    },
    {
     "name": "stdin",
     "output_type": "stream",
     "text": [
      "Enter your choice (1/2/3):  2\n",
      "Enter the character to split by:  -\n"
     ]
    },
    {
     "name": "stdout",
     "output_type": "stream",
     "text": [
      "Extracted elements as a list: ['sachin']\n"
     ]
    }
   ],
   "source": [
    "# Ask the user for input\n",
    "user_input = input(\"Enter a string: \")\n",
    "\n",
    "# Ask the user how they want to split the string\n",
    "print(\"How would you like to split the string?\")\n",
    "print(\"1. By spaces (default)\")\n",
    "print(\"2. By a specific character (provide the character)\")\n",
    "print(\"3. Into individual characters\")\n",
    "\n",
    "choice = input(\"Enter your choice (1/2/3): \")\n",
    "\n",
    "# Extract elements based on the user's choice\n",
    "if choice == \"2\":\n",
    "    delimiter = input(\"Enter the character to split by: \")\n",
    "    result_list = user_input.split(delimiter)\n",
    "elif choice == \"3\":\n",
    "    result_list = list(user_input)\n",
    "else:\n",
    "    # Default to splitting by spaces\n",
    "    result_list = user_input.split()\n",
    "\n",
    "# Output the result\n",
    "print(\"Extracted elements as a list:\", result_list)\n"
   ]
  },
  {
   "cell_type": "code",
   "execution_count": null,
   "id": "b438228d-b569-4b40-b869-b25c0ab34d04",
   "metadata": {},
   "outputs": [],
   "source": []
  }
 ],
 "metadata": {
  "kernelspec": {
   "display_name": "Python 3 (ipykernel)",
   "language": "python",
   "name": "python3"
  },
  "language_info": {
   "codemirror_mode": {
    "name": "ipython",
    "version": 3
   },
   "file_extension": ".py",
   "mimetype": "text/x-python",
   "name": "python",
   "nbconvert_exporter": "python",
   "pygments_lexer": "ipython3",
   "version": "3.12.4"
  }
 },
 "nbformat": 4,
 "nbformat_minor": 5
}
