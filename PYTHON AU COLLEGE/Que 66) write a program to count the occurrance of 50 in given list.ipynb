{
 "cells": [
  {
   "cell_type": "markdown",
   "id": "4a78b7ff-d423-4da4-aa1c-f2c3f4b0a78a",
   "metadata": {},
   "source": [
    "### Method 1 - Using For Loop"
   ]
  },
  {
   "cell_type": "code",
   "execution_count": 2,
   "id": "87c00600-e619-495d-b282-13f1a824eae4",
   "metadata": {},
   "outputs": [
    {
     "name": "stdout",
     "output_type": "stream",
     "text": [
      "2\n"
     ]
    }
   ],
   "source": [
    "num = [1,2,3,50,50,40]\n",
    "count = 0\n",
    "for i in num:\n",
    "    if i == 50:\n",
    "        count +=1\n",
    "print(count)"
   ]
  },
  {
   "cell_type": "markdown",
   "id": "ed154c47-bfbe-41ec-a718-c8175f71c668",
   "metadata": {},
   "source": [
    "### Method 2 - Using Count Method"
   ]
  },
  {
   "cell_type": "code",
   "execution_count": 3,
   "id": "c06c84e7-dd80-4ee2-be30-21ff0d2806d4",
   "metadata": {},
   "outputs": [
    {
     "name": "stdout",
     "output_type": "stream",
     "text": [
      "2\n"
     ]
    }
   ],
   "source": [
    "num = [1, 2, 3, 50, 50, 40]\n",
    "count = num.count(50)\n",
    "print(count)\n"
   ]
  },
  {
   "cell_type": "code",
   "execution_count": null,
   "id": "79a6f50b-124a-4ff8-8169-88a39aa6a498",
   "metadata": {},
   "outputs": [],
   "source": []
  }
 ],
 "metadata": {
  "kernelspec": {
   "display_name": "Python 3 (ipykernel)",
   "language": "python",
   "name": "python3"
  },
  "language_info": {
   "codemirror_mode": {
    "name": "ipython",
    "version": 3
   },
   "file_extension": ".py",
   "mimetype": "text/x-python",
   "name": "python",
   "nbconvert_exporter": "python",
   "pygments_lexer": "ipython3",
   "version": "3.12.4"
  }
 },
 "nbformat": 4,
 "nbformat_minor": 5
}
