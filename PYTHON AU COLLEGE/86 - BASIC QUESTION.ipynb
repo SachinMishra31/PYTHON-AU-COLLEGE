{
 "cells": [
  {
   "cell_type": "code",
   "execution_count": 31,
   "id": "0006ea39-76a6-453e-a47f-d50ee7986353",
   "metadata": {},
   "outputs": [
    {
     "name": "stdin",
     "output_type": "stream",
     "text": [
      " enter x1 4\n",
      " enter x2 2\n",
      " enter y1 10\n",
      " enter y2 0\n"
     ]
    }
   ],
   "source": [
    "## find the midpoint of a line\n",
    "\n",
    "x1 = int(input(\" enter x1\"))\n",
    "x2 = int(input(\" enter x2\"))\n",
    "\n",
    "y1 = int(input(\" enter y1\"))\n",
    "y2 = int( input(\" enter y2\"))\n",
    "\n"
   ]
  },
  {
   "cell_type": "code",
   "execution_count": 41,
   "id": "e534acda-a418-41b7-b05b-e530669d1840",
   "metadata": {},
   "outputs": [
    {
     "name": "stdout",
     "output_type": "stream",
     "text": [
      " midpoint : (3.0, 5.0)\n"
     ]
    }
   ],
   "source": [
    "midpoint = (x1 + x2)/2 , (y1 + y2)/2\n",
    "print (\" midpoint :\" , midpoint)"
   ]
  },
  {
   "cell_type": "code",
   "execution_count": 63,
   "id": "7230e270-5e36-4748-9da5-ca55c27cf8a6",
   "metadata": {},
   "outputs": [
    {
     "name": "stdin",
     "output_type": "stream",
     "text": [
      "ENTER YOUR INPUT 3\n",
      "ENTER YOUR INPUT 2\n"
     ]
    }
   ],
   "source": [
    "# using third variables swap the numbers\n",
    "\n",
    "a = input(\"ENTER YOUR INPUT\")\n",
    "b = input(\"ENTER YOUR INPUT\")\n",
    "\n",
    "\n",
    "\n"
   ]
  },
  {
   "cell_type": "code",
   "execution_count": 65,
   "id": "49134aac-c56f-476d-9ba7-881932902e8d",
   "metadata": {},
   "outputs": [
    {
     "name": "stdout",
     "output_type": "stream",
     "text": [
      "2\n",
      "3\n"
     ]
    }
   ],
   "source": [
    "temp = a\n",
    "a = b\n",
    "b = temp\n",
    "\n",
    "print (a)\n",
    "print (b)"
   ]
  },
  {
   "cell_type": "code",
   "execution_count": 67,
   "id": "650c2613-7d6c-4adf-9dec-df2a55c796df",
   "metadata": {},
   "outputs": [],
   "source": [
    "## calculate the BMI ( height in meter , weight in kg)\n",
    "\n",
    "\n",
    "height = 1.6\n",
    "\n",
    "weight = 50\n",
    "\n",
    "\n"
   ]
  },
  {
   "cell_type": "code",
   "execution_count": 69,
   "id": "4b1a7496-599a-4b30-903c-708b7470bf45",
   "metadata": {},
   "outputs": [
    {
     "name": "stdout",
     "output_type": "stream",
     "text": [
      "19.531249999999996\n"
     ]
    }
   ],
   "source": [
    "bmi = weight/(height**2)\n",
    "print(bmi)"
   ]
  },
  {
   "cell_type": "code",
   "execution_count": null,
   "id": "6012ef35-3842-4f41-a5a8-ea2841c001ad",
   "metadata": {},
   "outputs": [],
   "source": []
  }
 ],
 "metadata": {
  "kernelspec": {
   "display_name": "Python 3 (ipykernel)",
   "language": "python",
   "name": "python3"
  },
  "language_info": {
   "codemirror_mode": {
    "name": "ipython",
    "version": 3
   },
   "file_extension": ".py",
   "mimetype": "text/x-python",
   "name": "python",
   "nbconvert_exporter": "python",
   "pygments_lexer": "ipython3",
   "version": "3.12.4"
  }
 },
 "nbformat": 4,
 "nbformat_minor": 5
}
