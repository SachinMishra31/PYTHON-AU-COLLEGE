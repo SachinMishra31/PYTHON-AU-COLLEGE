{
 "cells": [
  {
   "cell_type": "code",
   "execution_count": null,
   "id": "e39a4829-5405-4b09-bbb8-57a3a849c735",
   "metadata": {},
   "outputs": [],
   "source": [
    "\n",
    "user_list = list(map(int, input(\"Enter numbers separated by space: \").split()))\n",
    "\n",
    "\n",
    "result = [x * 2 for x in user_list if x >= 10]\n",
    "\n",
    "\n",
    "print(\"Filtered and modified list:\", result)"
   ]
  },
  {
   "cell_type": "code",
   "execution_count": null,
   "id": "67bfaf9a-26e2-4f50-ac8c-e808c02db59a",
   "metadata": {},
   "outputs": [],
   "source": []
  }
 ],
 "metadata": {
  "kernelspec": {
   "display_name": "Python 3 (ipykernel)",
   "language": "python",
   "name": "python3"
  },
  "language_info": {
   "codemirror_mode": {
    "name": "ipython",
    "version": 3
   },
   "file_extension": ".py",
   "mimetype": "text/x-python",
   "name": "python",
   "nbconvert_exporter": "python",
   "pygments_lexer": "ipython3",
   "version": "3.12.4"
  }
 },
 "nbformat": 4,
 "nbformat_minor": 5
}
