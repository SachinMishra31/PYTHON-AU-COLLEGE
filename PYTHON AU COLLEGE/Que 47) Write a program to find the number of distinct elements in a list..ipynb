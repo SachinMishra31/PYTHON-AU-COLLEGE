{
 "cells": [
  {
   "cell_type": "code",
   "execution_count": 2,
   "id": "c0712742-1b38-48ed-a633-732743de50b1",
   "metadata": {},
   "outputs": [
    {
     "name": "stdout",
     "output_type": "stream",
     "text": [
      "The number of distinct elements in the list is: 7\n"
     ]
    }
   ],
   "source": [
    "def count_distinct_elements(numbers):\n",
    "    distinct_elements = set(numbers)\n",
    "    return len(distinct_elements)\n",
    "\n",
    "# Example usage\n",
    "numbers = [3, 5, 7, 2, 8, 10, 1, 3, 7, 2]\n",
    "distinct_count = count_distinct_elements(numbers)\n",
    "print(\"The number of distinct elements in the list is:\", distinct_count)\n"
   ]
  },
  {
   "cell_type": "markdown",
   "id": "71c0ba98-1a7e-4880-9179-1eb0f3945873",
   "metadata": {},
   "source": [
    "## Revision 1"
   ]
  },
  {
   "cell_type": "code",
   "execution_count": 2,
   "id": "2cccabfb-4a83-4c29-a4fd-682abcec45d2",
   "metadata": {},
   "outputs": [
    {
     "name": "stdout",
     "output_type": "stream",
     "text": [
      "The number of distinct elements in the list is : 7\n"
     ]
    }
   ],
   "source": [
    "def count_distinct_elements(numbers):\n",
    "    distinct_elements = set(numbers)\n",
    "    return len(distinct_elements)\n",
    "\n",
    "# Example usage\n",
    "\n",
    "numbers = [3,5,7,2,8,10,1,3,7,2]\n",
    "distinct_count = count_distinct_elements(numbers)\n",
    "print(\"The number of distinct elements in the list is :\",distinct_count)\n"
   ]
  },
  {
   "cell_type": "code",
   "execution_count": null,
   "id": "fb058e16-5f28-42ee-9b50-6ba70acfc458",
   "metadata": {},
   "outputs": [],
   "source": []
  }
 ],
 "metadata": {
  "kernelspec": {
   "display_name": "Python 3 (ipykernel)",
   "language": "python",
   "name": "python3"
  },
  "language_info": {
   "codemirror_mode": {
    "name": "ipython",
    "version": 3
   },
   "file_extension": ".py",
   "mimetype": "text/x-python",
   "name": "python",
   "nbconvert_exporter": "python",
   "pygments_lexer": "ipython3",
   "version": "3.12.4"
  }
 },
 "nbformat": 4,
 "nbformat_minor": 5
}
