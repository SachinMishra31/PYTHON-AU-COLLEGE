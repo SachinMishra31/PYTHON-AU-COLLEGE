{
 "cells": [
  {
   "cell_type": "code",
   "execution_count": 1,
   "id": "a9724c38-b274-4c4b-9b27-ca5bb9d9e07d",
   "metadata": {},
   "outputs": [
    {
     "name": "stdout",
     "output_type": "stream",
     "text": [
      "[1, 2, 3]\n"
     ]
    }
   ],
   "source": [
    "### create a list in integer and to print\n",
    "\n",
    "num = [1,2,3,]\n",
    "print(num)"
   ]
  },
  {
   "cell_type": "code",
   "execution_count": 2,
   "id": "62c5472f-0eab-4e63-9113-4f38ba97ac0d",
   "metadata": {},
   "outputs": [
    {
     "name": "stdout",
     "output_type": "stream",
     "text": [
      "[1.1, 2.2, 3.3]\n"
     ]
    }
   ],
   "source": [
    "### create a list in float and to print\n",
    "\n",
    "num = [1.1,2.2,3.3,]\n",
    "print(num)"
   ]
  },
  {
   "cell_type": "code",
   "execution_count": 3,
   "id": "28a2aae1-9a03-4747-b509-5cad89808dfd",
   "metadata": {},
   "outputs": [
    {
     "name": "stdout",
     "output_type": "stream",
     "text": [
      "['a', 'b', 'c']\n"
     ]
    }
   ],
   "source": [
    "### create a list in character and to print\n",
    "\n",
    "letter = ['a','b', 'c']\n",
    "print(letter)"
   ]
  },
  {
   "cell_type": "code",
   "execution_count": 4,
   "id": "daeeea84-fac9-4beb-ab2e-6cd9ea000738",
   "metadata": {},
   "outputs": [
    {
     "name": "stdout",
     "output_type": "stream",
     "text": [
      "['python', 'html']\n"
     ]
    }
   ],
   "source": [
    "### create a list in string and to print\n",
    "\n",
    "letter = [\"python\",\"html\"]\n",
    "print(letter)"
   ]
  },
  {
   "cell_type": "code",
   "execution_count": 5,
   "id": "0d794de2-2255-4556-a232-9dff148f61f5",
   "metadata": {},
   "outputs": [
    {
     "name": "stdout",
     "output_type": "stream",
     "text": [
      "[1, 1.2, 'a', 'python']\n"
     ]
    }
   ],
   "source": [
    "### create a combination of elements and to print\n",
    "mix = [1,1.2,'a',\"python\"]\n",
    "print(mix)"
   ]
  },
  {
   "cell_type": "code",
   "execution_count": 6,
   "id": "c0997980-c75b-4bd1-861d-67e5a2a079de",
   "metadata": {},
   "outputs": [
    {
     "name": "stdout",
     "output_type": "stream",
     "text": [
      "[[1, 2], ['a', 'b']]\n"
     ]
    }
   ],
   "source": [
    "### list with list-2list\n",
    "\n",
    "x = [[1,2],['a','b']]\n",
    "print(x)"
   ]
  },
  {
   "cell_type": "code",
   "execution_count": 8,
   "id": "90f364e7-6833-407b-a2c9-78fcf08f2937",
   "metadata": {},
   "outputs": [
    {
     "name": "stdout",
     "output_type": "stream",
     "text": [
      "python\n",
      "python\n"
     ]
    }
   ],
   "source": [
    "### accessing elements in list\n",
    "\n",
    "a = [1,12.5,'a',\"python\"]\n",
    "print(a[3])\n",
    "print(a[-1])"
   ]
  },
  {
   "cell_type": "code",
   "execution_count": 14,
   "id": "f0ef8787-6447-4780-b5bd-f6393e5d0be3",
   "metadata": {},
   "outputs": [
    {
     "name": "stdout",
     "output_type": "stream",
     "text": [
      "[1, 12.5]\n",
      "[12.5]\n"
     ]
    }
   ],
   "source": [
    "### range of elements\n",
    "b = [1,12.5,'a',\"python\"]\n",
    "\n",
    "print(b[:2])\n",
    "print(b[1:2])\n"
   ]
  },
  {
   "cell_type": "code",
   "execution_count": 22,
   "id": "3f30657e-6498-4d0d-99cd-778359ce7ca1",
   "metadata": {},
   "outputs": [
    {
     "name": "stdout",
     "output_type": "stream",
     "text": [
      "[1]\n",
      "[1, 12.5, 'a', 'python']\n",
      "[1, 'a']\n",
      "[1, 'python']\n",
      "[1, 12.5, 'a', 'python']\n",
      "12.5\n",
      "[12.5, 'python']\n",
      "[12.5]\n"
     ]
    }
   ],
   "source": [
    "### slicing in list\n",
    "\n",
    "c = [1,12.5,'a',\"python\"]\n",
    "\n",
    "print(c[::4])\n",
    "print(c[::1])\n",
    "print(c[::2])\n",
    "print(c[::3])\n",
    "###print(c[::0]) gives error\n",
    "print(c[-4::])\n",
    "print(c[-3])\n",
    "print(c[1:5:2])\n",
    "print(c[1:2:3])"
   ]
  },
  {
   "cell_type": "code",
   "execution_count": 25,
   "id": "9968c6c3-d330-48b7-a900-cb30a5fadf75",
   "metadata": {},
   "outputs": [
    {
     "name": "stdout",
     "output_type": "stream",
     "text": [
      "[[0, 0, 0, 0, 0]]\n",
      "['a', 'b', 'c', 'd', 'python', 'list']\n"
     ]
    }
   ],
   "source": [
    "### operation on list\n",
    "\n",
    "a = [0]*5\n",
    "print([a])\n",
    "\n",
    "letter = [ 'a','b','c','d']\n",
    "stg = ['python','list']\n",
    "conc = letter + stg\n",
    "print(conc)\n",
    "\n"
   ]
  },
  {
   "cell_type": "code",
   "execution_count": 26,
   "id": "8655f5da-7b72-45ce-8b85-7fd8fbf16f7c",
   "metadata": {},
   "outputs": [
    {
     "name": "stdout",
     "output_type": "stream",
     "text": [
      "['p', 'y', 't', 'h', 'o', 'n']\n"
     ]
    }
   ],
   "source": [
    "a = list(\"python\")\n",
    "print(a)"
   ]
  },
  {
   "cell_type": "code",
   "execution_count": 28,
   "id": "7a5d70e7-ac13-4864-8b0a-243e0b1c6c9b",
   "metadata": {},
   "outputs": [
    {
     "name": "stdout",
     "output_type": "stream",
     "text": [
      "[1, 2, 3, 4]\n",
      "1\n",
      "[2, 3, 4]\n"
     ]
    }
   ],
   "source": [
    "num = [ 1,2,3,4,]\n",
    "print(num)\n",
    "a, *other = num\n",
    "print(a)\n",
    "print( other)"
   ]
  },
  {
   "cell_type": "code",
   "execution_count": null,
   "id": "838fba1c-6fd3-45cd-844f-b201262d7a6d",
   "metadata": {},
   "outputs": [],
   "source": [
    "### wap for swappiinig the two numbers\n",
    "\n",
    "## with third variable\n",
    "### do not use + -"
   ]
  },
  {
   "cell_type": "code",
   "execution_count": null,
   "id": "82053490-90bb-46c9-bb7d-0d50d399ff36",
   "metadata": {},
   "outputs": [],
   "source": [
    "### create a list using 5 fruits name\n",
    "\n"
   ]
  },
  {
   "cell_type": "code",
   "execution_count": null,
   "id": "71a0df4c-0e4e-42bf-b91d-7697d91c1da1",
   "metadata": {},
   "outputs": [],
   "source": [
    "## sort Elements in list\n",
    "\n",
    "a = [ 9,17,14,4,90,55]\n",
    "b = (sum(a)/sum(b)"
   ]
  },
  {
   "cell_type": "code",
   "execution_count": 1,
   "id": "b5ff2738-ec30-414f-a123-4eec023d4026",
   "metadata": {},
   "outputs": [
    {
     "name": "stdout",
     "output_type": "stream",
     "text": [
      "[1, 2, 3, 4, 5, 6, 7, 8, 9, 10]\n",
      "[1, 3, 5, 7, 9]\n",
      "[2, 4, 6, 8, 10]\n"
     ]
    }
   ],
   "source": [
    "list1 = list(range(1,11))\n",
    "print(list1)\n",
    "odd = list1[::2]\n",
    "print(odd)\n",
    "even = list1[1::2]\n",
    "print(even)"
   ]
  },
  {
   "cell_type": "markdown",
   "id": "ec9c8e67-89da-4f37-85ba-461872fac4c6",
   "metadata": {},
   "source": [
    "### List"
   ]
  },
  {
   "cell_type": "code",
   "execution_count": null,
   "id": "ce9622ed-4e9d-484c-8c7e-64684ca027d6",
   "metadata": {},
   "outputs": [],
   "source": []
  },
  {
   "cell_type": "markdown",
   "id": "852192c7-939c-4c9c-b49d-f928b4180a4a",
   "metadata": {},
   "source": [
    "# Type Conversion"
   ]
  },
  {
   "cell_type": "code",
   "execution_count": 2,
   "id": "f523e1ec-0066-4695-84da-3a5e1aacf869",
   "metadata": {},
   "outputs": [
    {
     "name": "stdout",
     "output_type": "stream",
     "text": [
      "10 <class 'int'>\n"
     ]
    }
   ],
   "source": [
    "## 1) int conversion\n",
    "### eg: float to int\n",
    "\n",
    "a = 10.67\n",
    "type(a)\n",
    "b =  int(a)\n",
    "print(b, type(b))"
   ]
  },
  {
   "cell_type": "code",
   "execution_count": 5,
   "id": "39f51270-daec-4a49-a46b-274609ce7658",
   "metadata": {},
   "outputs": [
    {
     "ename": "TypeError",
     "evalue": "int() argument must be a string, a bytes-like object or a real number, not 'complex'",
     "output_type": "error",
     "traceback": [
      "\u001b[1;31m---------------------------------------------------------------------------\u001b[0m",
      "\u001b[1;31mTypeError\u001b[0m                                 Traceback (most recent call last)",
      "Cell \u001b[1;32mIn[5], line 8\u001b[0m\n\u001b[0;32m      5\u001b[0m y \u001b[38;5;241m=\u001b[39m \u001b[38;5;28mint\u001b[39m(x\u001b[38;5;241m.\u001b[39mreal)\n\u001b[0;32m      6\u001b[0m z \u001b[38;5;241m=\u001b[39m \u001b[38;5;28mint\u001b[39m(x\u001b[38;5;241m.\u001b[39mimag)\n\u001b[1;32m----> 8\u001b[0m a \u001b[38;5;241m=\u001b[39m \u001b[38;5;28mint\u001b[39m(x)\n",
      "\u001b[1;31mTypeError\u001b[0m: int() argument must be a string, a bytes-like object or a real number, not 'complex'"
     ]
    }
   ],
   "source": [
    "## eg: complex to int\n",
    "\n",
    "\n",
    "x = 17.56 + 20.1j\n",
    "y = int(x.real)\n",
    "z = int(x.imag)\n",
    "\n",
    "a = int(x) ## error"
   ]
  },
  {
   "cell_type": "code",
   "execution_count": 2,
   "id": "8c0e75ab-433f-4e68-96e6-cd4cdac8ab0a",
   "metadata": {},
   "outputs": [
    {
     "name": "stdout",
     "output_type": "stream",
     "text": [
      "100 <class 'int'>\n"
     ]
    }
   ],
   "source": [
    "## eg3: str to int\n",
    "\n",
    "x = \"100\"\n",
    "t = int(x)\n",
    "print(t,type(t))"
   ]
  },
  {
   "cell_type": "code",
   "execution_count": 3,
   "id": "be111b2a-bc95-40e4-ad44-b82e1e70afde",
   "metadata": {},
   "outputs": [
    {
     "name": "stdout",
     "output_type": "stream",
     "text": [
      "1 <class 'int'>\n"
     ]
    }
   ],
   "source": [
    "## eg4: bool to int\n",
    "\n",
    "x = True\n",
    "y = int(x)\n",
    "print(y,type(y))"
   ]
  },
  {
   "cell_type": "code",
   "execution_count": null,
   "id": "a7bba638-e2fd-428d-a608-c69a15b9dbad",
   "metadata": {},
   "outputs": [],
   "source": [
    "## 2) float conversion\n",
    "\n",
    "#  int -> float\n",
    "# str -> float\n",
    "# boolean -> float"
   ]
  },
  {
   "cell_type": "code",
   "execution_count": 4,
   "id": "43b7db6c-fad2-4613-9f0b-e303d0d250e4",
   "metadata": {},
   "outputs": [],
   "source": [
    "## 3) complex conversion\n",
    "\n",
    "# int\n",
    "# float\n",
    "# string\n",
    "# bool"
   ]
  },
  {
   "cell_type": "code",
   "execution_count": 5,
   "id": "a028be92-af82-41f0-aa34-0a7d7d9d4296",
   "metadata": {},
   "outputs": [
    {
     "name": "stdout",
     "output_type": "stream",
     "text": [
      "(2+0j) <class 'complex'>\n"
     ]
    }
   ],
   "source": [
    "x = complex(2)\n",
    "print(x,type(x))"
   ]
  },
  {
   "cell_type": "code",
   "execution_count": 6,
   "id": "bb6d3a2f-7ccb-4e3f-ba98-c080df1911b0",
   "metadata": {},
   "outputs": [
    {
     "name": "stdout",
     "output_type": "stream",
     "text": [
      "(7.7+0j) <class 'complex'>\n"
     ]
    }
   ],
   "source": [
    "y = complex(7.7)\n",
    "print(y,type(y))"
   ]
  },
  {
   "cell_type": "code",
   "execution_count": 7,
   "id": "95de3b48-495e-49d1-a7b3-0854e0fac70d",
   "metadata": {},
   "outputs": [
    {
     "name": "stdout",
     "output_type": "stream",
     "text": [
      "(1+0j) <class 'complex'>\n"
     ]
    }
   ],
   "source": [
    "z = complex(True)\n",
    "print(z,type(z))"
   ]
  },
  {
   "cell_type": "code",
   "execution_count": 8,
   "id": "d63a854a-b2a1-4bc2-beba-a23850a7e15d",
   "metadata": {},
   "outputs": [
    {
     "name": "stdout",
     "output_type": "stream",
     "text": [
      "0j <class 'complex'>\n"
     ]
    }
   ],
   "source": [
    "s = complex(False)\n",
    "print(s, type(s))"
   ]
  },
  {
   "cell_type": "code",
   "execution_count": null,
   "id": "206ebe2d-a400-4e56-9c76-79cbd29432a6",
   "metadata": {},
   "outputs": [],
   "source": []
  }
 ],
 "metadata": {
  "kernelspec": {
   "display_name": "Python 3 (ipykernel)",
   "language": "python",
   "name": "python3"
  },
  "language_info": {
   "codemirror_mode": {
    "name": "ipython",
    "version": 3
   },
   "file_extension": ".py",
   "mimetype": "text/x-python",
   "name": "python",
   "nbconvert_exporter": "python",
   "pygments_lexer": "ipython3",
   "version": "3.12.4"
  }
 },
 "nbformat": 4,
 "nbformat_minor": 5
}
