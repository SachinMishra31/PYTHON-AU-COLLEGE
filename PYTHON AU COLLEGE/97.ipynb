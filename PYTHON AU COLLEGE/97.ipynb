{
 "cells": [
  {
   "cell_type": "code",
   "execution_count": null,
   "id": "d36cdd81-0c40-4f5e-ac87-81d27b6cd1e3",
   "metadata": {},
   "outputs": [],
   "source": [
    "# Function to find even numbers in a list\n",
    "def find_even_numbers(numbers_list):\n",
    "    even_numbers = []\n",
    "    for num in numbers_list:\n",
    "        if num % 2 == 0:\n",
    "            even_numbers.append(num)\n",
    "    return even_numbers\n",
    "\n",
    "# Input: List of numbers\n",
    "numbers = list(map(int, input(\"Enter the numbers separated by spaces: \").split()))\n",
    "\n",
    "# Output: List of even numbers\n",
    "even_numbers = find_even_numbers(numbers)\n",
    "print(f\"The even numbers in the list are: {even_numbers}\")\n"
   ]
  },
  {
   "cell_type": "code",
   "execution_count": null,
   "id": "6763e974-8d33-4760-830d-c0a8d90eab0f",
   "metadata": {},
   "outputs": [],
   "source": []
  }
 ],
 "metadata": {
  "kernelspec": {
   "display_name": "Python 3 (ipykernel)",
   "language": "python",
   "name": "python3"
  },
  "language_info": {
   "codemirror_mode": {
    "name": "ipython",
    "version": 3
   },
   "file_extension": ".py",
   "mimetype": "text/x-python",
   "name": "python",
   "nbconvert_exporter": "python",
   "pygments_lexer": "ipython3",
   "version": "3.12.4"
  }
 },
 "nbformat": 4,
 "nbformat_minor": 5
}
