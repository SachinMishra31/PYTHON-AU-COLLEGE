{
 "cells": [
  {
   "cell_type": "code",
   "execution_count": 1,
   "id": "f22d7da6-f286-4733-bc72-1f7336317e94",
   "metadata": {},
   "outputs": [
    {
     "name": "stdin",
     "output_type": "stream",
     "text": [
      "Enter your num1 5\n",
      "Enter your num2 9\n",
      "Enter your num3 4\n"
     ]
    },
    {
     "name": "stdout",
     "output_type": "stream",
     "text": [
      "5\n"
     ]
    }
   ],
   "source": [
    "num1 = int(input(\"Enter your num1\"))\n",
    "num2 = int(input(\"Enter your num2\"))\n",
    "num3 = int(input(\"Enter your num3\"))\n",
    "largest = 0\n",
    "smallest = 0\n",
    "\n",
    "#finding largest number\n",
    "if num1>num2 and num1>num3:\n",
    "    largest = num1\n",
    "elif num2>num1 and num2>num3:\n",
    "    largest = num2\n",
    "else:\n",
    "    largest = num3\n",
    "\n",
    "#finding smallest number\n",
    "if num1<num2 and num1 <3:\n",
    "    smallest = num1\n",
    "elif num2<num1 and num2<num3:\n",
    "    smallest = num2\n",
    "else:\n",
    "    smallest = num3\n",
    "    \n",
    "    \n",
    "secondlargest = num1+num2+num3 -(largest+smallest)\n",
    "print(secondlargest)"
   ]
  },
  {
   "cell_type": "code",
   "execution_count": null,
   "id": "98d8baa3-b037-4f49-b23d-966dab188f45",
   "metadata": {},
   "outputs": [],
   "source": []
  }
 ],
 "metadata": {
  "kernelspec": {
   "display_name": "Python 3 (ipykernel)",
   "language": "python",
   "name": "python3"
  },
  "language_info": {
   "codemirror_mode": {
    "name": "ipython",
    "version": 3
   },
   "file_extension": ".py",
   "mimetype": "text/x-python",
   "name": "python",
   "nbconvert_exporter": "python",
   "pygments_lexer": "ipython3",
   "version": "3.12.4"
  }
 },
 "nbformat": 4,
 "nbformat_minor": 5
}
