{
 "cells": [
  {
   "cell_type": "markdown",
   "id": "4e2f4710-5a7c-4e78-90bd-bc33e852234b",
   "metadata": {},
   "source": [
    "# Looping"
   ]
  },
  {
   "cell_type": "code",
   "execution_count": 2,
   "id": "a2f5ffaa-7860-4d95-b1da-77595bdf8b4c",
   "metadata": {},
   "outputs": [
    {
     "name": "stdout",
     "output_type": "stream",
     "text": [
      "('hello',)\n",
      "(('hello',),)\n",
      "((('hello',),),)\n"
     ]
    }
   ],
   "source": [
    "Tuple = (\"hello\")\n",
    "n = 3\n",
    "for i in range(int(n)):\n",
    "    Tuple = (Tuple,)\n",
    "    print(Tuple)"
   ]
  },
  {
   "cell_type": "markdown",
   "id": "6be0202d-4690-4bea-b377-786d274c0a58",
   "metadata": {},
   "source": [
    "# Built in Function"
   ]
  },
  {
   "cell_type": "code",
   "execution_count": 3,
   "id": "416b695e-a9dc-4544-b661-2f615febf465",
   "metadata": {},
   "outputs": [
    {
     "name": "stdout",
     "output_type": "stream",
     "text": [
      "5\n"
     ]
    }
   ],
   "source": [
    "tuple = ('developer',5,8.9,'r',8)\n",
    "print(len(tuple))"
   ]
  },
  {
   "cell_type": "code",
   "execution_count": 5,
   "id": "d6f7363c-0d35-47d7-b64b-27938dc58d66",
   "metadata": {},
   "outputs": [
    {
     "name": "stdout",
     "output_type": "stream",
     "text": [
      "89\n"
     ]
    }
   ],
   "source": [
    "tuple = (9,5,89,4,9)\n",
    "print(max(tuple))"
   ]
  },
  {
   "cell_type": "code",
   "execution_count": 6,
   "id": "fec2b563-6d47-415e-af5d-36994150cfc9",
   "metadata": {},
   "outputs": [
    {
     "name": "stdout",
     "output_type": "stream",
     "text": [
      "4\n"
     ]
    }
   ],
   "source": [
    "tuple = (9,5,89,4,9)\n",
    "print(min(tuple))"
   ]
  },
  {
   "cell_type": "code",
   "execution_count": 7,
   "id": "ce17388a-349d-468d-b327-433fac9e9080",
   "metadata": {},
   "outputs": [
    {
     "name": "stdout",
     "output_type": "stream",
     "text": [
      "116\n"
     ]
    }
   ],
   "source": [
    "tuple = (9,5,89,4,9)\n",
    "print(sum(tuple))"
   ]
  },
  {
   "cell_type": "code",
   "execution_count": 8,
   "id": "92362423-71ca-4127-aada-8a0870ffbca6",
   "metadata": {},
   "outputs": [
    {
     "name": "stdout",
     "output_type": "stream",
     "text": [
      "True\n"
     ]
    }
   ],
   "source": [
    "tuple = (0,1)\n",
    "print(any(tuple))"
   ]
  },
  {
   "cell_type": "code",
   "execution_count": 9,
   "id": "34ed8962-1c22-4b33-8983-4b23b018478c",
   "metadata": {},
   "outputs": [
    {
     "name": "stdout",
     "output_type": "stream",
     "text": [
      "True\n"
     ]
    }
   ],
   "source": [
    "tuple = (4,1)\n",
    "print(all(tuple))"
   ]
  },
  {
   "cell_type": "code",
   "execution_count": 10,
   "id": "c74d248d-64af-4163-b311-af37bdb08e4c",
   "metadata": {},
   "outputs": [
    {
     "name": "stdout",
     "output_type": "stream",
     "text": [
      "False\n"
     ]
    }
   ],
   "source": [
    "tuple = (0,5,7)\n",
    "print(all(tuple))"
   ]
  },
  {
   "cell_type": "code",
   "execution_count": 11,
   "id": "a084ffa4-d2ad-4b06-8836-1f35a5f60123",
   "metadata": {},
   "outputs": [
    {
     "name": "stdout",
     "output_type": "stream",
     "text": [
      "True\n"
     ]
    }
   ],
   "source": [
    "tuple=()\n",
    "print(all(tuple))\n",
    "\n"
   ]
  },
  {
   "cell_type": "markdown",
   "id": "d7a53905-5094-4b9f-ac7c-242cc6ee2dd3",
   "metadata": {},
   "source": [
    "# Predict the output"
   ]
  },
  {
   "cell_type": "code",
   "execution_count": 15,
   "id": "8cfc9c81-f2bc-42dd-9ddb-cc8d3d7ab2ed",
   "metadata": {},
   "outputs": [
    {
     "name": "stdout",
     "output_type": "stream",
     "text": [
      "apple\n"
     ]
    }
   ],
   "source": [
    "tuple = (\"apple\", \"byte\",\"computer\")\n",
    "n = 2\n",
    "for i in range(n):\n",
    "    print(tuple[i])\n",
    "    break"
   ]
  },
  {
   "cell_type": "code",
   "execution_count": 14,
   "id": "3cea781a-88d3-4851-a220-9f45d2f038f8",
   "metadata": {},
   "outputs": [
    {
     "name": "stdout",
     "output_type": "stream",
     "text": [
      "['apple', 'byte', 'computer']\n"
     ]
    }
   ],
   "source": [
    "tuple = (\"apple\", \"byte\",\"computer\")\n",
    "print(list(tuple))"
   ]
  },
  {
   "cell_type": "code",
   "execution_count": 16,
   "id": "77a34ec2-039a-40c8-a072-89ec59b0d4ec",
   "metadata": {},
   "outputs": [
    {
     "name": "stdout",
     "output_type": "stream",
     "text": [
      "2\n"
     ]
    }
   ],
   "source": [
    "tuple = (3,7,'p','y','z',9.5,'y')\n",
    "print(tuple.count('y'))"
   ]
  },
  {
   "cell_type": "code",
   "execution_count": 17,
   "id": "7448e9b9-641a-4be5-b8dd-479523140f0e",
   "metadata": {},
   "outputs": [
    {
     "name": "stdout",
     "output_type": "stream",
     "text": [
      "3\n"
     ]
    }
   ],
   "source": [
    "tuple = (3,7,'p','y','z',9.5,'y')\n",
    "print(tuple.index('y'))"
   ]
  },
  {
   "cell_type": "markdown",
   "id": "c4b4583b-3c67-4fea-a68b-b0ee3d77d7d4",
   "metadata": {},
   "source": [
    "# Practice"
   ]
  },
  {
   "cell_type": "code",
   "execution_count": 18,
   "id": "62e33e2a-359d-468e-8814-c6e27d324877",
   "metadata": {},
   "outputs": [],
   "source": [
    "value_tuple = (26,45,'hello')\n",
    "value = (\"a\",)"
   ]
  },
  {
   "cell_type": "code",
   "execution_count": 19,
   "id": "dbb64b55-a34b-41ec-b999-56775adff46a",
   "metadata": {},
   "outputs": [
    {
     "data": {
      "text/plain": [
       "tuple"
      ]
     },
     "execution_count": 19,
     "metadata": {},
     "output_type": "execute_result"
    }
   ],
   "source": [
    "type(value)"
   ]
  },
  {
   "cell_type": "code",
   "execution_count": 20,
   "id": "28756e6a-569e-49a2-8cc7-77bbd039680d",
   "metadata": {},
   "outputs": [],
   "source": [
    "value = \"a\""
   ]
  },
  {
   "cell_type": "code",
   "execution_count": 21,
   "id": "1cc8e92a-ddbf-4444-89c0-72a3d0b63e28",
   "metadata": {},
   "outputs": [
    {
     "data": {
      "text/plain": [
       "str"
      ]
     },
     "execution_count": 21,
     "metadata": {},
     "output_type": "execute_result"
    }
   ],
   "source": [
    "type(value)"
   ]
  },
  {
   "cell_type": "markdown",
   "id": "76c02169-6555-4fcb-a9e4-f076525c2307",
   "metadata": {},
   "source": [
    "# Insertion in Tuple"
   ]
  },
  {
   "cell_type": "code",
   "execution_count": 22,
   "id": "e6115eb7-177a-4b52-bc9a-aba2604f9ee1",
   "metadata": {},
   "outputs": [
    {
     "data": {
      "text/plain": [
       "(26, 45, 'hello', 7.5)"
      ]
     },
     "execution_count": 22,
     "metadata": {},
     "output_type": "execute_result"
    }
   ],
   "source": [
    "value_tuple = (26,45,'hello',7.5)\n",
    "value_tuple"
   ]
  },
  {
   "cell_type": "code",
   "execution_count": 23,
   "id": "78905ecd-366c-4d1f-a0b7-d67e88d5675c",
   "metadata": {},
   "outputs": [
    {
     "ename": "TypeError",
     "evalue": "'tuple' object does not support item assignment",
     "output_type": "error",
     "traceback": [
      "\u001b[1;31m---------------------------------------------------------------------------\u001b[0m",
      "\u001b[1;31mTypeError\u001b[0m                                 Traceback (most recent call last)",
      "Cell \u001b[1;32mIn[23], line 1\u001b[0m\n\u001b[1;32m----> 1\u001b[0m value_tuple[\u001b[38;5;241m2\u001b[39m] \u001b[38;5;241m=\u001b[39m \u001b[38;5;124m\"\u001b[39m\u001b[38;5;124mPython\u001b[39m\u001b[38;5;124m\"\u001b[39m\n",
      "\u001b[1;31mTypeError\u001b[0m: 'tuple' object does not support item assignment"
     ]
    }
   ],
   "source": [
    "value_tuple[2] = \"Python\"\n",
    "# it gives error because it is immutable tuple"
   ]
  },
  {
   "cell_type": "markdown",
   "id": "eced0600-7095-4145-b54f-dc6f7441bb28",
   "metadata": {},
   "source": [
    "# Concatenation"
   ]
  },
  {
   "cell_type": "code",
   "execution_count": 24,
   "id": "d914619c-9e94-4e17-8cc2-ed9b44b36307",
   "metadata": {},
   "outputs": [
    {
     "data": {
      "text/plain": [
       "(26, 45, 'hello', 7.5, 7, 5.6, 'Python')"
      ]
     },
     "execution_count": 24,
     "metadata": {},
     "output_type": "execute_result"
    }
   ],
   "source": [
    "value1_tuple = (26,45,'hello',7.5)\n",
    "value2_tuple =( 7,5.6,\"Python\")\n",
    "value3_tuple  = value1_tuple + value2_tuple \n",
    "value3_tuple"
   ]
  },
  {
   "cell_type": "markdown",
   "id": "1f0826b9-869a-479e-b164-9ae815b63a7a",
   "metadata": {},
   "source": [
    "# Nesting"
   ]
  },
  {
   "cell_type": "code",
   "execution_count": 25,
   "id": "5a05245d-4cd8-4253-9cf4-0b2e2109e909",
   "metadata": {},
   "outputs": [
    {
     "data": {
      "text/plain": [
       "((26, 45, 'hello', 7.5), (7, 5.6, 'Python'))"
      ]
     },
     "execution_count": 25,
     "metadata": {},
     "output_type": "execute_result"
    }
   ],
   "source": [
    "value1_tuple = (26,45,'hello',7.5)\n",
    "value2_tuple =( 7,5.6,\"Python\")\n",
    "value3_tuple  = value1_tuple , value2_tuple \n",
    "value3_tuple"
   ]
  },
  {
   "cell_type": "markdown",
   "id": "2e4e4e09-22bc-4329-bbf1-8574a5418831",
   "metadata": {},
   "source": [
    "# Adding elements to tuple"
   ]
  },
  {
   "cell_type": "code",
   "execution_count": 27,
   "id": "a7f91b12-95d9-4cc3-90f5-3fca1fb59c0b",
   "metadata": {},
   "outputs": [
    {
     "data": {
      "text/plain": [
       "(26, 45, 'hello', 7.5, 7)"
      ]
     },
     "execution_count": 27,
     "metadata": {},
     "output_type": "execute_result"
    }
   ],
   "source": [
    "value1_tuple = (26,45,'hello',7.5)\n",
    "value1_tuple = value1_tuple+(7,)\n",
    "value1_tuple"
   ]
  },
  {
   "cell_type": "code",
   "execution_count": 32,
   "id": "207d3ec8-c734-4bfc-8ac3-898d2f65b8f6",
   "metadata": {},
   "outputs": [
    {
     "data": {
      "text/plain": [
       "[26, 45, 'hello', 7.5]"
      ]
     },
     "execution_count": 32,
     "metadata": {},
     "output_type": "execute_result"
    }
   ],
   "source": [
    "value_tuple = (26,45,'hello',7.5)\n",
    "converted_list = list(value_tuple)\n",
    "converted_list"
   ]
  },
  {
   "cell_type": "code",
   "execution_count": 33,
   "id": "a006c290-99f3-4900-97e0-387486ff0b11",
   "metadata": {},
   "outputs": [
    {
     "data": {
      "text/plain": [
       "[26, 45, 'hello', 7.5, 7]"
      ]
     },
     "execution_count": 33,
     "metadata": {},
     "output_type": "execute_result"
    }
   ],
   "source": [
    "converted_list.append(7)\n",
    "converted_list"
   ]
  },
  {
   "cell_type": "code",
   "execution_count": 6,
   "id": "b6111824-5a50-492c-8d2b-907b452c739f",
   "metadata": {},
   "outputs": [
    {
     "ename": "NameError",
     "evalue": "name 'converted_list' is not defined",
     "output_type": "error",
     "traceback": [
      "\u001b[1;31m---------------------------------------------------------------------------\u001b[0m",
      "\u001b[1;31mNameError\u001b[0m                                 Traceback (most recent call last)",
      "Cell \u001b[1;32mIn[6], line 1\u001b[0m\n\u001b[1;32m----> 1\u001b[0m value1_tuple \u001b[38;5;241m=\u001b[39m \u001b[38;5;28mtuple\u001b[39m(converted_list)\n\u001b[0;32m      2\u001b[0m value1_tuple\n",
      "\u001b[1;31mNameError\u001b[0m: name 'converted_list' is not defined"
     ]
    }
   ],
   "source": [
    "value1_tuple = tuple(converted_list)\n",
    "value1_tuple"
   ]
  },
  {
   "cell_type": "code",
   "execution_count": 9,
   "id": "8124f666-ac0f-4939-bbb5-8973670f983e",
   "metadata": {},
   "outputs": [
    {
     "name": "stdout",
     "output_type": "stream",
     "text": [
      "[10, 20, 30, 7]\n"
     ]
    }
   ],
   "source": [
    "a = (10,20,30)\n",
    "b = list(a)\n",
    "b.append(7)\n",
    "print(b)"
   ]
  },
  {
   "cell_type": "code",
   "execution_count": 10,
   "id": "3ae21a16-0c46-447c-aa57-da129273de45",
   "metadata": {},
   "outputs": [
    {
     "data": {
      "text/plain": [
       "(10, 20, 30, 7)"
      ]
     },
     "execution_count": 10,
     "metadata": {},
     "output_type": "execute_result"
    }
   ],
   "source": [
    "x = tuple(b)\n",
    "x"
   ]
  },
  {
   "cell_type": "markdown",
   "id": "633cfcef-cd98-4611-871d-b1a97be2774e",
   "metadata": {},
   "source": [
    "# Repetition in Tuple"
   ]
  },
  {
   "cell_type": "code",
   "execution_count": null,
   "id": "ac41c4ce-ab7f-42fa-aa33-e3da4c1b3cc5",
   "metadata": {},
   "outputs": [],
   "source": [
    "\n"
   ]
  },
  {
   "cell_type": "markdown",
   "id": "0f3e0f73-aaa0-4eb8-9661-4562aaf90b7e",
   "metadata": {},
   "source": [
    "# write a python program to get the tuple values from the user and print it ?"
   ]
  },
  {
   "cell_type": "code",
   "execution_count": 1,
   "id": "ee047270-191f-4eb6-87c0-d1af0e999773",
   "metadata": {},
   "outputs": [
    {
     "name": "stdin",
     "output_type": "stream",
     "text": [
      " 4\n",
      " 1 2 3 4\n"
     ]
    },
    {
     "ename": "ValueError",
     "evalue": "invalid literal for int() with base 10: '1 2 3 4'",
     "output_type": "error",
     "traceback": [
      "\u001b[1;31m---------------------------------------------------------------------------\u001b[0m",
      "\u001b[1;31mValueError\u001b[0m                                Traceback (most recent call last)",
      "Cell \u001b[1;32mIn[1], line 5\u001b[0m\n\u001b[0;32m      3\u001b[0m list_1\u001b[38;5;241m=\u001b[39m[]\n\u001b[0;32m      4\u001b[0m \u001b[38;5;28;01mfor\u001b[39;00m i \u001b[38;5;129;01min\u001b[39;00m \u001b[38;5;28mrange\u001b[39m(n):\n\u001b[1;32m----> 5\u001b[0m     list_1\u001b[38;5;241m.\u001b[39mappend(\u001b[38;5;28mint\u001b[39m(\u001b[38;5;28minput\u001b[39m()))\n\u001b[0;32m      6\u001b[0m     value\u001b[38;5;241m=\u001b[39m\u001b[38;5;28mtuple\u001b[39m(list_1)\n",
      "\u001b[1;31mValueError\u001b[0m: invalid literal for int() with base 10: '1 2 3 4'"
     ]
    }
   ],
   "source": [
    "value =()\n",
    "n = int(input())\n",
    "list_1=[]\n",
    "for i in range(n):\n",
    "    list_1.append(int(input()))\n",
    "    value=tuple(list_1)"
   ]
  },
  {
   "cell_type": "markdown",
   "id": "b6557d69-3b01-45e4-8de9-a8e5d9407df9",
   "metadata": {},
   "source": [
    "# Accessing Values in tuple"
   ]
  },
  {
   "cell_type": "code",
   "execution_count": 11,
   "id": "f78c86b4-3185-4b90-996a-cd35432ac0c9",
   "metadata": {},
   "outputs": [
    {
     "name": "stdout",
     "output_type": "stream",
     "text": [
      "one\n",
      "Two\n",
      "Three\n",
      "Four\n"
     ]
    }
   ],
   "source": [
    "number = (\"one\", \"Two\", \"Three\", \"Four\")\n",
    "i = 0 \n",
    "while i < len(number):\n",
    "    print(number[i])\n",
    "    i = i + 1"
   ]
  },
  {
   "cell_type": "code",
   "execution_count": 12,
   "id": "8e2dc1e7-26b3-4dfb-9b45-1ae447a00c38",
   "metadata": {},
   "outputs": [
    {
     "name": "stdout",
     "output_type": "stream",
     "text": [
      "one\n",
      "Two\n",
      "Three\n",
      "Four\n"
     ]
    }
   ],
   "source": [
    "number = (\"one\", \"Two\", \"Three\", \"Four\")\n",
    "for i in number:\n",
    "    print(i)"
   ]
  },
  {
   "cell_type": "markdown",
   "id": "7c0fc4dc-eec5-4490-9fce-90fb932c37c0",
   "metadata": {},
   "source": [
    "# Write a python program to get the elements 45 from the below tuple ?"
   ]
  },
  {
   "cell_type": "code",
   "execution_count": 13,
   "id": "36e3c9d1-01f3-40ae-a6f9-3458e2c12666",
   "metadata": {},
   "outputs": [
    {
     "name": "stdout",
     "output_type": "stream",
     "text": [
      "7\n"
     ]
    }
   ],
   "source": [
    "value_tuple = ( 1,2,3,4,5,6,7,8,9)\n",
    "print(value_tuple[6])"
   ]
  },
  {
   "cell_type": "markdown",
   "id": "d5e8beb3-d932-4284-b490-dbbe746ca213",
   "metadata": {},
   "source": [
    "# Unpacking the Tuples"
   ]
  },
  {
   "cell_type": "code",
   "execution_count": 15,
   "id": "ab73165d-e1e0-401f-a4ad-39bd8ed298da",
   "metadata": {},
   "outputs": [
    {
     "name": "stdout",
     "output_type": "stream",
     "text": [
      "One\n"
     ]
    }
   ],
   "source": [
    "numbers = (\"One\",\"Two\",\"Three\",\"Four\")\n",
    "(a,b,c,d)= numbers\n",
    "print(a)"
   ]
  },
  {
   "cell_type": "code",
   "execution_count": 16,
   "id": "3c3e704f-de76-4b69-9b5f-6536af9ee97f",
   "metadata": {},
   "outputs": [
    {
     "name": "stdout",
     "output_type": "stream",
     "text": [
      "One\n",
      "Two Three\n",
      "Four\n"
     ]
    }
   ],
   "source": [
    "numbers = (\"One\",\"Two\",\"Three\",\"Four\")\n",
    "(a,*b,c)= numbers\n",
    "print(a)\n",
    "print(*b)\n",
    "print(c)"
   ]
  },
  {
   "cell_type": "markdown",
   "id": "ee882497-ac31-4f19-9c1d-461407493bbb",
   "metadata": {},
   "source": [
    "# write a python code to get the input from the user and find the length of the tuple ?"
   ]
  },
  {
   "cell_type": "code",
   "execution_count": 18,
   "id": "e4847cc2-5b20-4e4e-aa94-e01d13ca2f3e",
   "metadata": {},
   "outputs": [
    {
     "name": "stdout",
     "output_type": "stream",
     "text": [
      "4\n"
     ]
    }
   ],
   "source": [
    "tuple_=(12,6,7,8)\n",
    "print(len(tuple_))\n"
   ]
  },
  {
   "cell_type": "code",
   "execution_count": null,
   "id": "7eed127e-4ed2-4ff4-bed0-6244b1822a47",
   "metadata": {},
   "outputs": [],
   "source": []
  }
 ],
 "metadata": {
  "kernelspec": {
   "display_name": "Python 3 (ipykernel)",
   "language": "python",
   "name": "python3"
  },
  "language_info": {
   "codemirror_mode": {
    "name": "ipython",
    "version": 3
   },
   "file_extension": ".py",
   "mimetype": "text/x-python",
   "name": "python",
   "nbconvert_exporter": "python",
   "pygments_lexer": "ipython3",
   "version": "3.12.4"
  }
 },
 "nbformat": 4,
 "nbformat_minor": 5
}
