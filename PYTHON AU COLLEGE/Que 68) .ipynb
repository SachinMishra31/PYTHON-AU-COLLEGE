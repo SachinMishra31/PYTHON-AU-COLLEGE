{
 "cells": [
  {
   "cell_type": "code",
   "execution_count": 4,
   "id": "1e153ccf-cea0-4632-8994-455f1645621e",
   "metadata": {},
   "outputs": [
    {
     "name": "stdout",
     "output_type": "stream",
     "text": [
      "Found the number 45\n"
     ]
    }
   ],
   "source": [
    "# Write a python program to get the elements 45 from the below tuple ?\n",
    "\n",
    "value_tuple = (1, 2, 3, 4, 45, 6, 7, 8, 9)\n",
    "\n",
    "# Check if 45 is in the tuple\n",
    "if 45 in value_tuple:\n",
    "    print(\"Found the number 45\")\n",
    "else:\n",
    "    print(\"45 not found\")\n"
   ]
  },
  {
   "cell_type": "code",
   "execution_count": null,
   "id": "c79a74e3-17ab-4425-b205-4e71da988a4b",
   "metadata": {},
   "outputs": [],
   "source": []
  }
 ],
 "metadata": {
  "kernelspec": {
   "display_name": "Python 3 (ipykernel)",
   "language": "python",
   "name": "python3"
  },
  "language_info": {
   "codemirror_mode": {
    "name": "ipython",
    "version": 3
   },
   "file_extension": ".py",
   "mimetype": "text/x-python",
   "name": "python",
   "nbconvert_exporter": "python",
   "pygments_lexer": "ipython3",
   "version": "3.12.4"
  }
 },
 "nbformat": 4,
 "nbformat_minor": 5
}
