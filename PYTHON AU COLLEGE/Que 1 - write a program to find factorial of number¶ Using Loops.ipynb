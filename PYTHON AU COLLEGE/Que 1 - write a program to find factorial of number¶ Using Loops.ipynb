{
 "cells": [
  {
   "cell_type": "code",
   "execution_count": 1,
   "id": "013b5d75-5e99-4b41-bdaa-adb763745f4f",
   "metadata": {},
   "outputs": [
    {
     "name": "stdin",
     "output_type": "stream",
     "text": [
      "Enter your Number 4\n"
     ]
    },
    {
     "name": "stdout",
     "output_type": "stream",
     "text": [
      "24\n"
     ]
    }
   ],
   "source": [
    "Number = int(input(\"Enter your Number\"))\n",
    "Factorial = 1\n",
    "for i in range(1,Number+1):\n",
    "    Factorial = Factorial*i\n",
    "print(Factorial)"
   ]
  },
  {
   "cell_type": "code",
   "execution_count": null,
   "id": "ebd4c8fa-3137-4195-a6e2-71b5e64823d1",
   "metadata": {},
   "outputs": [],
   "source": []
  }
 ],
 "metadata": {
  "kernelspec": {
   "display_name": "Python 3 (ipykernel)",
   "language": "python",
   "name": "python3"
  },
  "language_info": {
   "codemirror_mode": {
    "name": "ipython",
    "version": 3
   },
   "file_extension": ".py",
   "mimetype": "text/x-python",
   "name": "python",
   "nbconvert_exporter": "python",
   "pygments_lexer": "ipython3",
   "version": "3.12.4"
  }
 },
 "nbformat": 4,
 "nbformat_minor": 5
}
