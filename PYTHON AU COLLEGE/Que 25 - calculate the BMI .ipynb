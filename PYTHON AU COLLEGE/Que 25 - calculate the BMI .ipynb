{
 "cells": [
  {
   "cell_type": "code",
   "execution_count": 1,
   "id": "00296182-c718-4e96-993e-725292922aea",
   "metadata": {},
   "outputs": [
    {
     "name": "stdout",
     "output_type": "stream",
     "text": [
      "19.531249999999996\n"
     ]
    }
   ],
   "source": [
    "height = 1.6\n",
    "weight = 50\n",
    "\n",
    "bmi = weight/(height**2)\n",
    "print(bmi)\n"
   ]
  },
  {
   "cell_type": "code",
   "execution_count": null,
   "id": "9c073d2f-a1f8-454b-ae80-0f415d247015",
   "metadata": {},
   "outputs": [],
   "source": []
  }
 ],
 "metadata": {
  "kernelspec": {
   "display_name": "Python 3 (ipykernel)",
   "language": "python",
   "name": "python3"
  },
  "language_info": {
   "codemirror_mode": {
    "name": "ipython",
    "version": 3
   },
   "file_extension": ".py",
   "mimetype": "text/x-python",
   "name": "python",
   "nbconvert_exporter": "python",
   "pygments_lexer": "ipython3",
   "version": "3.12.4"
  }
 },
 "nbformat": 4,
 "nbformat_minor": 5
}
