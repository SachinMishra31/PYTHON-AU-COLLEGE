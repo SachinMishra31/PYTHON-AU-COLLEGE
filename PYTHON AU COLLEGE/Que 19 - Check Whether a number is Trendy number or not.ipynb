{
 "cells": [
  {
   "cell_type": "code",
   "execution_count": 3,
   "id": "ae3ff79a-b3f4-42e7-851f-66f0877516d0",
   "metadata": {},
   "outputs": [
    {
     "name": "stdin",
     "output_type": "stream",
     "text": [
      "enter your number 666\n"
     ]
    },
    {
     "name": "stdout",
     "output_type": "stream",
     "text": [
      "trendy number\n"
     ]
    }
   ],
   "source": [
    "number = int(input(\"enter your number\"))\n",
    "if 100 <= number <= 999:\n",
    "    number_str = str(number)\n",
    "    middle_digit = int(number_str[1])\n",
    "    if middle_digit%3 == 0:\n",
    "        print(\"trendy number\")\n",
    "    else:\n",
    "        print(\"Not trendy\")\n",
    "else:\n",
    "    print(\"not trendy\")"
   ]
  },
  {
   "cell_type": "code",
   "execution_count": null,
   "id": "4877db95-1f0d-4e7a-b0ac-590e38851c53",
   "metadata": {},
   "outputs": [],
   "source": []
  }
 ],
 "metadata": {
  "kernelspec": {
   "display_name": "Python 3 (ipykernel)",
   "language": "python",
   "name": "python3"
  },
  "language_info": {
   "codemirror_mode": {
    "name": "ipython",
    "version": 3
   },
   "file_extension": ".py",
   "mimetype": "text/x-python",
   "name": "python",
   "nbconvert_exporter": "python",
   "pygments_lexer": "ipython3",
   "version": "3.12.4"
  }
 },
 "nbformat": 4,
 "nbformat_minor": 5
}
