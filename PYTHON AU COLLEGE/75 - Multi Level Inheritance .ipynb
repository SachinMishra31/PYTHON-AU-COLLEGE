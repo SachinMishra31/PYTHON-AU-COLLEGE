{
 "cells": [
  {
   "cell_type": "markdown",
   "id": "9697f8d1-dfd7-4bfb-954a-6c535af358e4",
   "metadata": {},
   "source": [
    "## Write a Python program to calculate the salary of the temporary staff using multilevel inheritance."
   ]
  },
  {
   "cell_type": "code",
   "execution_count": 1,
   "id": "899d2872-2719-40e9-9aac-c27df2ad3819",
   "metadata": {},
   "outputs": [],
   "source": [
    "# Write a Python program to calculate the salary of the temporary staff using Multilevel Inheritance.\n",
    "\n",
    "# Description:\n",
    "\n",
    "# Create a class Person which contains a constructor init() and a method display(self).\n",
    "# The method displays name of the person\n",
    "\n",
    "# Create another class Staff which inherit Person. \n",
    "# It contains a constructor init() and a method display(self). \n",
    "# The method displays Id.\n",
    "\n",
    "# Create another class Temporarystaff which inherit Staff, \n",
    "# it also contains a constructor init() and two method display(self), Salary(self).\n",
    "\n",
    "# The method Salary(self) return the total salary earned. \n",
    "# The method display(self) displays number of days, hoursworked and total salary earned.\n",
    "\n",
    "# salary earned = total hours worked *150"
   ]
  },
  {
   "cell_type": "code",
   "execution_count": 2,
   "id": "204c40c0-bfab-41fa-8142-e6f669d2a69c",
   "metadata": {},
   "outputs": [
    {
     "name": "stdin",
     "output_type": "stream",
     "text": [
      "Enter name:  Sachin\n",
      "Enter staff ID:  31\n",
      "Enter number of days worked:  30\n",
      "Enter hours worked per day:  8\n"
     ]
    },
    {
     "name": "stdout",
     "output_type": "stream",
     "text": [
      "Name: Sachin\n",
      "Staff ID: 31\n",
      "Days Worked: 30\n",
      "Hours Worked Per Day: 8\n",
      "Total Hours Worked: 240\n",
      "Total Salary Earned: 36000\n"
     ]
    }
   ],
   "source": [
    "class Person:\n",
    "    def __init__(self, name):\n",
    "        self.name = name\n",
    "\n",
    "    def display(self):\n",
    "        print(f\"Name: {self.name}\")\n",
    "\n",
    "\n",
    "class Staff(Person):\n",
    "    def __init__(self, name, staff_id):\n",
    "        super().__init__(name)  # Call the constructor of Person\n",
    "        self.staff_id = staff_id\n",
    "\n",
    "    def display(self):\n",
    "        super().display()  # Call the display method of Person\n",
    "        print(f\"Staff ID: {self.staff_id}\")\n",
    "\n",
    "\n",
    "class TemporaryStaff(Staff):\n",
    "    def __init__(self, name, staff_id, days_worked, hours_per_day):\n",
    "        super().__init__(name, staff_id)  # Call the constructor of Staff\n",
    "        self.days_worked = days_worked\n",
    "        self.hours_per_day = hours_per_day\n",
    "\n",
    "    def salary(self):\n",
    "        total_hours = self.days_worked * self.hours_per_day\n",
    "        return total_hours * 150\n",
    "\n",
    "    def display(self):\n",
    "        super().display()  # Call the display method of Staff\n",
    "        total_hours = self.days_worked * self.hours_per_day\n",
    "        print(f\"Days Worked: {self.days_worked}\")\n",
    "        print(f\"Hours Worked Per Day: {self.hours_per_day}\")\n",
    "        print(f\"Total Hours Worked: {total_hours}\")\n",
    "        print(f\"Total Salary Earned: {self.salary()}\")\n",
    "\n",
    "\n",
    "# Example Usage\n",
    "name = input(\"Enter name: \")\n",
    "staff_id = input(\"Enter staff ID: \")\n",
    "days_worked = int(input(\"Enter number of days worked: \"))\n",
    "hours_per_day = int(input(\"Enter hours worked per day: \"))\n",
    "\n",
    "temp_staff = TemporaryStaff(name, staff_id, days_worked, hours_per_day)\n",
    "temp_staff.display()\n"
   ]
  },
  {
   "cell_type": "code",
   "execution_count": null,
   "id": "4bcefa40-ff5a-4da6-a8e1-4cb73eef7731",
   "metadata": {},
   "outputs": [],
   "source": []
  }
 ],
 "metadata": {
  "kernelspec": {
   "display_name": "Python 3 (ipykernel)",
   "language": "python",
   "name": "python3"
  },
  "language_info": {
   "codemirror_mode": {
    "name": "ipython",
    "version": 3
   },
   "file_extension": ".py",
   "mimetype": "text/x-python",
   "name": "python",
   "nbconvert_exporter": "python",
   "pygments_lexer": "ipython3",
   "version": "3.12.4"
  }
 },
 "nbformat": 4,
 "nbformat_minor": 5
}
