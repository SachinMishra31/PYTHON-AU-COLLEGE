{
 "cells": [
  {
   "cell_type": "code",
   "execution_count": 1,
   "id": "934f7910-155c-4873-861a-82b49bdae519",
   "metadata": {},
   "outputs": [
    {
     "name": "stdout",
     "output_type": "stream",
     "text": [
      "Number of repeated elements: 3\n"
     ]
    }
   ],
   "source": [
    "# Function to count repeated elements\n",
    "def count_repeated_elements(input_list):\n",
    "    # Create a dictionary to store the frequency of each element\n",
    "    frequency = {}\n",
    "    \n",
    "    # Count occurrences of each element\n",
    "    for item in input_list:\n",
    "        if item in frequency:\n",
    "            frequency[item] += 1\n",
    "        else:\n",
    "            frequency[item] = 1\n",
    "    \n",
    "    # Count the elements that are repeated\n",
    "    repeated_count = 0\n",
    "    for count in frequency.values():\n",
    "        if count > 1:\n",
    "            repeated_count += 1\n",
    "\n",
    "    return repeated_count\n",
    "\n",
    "# Example usage\n",
    "my_list = [1, 2, 3, 4, 2, 5, 6, 3, 4, 4]\n",
    "print(f\"Number of repeated elements: {count_repeated_elements(my_list)}\")\n"
   ]
  }
 ],
 "metadata": {
  "kernelspec": {
   "display_name": "Python 3 (ipykernel)",
   "language": "python",
   "name": "python3"
  },
  "language_info": {
   "codemirror_mode": {
    "name": "ipython",
    "version": 3
   },
   "file_extension": ".py",
   "mimetype": "text/x-python",
   "name": "python",
   "nbconvert_exporter": "python",
   "pygments_lexer": "ipython3",
   "version": "3.12.4"
  }
 },
 "nbformat": 4,
 "nbformat_minor": 5
}
