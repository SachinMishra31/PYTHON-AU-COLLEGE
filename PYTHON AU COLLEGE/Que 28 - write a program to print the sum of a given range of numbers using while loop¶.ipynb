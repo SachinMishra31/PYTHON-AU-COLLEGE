{
 "cells": [
  {
   "cell_type": "code",
   "execution_count": 1,
   "id": "7561ad09-8682-42dc-a0fe-57e00b933590",
   "metadata": {},
   "outputs": [
    {
     "name": "stdin",
     "output_type": "stream",
     "text": [
      "Enter the value of a:  5\n",
      "Enter the value of b:  9\n"
     ]
    },
    {
     "name": "stdout",
     "output_type": "stream",
     "text": [
      "The sum of numbers from 5 to 9 is: 35\n"
     ]
    }
   ],
   "source": [
    "a = int(input(\"Enter the value of a: \"))\n",
    "b = int(input(\"Enter the value of b: \"))\n",
    "\n",
    "\n",
    "if a > b:\n",
    "    print(\"Invalid input! 'a' should be less than or equal to 'b'.\")\n",
    "else:\n",
    "    \n",
    "    total_sum = 0\n",
    "    num = a\n",
    "    \n",
    "    \n",
    "    while num <= b:\n",
    "        total_sum += num\n",
    "        num += 1\n",
    "    \n",
    "    \n",
    "    print(f\"The sum of numbers from {a} to {b} is: {total_sum}\")\n"
   ]
  },
  {
   "cell_type": "code",
   "execution_count": null,
   "id": "35771c2e-712b-478f-a9ce-8c4a13b0926c",
   "metadata": {},
   "outputs": [],
   "source": []
  }
 ],
 "metadata": {
  "kernelspec": {
   "display_name": "Python 3 (ipykernel)",
   "language": "python",
   "name": "python3"
  },
  "language_info": {
   "codemirror_mode": {
    "name": "ipython",
    "version": 3
   },
   "file_extension": ".py",
   "mimetype": "text/x-python",
   "name": "python",
   "nbconvert_exporter": "python",
   "pygments_lexer": "ipython3",
   "version": "3.12.4"
  }
 },
 "nbformat": 4,
 "nbformat_minor": 5
}
