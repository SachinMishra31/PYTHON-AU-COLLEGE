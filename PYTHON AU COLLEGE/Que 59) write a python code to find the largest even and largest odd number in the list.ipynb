{
 "cells": [
  {
   "cell_type": "code",
   "execution_count": 4,
   "id": "8a4e0974-5aef-4b93-a1de-5e3b3bb70b65",
   "metadata": {},
   "outputs": [
    {
     "name": "stdin",
     "output_type": "stream",
     "text": [
      " 5\n",
      " 1\n",
      " 2\n",
      " 3\n",
      " 4\n",
      " 5\n"
     ]
    },
    {
     "name": "stdout",
     "output_type": "stream",
     "text": [
      "The greatest Even number in list :  4\n",
      "The greatest odd number in list :  5\n"
     ]
    }
   ],
   "source": [
    "n = int(input())\n",
    "b = []\n",
    "\n",
    "for i in range(n):\n",
    "    a=int(input())\n",
    "    b.append(a)\n",
    "\n",
    "c = []\n",
    "d = []\n",
    "\n",
    "for i in b:\n",
    "    if i%2 == 0:\n",
    "        c.append(i)\n",
    "    else:\n",
    "        d.append(i)\n",
    "\n",
    "c.sort()\n",
    "d.sort()\n",
    "\n",
    "print(\"The greatest Even number in list : \" , c[-1])\n",
    "print(\"The greatest odd number in list : \" , d[-1])"
   ]
  },
  {
   "cell_type": "code",
   "execution_count": null,
   "id": "0ce86fee-7e3e-450e-92f6-9b91a981e69b",
   "metadata": {},
   "outputs": [],
   "source": []
  }
 ],
 "metadata": {
  "kernelspec": {
   "display_name": "Python 3 (ipykernel)",
   "language": "python",
   "name": "python3"
  },
  "language_info": {
   "codemirror_mode": {
    "name": "ipython",
    "version": 3
   },
   "file_extension": ".py",
   "mimetype": "text/x-python",
   "name": "python",
   "nbconvert_exporter": "python",
   "pygments_lexer": "ipython3",
   "version": "3.12.4"
  }
 },
 "nbformat": 4,
 "nbformat_minor": 5
}
