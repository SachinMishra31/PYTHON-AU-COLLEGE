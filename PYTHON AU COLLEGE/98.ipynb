{
 "cells": [
  {
   "cell_type": "code",
   "execution_count": null,
   "id": "4729f69b-875a-4722-8d28-4d67597c3513",
   "metadata": {},
   "outputs": [],
   "source": [
    "x = int(input())\n",
    "\n",
    "first = x//10 # first digit\n",
    "second = x%10 # second digit\n",
    "\n",
    "print(\" first digit :\", first)\n",
    "print(\"second digit:\", second)\n",
    "\n",
    "result = (first+second)+(first*second)\n",
    "print(\"output:\" , result)\n",
    "\n",
    "if x == result:\n",
    "    print(\"special number\")\n",
    "else:\n",
    "    print(\"not a special number\")\n",
    "    "
   ]
  },
  {
   "cell_type": "code",
   "execution_count": null,
   "id": "85a5f8ad-cb29-4e89-a9ea-76d7ed43f323",
   "metadata": {},
   "outputs": [],
   "source": []
  }
 ],
 "metadata": {
  "kernelspec": {
   "display_name": "Python 3 (ipykernel)",
   "language": "python",
   "name": "python3"
  },
  "language_info": {
   "codemirror_mode": {
    "name": "ipython",
    "version": 3
   },
   "file_extension": ".py",
   "mimetype": "text/x-python",
   "name": "python",
   "nbconvert_exporter": "python",
   "pygments_lexer": "ipython3",
   "version": "3.12.4"
  }
 },
 "nbformat": 4,
 "nbformat_minor": 5
}
