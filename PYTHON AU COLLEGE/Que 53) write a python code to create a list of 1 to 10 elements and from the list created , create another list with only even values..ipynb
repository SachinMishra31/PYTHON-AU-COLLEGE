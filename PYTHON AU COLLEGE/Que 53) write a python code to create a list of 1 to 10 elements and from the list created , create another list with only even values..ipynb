{
 "cells": [
  {
   "cell_type": "code",
   "execution_count": 2,
   "id": "a5195052-c657-425a-ae61-62dee2de112e",
   "metadata": {},
   "outputs": [
    {
     "name": "stdout",
     "output_type": "stream",
     "text": [
      "[2, 4, 6, 8, 10]\n"
     ]
    }
   ],
   "source": [
    "list1 = list(range(1,11))\n",
    "even= list1[1::2]\n",
    "print(even)"
   ]
  },
  {
   "cell_type": "markdown",
   "id": "4eaa55c8-8146-47c6-91f9-82fec7e88fa7",
   "metadata": {},
   "source": [
    "## Revision 1"
   ]
  },
  {
   "cell_type": "code",
   "execution_count": 2,
   "id": "f55bfc87-1430-4e37-b125-bd0f8f7a6c20",
   "metadata": {},
   "outputs": [
    {
     "name": "stdout",
     "output_type": "stream",
     "text": [
      "[2, 4, 6, 8, 10]\n"
     ]
    }
   ],
   "source": [
    "list1 = list(range(1,11))\n",
    "even = list1[1::2]\n",
    "print(even)"
   ]
  },
  {
   "cell_type": "code",
   "execution_count": null,
   "id": "dc9f8b60-b126-4a89-ad01-5a79dd0b7dc6",
   "metadata": {},
   "outputs": [],
   "source": []
  }
 ],
 "metadata": {
  "kernelspec": {
   "display_name": "Python 3 (ipykernel)",
   "language": "python",
   "name": "python3"
  },
  "language_info": {
   "codemirror_mode": {
    "name": "ipython",
    "version": 3
   },
   "file_extension": ".py",
   "mimetype": "text/x-python",
   "name": "python",
   "nbconvert_exporter": "python",
   "pygments_lexer": "ipython3",
   "version": "3.12.4"
  }
 },
 "nbformat": 4,
 "nbformat_minor": 5
}
