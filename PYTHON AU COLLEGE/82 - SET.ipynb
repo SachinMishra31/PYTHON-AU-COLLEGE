{
 "cells": [
  {
   "cell_type": "code",
   "execution_count": 3,
   "id": "e0f904ee-3129-4a6a-befe-af0c0ab022d6",
   "metadata": {},
   "outputs": [
    {
     "ename": "TypeError",
     "evalue": "'set' object is not subscriptable",
     "output_type": "error",
     "traceback": [
      "\u001b[1;31m---------------------------------------------------------------------------\u001b[0m",
      "\u001b[1;31mTypeError\u001b[0m                                 Traceback (most recent call last)",
      "Cell \u001b[1;32mIn[3], line 4\u001b[0m\n\u001b[0;32m      1\u001b[0m \u001b[38;5;66;03m## unordered and unidexed collection of elements\u001b[39;00m\n\u001b[0;32m      3\u001b[0m value_set \u001b[38;5;241m=\u001b[39m { \u001b[38;5;241m2\u001b[39m,\u001b[38;5;241m6\u001b[39m,\u001b[38;5;241m9\u001b[39m}\n\u001b[1;32m----> 4\u001b[0m \u001b[38;5;28mprint\u001b[39m(value_set[\u001b[38;5;241m0\u001b[39m])\n",
      "\u001b[1;31mTypeError\u001b[0m: 'set' object is not subscriptable"
     ]
    }
   ],
   "source": [
    "## unordered and unidexed collection of elements\n",
    "\n",
    "value_set = { 2,6,9}\n",
    "print(value_set[0])\n",
    "\n",
    "# becausse set not satify indexing"
   ]
  },
  {
   "cell_type": "markdown",
   "id": "3cf896df-5758-40b0-81eb-9890421c9dae",
   "metadata": {},
   "source": [
    "# Looping in sets"
   ]
  },
  {
   "cell_type": "code",
   "execution_count": 4,
   "id": "2bc0fd7f-2cd8-4644-a570-d81b8443103c",
   "metadata": {},
   "outputs": [
    {
     "name": "stdout",
     "output_type": "stream",
     "text": [
      "a\n",
      "2\n",
      "5\n",
      "PYTHON\n",
      "9.4\n"
     ]
    }
   ],
   "source": [
    "value_set = {2,'PYTHON','a',5,9.4}\n",
    "for i in value_set:\n",
    "    print(i)\n",
    "    "
   ]
  },
  {
   "cell_type": "markdown",
   "id": "f9debbc3-d89f-485f-a4d4-3c6bc14ae215",
   "metadata": {},
   "source": [
    "# Predict the output"
   ]
  },
  {
   "cell_type": "code",
   "execution_count": null,
   "id": "89543d3b-02a3-4e8b-b07e-a91aa2b848ad",
   "metadata": {},
   "outputs": [],
   "source": [
    "value_set =  {2,'PYTHON','a',5,9.4}\n",
    "print('PYTHON'"
   ]
  },
  {
   "cell_type": "markdown",
   "id": "0a95d6ba-3edb-43c7-92d3-aa2e3430839e",
   "metadata": {},
   "source": [
    "# Add Elements"
   ]
  },
  {
   "cell_type": "code",
   "execution_count": 6,
   "id": "73a36aa4-06c3-46f5-8d7d-680b4232f6af",
   "metadata": {},
   "outputs": [
    {
     "name": "stdout",
     "output_type": "stream",
     "text": [
      "{'a', 2, 5, 'PYTHON', 9.4, 'apple'}\n"
     ]
    }
   ],
   "source": [
    "value_set =  {2,'PYTHON','a',5,9.4}\n",
    "value_set.add(\"apple\")\n",
    "print(value_set)"
   ]
  },
  {
   "cell_type": "markdown",
   "id": "2ac1dd76-085b-4b01-9d93-71980d74c982",
   "metadata": {},
   "source": [
    " # Get the length of a set"
   ]
  },
  {
   "cell_type": "code",
   "execution_count": 7,
   "id": "ae3d61fb-9142-4fd4-9f6a-3887905d61a4",
   "metadata": {},
   "outputs": [
    {
     "name": "stdout",
     "output_type": "stream",
     "text": [
      "5\n"
     ]
    }
   ],
   "source": [
    "value_set =  {2,'PYTHON','a',5,9.4}\n",
    "print(len(value_set))"
   ]
  },
  {
   "cell_type": "markdown",
   "id": "dedc18ae-ee87-4624-b52f-cdf7094cc7f6",
   "metadata": {},
   "source": [
    "# Remove Elements"
   ]
  },
  {
   "cell_type": "code",
   "execution_count": 8,
   "id": "3aca0379-bd77-42ce-b135-ea5557f93596",
   "metadata": {},
   "outputs": [
    {
     "name": "stdout",
     "output_type": "stream",
     "text": [
      "{'a', 2, 5, 9.4}\n"
     ]
    }
   ],
   "source": [
    "value_set =  {2,'PYTHON','a',5,9.4}\n",
    "value_set.remove(\"PYTHON\")\n",
    "print(value_set)"
   ]
  },
  {
   "cell_type": "code",
   "execution_count": 9,
   "id": "56838489-51bd-4c37-8938-3fd1261f90a2",
   "metadata": {},
   "outputs": [
    {
     "name": "stdout",
     "output_type": "stream",
     "text": [
      "{'a', 2, 5, 9.4}\n"
     ]
    }
   ],
   "source": [
    "value_set =  {2,'PYTHON','a',5,9.4}\n",
    "value_set.discard(\"PYTHON\")\n",
    "print(value_set)"
   ]
  },
  {
   "cell_type": "code",
   "execution_count": 4,
   "id": "1ec2ee40-4828-4f88-8468-794acf2e0390",
   "metadata": {},
   "outputs": [
    {
     "data": {
      "text/plain": [
       "{5.6, 6, 'Python'}"
      ]
     },
     "execution_count": 4,
     "metadata": {},
     "output_type": "execute_result"
    }
   ],
   "source": [
    "# Que - why the elements are not printed in the order as we have givven ?\n",
    "# ans = set is unordered because set is not indexed\n",
    "\n",
    "values = {6,'Python',5.6}\n",
    "values\n",
    "\n"
   ]
  },
  {
   "cell_type": "code",
   "execution_count": 5,
   "id": "6308b86c-a97a-443c-9300-bef3e51ee92a",
   "metadata": {},
   "outputs": [
    {
     "data": {
      "text/plain": [
       "set"
      ]
     },
     "execution_count": 5,
     "metadata": {},
     "output_type": "execute_result"
    }
   ],
   "source": [
    "type(values)"
   ]
  },
  {
   "cell_type": "code",
   "execution_count": 12,
   "id": "9a9a7b4a-14eb-47cb-a860-bfeb8bafe01f",
   "metadata": {},
   "outputs": [
    {
     "data": {
      "text/plain": [
       "dict"
      ]
     },
     "execution_count": 12,
     "metadata": {},
     "output_type": "execute_result"
    }
   ],
   "source": [
    "value = {}\n",
    "type(value) # representation is similar to dict\n",
    "            # both set and dict use curly brackets \n",
    "            # difference is set have only value and dict have key and values.\n"
   ]
  },
  {
   "cell_type": "code",
   "execution_count": 10,
   "id": "9df6c8cc-18d3-406c-8578-4452945c21e0",
   "metadata": {},
   "outputs": [
    {
     "data": {
      "text/plain": [
       "set"
      ]
     },
     "execution_count": 10,
     "metadata": {},
     "output_type": "execute_result"
    }
   ],
   "source": [
    "value = set()\n",
    "type(value)"
   ]
  },
  {
   "cell_type": "code",
   "execution_count": 11,
   "id": "c4ad2d7e-6a79-4a0c-8b7f-40f442d101ac",
   "metadata": {},
   "outputs": [
    {
     "data": {
      "text/plain": [
       "{1, 2, 3, 4, 5, 12, 45}"
      ]
     },
     "execution_count": 11,
     "metadata": {},
     "output_type": "execute_result"
    }
   ],
   "source": [
    "values = {12,1,2,3,2,45,4,5,3}\n",
    "values"
   ]
  },
  {
   "cell_type": "code",
   "execution_count": 13,
   "id": "836abf91-75d5-4670-98e0-2a0e3573af96",
   "metadata": {},
   "outputs": [],
   "source": [
    "# in the above values set, there are 8 elements but it has added only 6 elements ?\n",
    "# in the values set,the "
   ]
  },
  {
   "cell_type": "markdown",
   "id": "6a5f5b06-8531-4600-999e-aaa93bdfaa45",
   "metadata": {},
   "source": [
    "# Creating  a set"
   ]
  },
  {
   "cell_type": "code",
   "execution_count": 15,
   "id": "a9210fe8-13e3-423d-9384-68b6d3ef1dad",
   "metadata": {},
   "outputs": [
    {
     "name": "stdout",
     "output_type": "stream",
     "text": [
      "set()\n"
     ]
    }
   ],
   "source": [
    "set1 = set()\n",
    "print(set1)"
   ]
  },
  {
   "cell_type": "code",
   "execution_count": 16,
   "id": "bc934af8-355b-4c8e-9dd1-a35f8a70ef19",
   "metadata": {},
   "outputs": [
    {
     "data": {
      "text/plain": [
       "{2, 5, 9.4, 'Python', 'a'}"
      ]
     },
     "execution_count": 16,
     "metadata": {},
     "output_type": "execute_result"
    }
   ],
   "source": [
    "value_set = {2,'Python','a',5,9.4}\n",
    "value_set"
   ]
  },
  {
   "cell_type": "markdown",
   "id": "633b20dc-e4c3-42f3-856e-1e342c43582f",
   "metadata": {},
   "source": [
    "# write a python code to access an element in the set ?"
   ]
  },
  {
   "cell_type": "code",
   "execution_count": null,
   "id": "450a43b3-6e39-406d-bd3b-07acb4459c3c",
   "metadata": {},
   "outputs": [],
   "source": []
  },
  {
   "cell_type": "markdown",
   "id": "cf5d6c1d-3cfe-4103-b8b4-e33b8135fdf3",
   "metadata": {},
   "source": [
    "# what are the ways to add an element"
   ]
  },
  {
   "cell_type": "code",
   "execution_count": 17,
   "id": "98436512-b5ae-4a6f-a46f-04a613267eb0",
   "metadata": {},
   "outputs": [
    {
     "ename": "AttributeError",
     "evalue": "'set' object has no attribute 'append'",
     "output_type": "error",
     "traceback": [
      "\u001b[1;31m---------------------------------------------------------------------------\u001b[0m",
      "\u001b[1;31mAttributeError\u001b[0m                            Traceback (most recent call last)",
      "Cell \u001b[1;32mIn[17], line 1\u001b[0m\n\u001b[1;32m----> 1\u001b[0m value_set\u001b[38;5;241m.\u001b[39mappend(\u001b[38;5;124m\"\u001b[39m\u001b[38;5;124mHello\u001b[39m\u001b[38;5;124m\"\u001b[39m)\n\u001b[0;32m      2\u001b[0m value_set\n",
      "\u001b[1;31mAttributeError\u001b[0m: 'set' object has no attribute 'append'"
     ]
    }
   ],
   "source": [
    "value_set.append(\"Hello\")\n",
    "value_set"
   ]
  },
  {
   "cell_type": "markdown",
   "id": "28af76e7-7ea2-4127-a1fb-62d1009d0b9e",
   "metadata": {},
   "source": [
    "# Understanding the errors in python"
   ]
  },
  {
   "cell_type": "code",
   "execution_count": 30,
   "id": "7053c638-f4ee-4b56-8a5f-dd07c82d9b02",
   "metadata": {},
   "outputs": [],
   "source": [
    "# 1)TypeError\n",
    "# 2)AttributeError\n",
    "# 3) KeyError\n",
    "# 4) NameError"
   ]
  },
  {
   "cell_type": "code",
   "execution_count": 18,
   "id": "ec6043e0-3bc7-4054-bdaf-8e43a155140b",
   "metadata": {},
   "outputs": [
    {
     "ename": "TypeError",
     "evalue": "unsupported operand type(s) for +: 'set' and 'str'",
     "output_type": "error",
     "traceback": [
      "\u001b[1;31m---------------------------------------------------------------------------\u001b[0m",
      "\u001b[1;31mTypeError\u001b[0m                                 Traceback (most recent call last)",
      "Cell \u001b[1;32mIn[18], line 1\u001b[0m\n\u001b[1;32m----> 1\u001b[0m value_set \u001b[38;5;241m=\u001b[39m value_set \u001b[38;5;241m+\u001b[39m \u001b[38;5;124m\"\u001b[39m\u001b[38;5;124mHello\u001b[39m\u001b[38;5;124m\"\u001b[39m\n\u001b[0;32m      2\u001b[0m value_set\n",
      "\u001b[1;31mTypeError\u001b[0m: unsupported operand type(s) for +: 'set' and 'str'"
     ]
    }
   ],
   "source": [
    "value_set = value_set + \"Hello\"\n",
    "value_set"
   ]
  },
  {
   "cell_type": "code",
   "execution_count": 21,
   "id": "c6fe82b6-b584-4fcf-b989-500f9c77dd53",
   "metadata": {},
   "outputs": [
    {
     "data": {
      "text/plain": [
       "{2, 5, 9.4, 'Python', 'a', 'apple'}"
      ]
     },
     "execution_count": 21,
     "metadata": {},
     "output_type": "execute_result"
    }
   ],
   "source": [
    "value_set.add(\"apple\")\n",
    "value_set\n",
    "\n",
    "# add contains 1 elements at a time"
   ]
  },
  {
   "cell_type": "markdown",
   "id": "9d349238-8259-4903-b29a-4e7417f2cee4",
   "metadata": {},
   "source": [
    "# Deleting a elements in set"
   ]
  },
  {
   "cell_type": "code",
   "execution_count": 24,
   "id": "bc3ff984-9368-45b0-99e8-b4b94f3fea22",
   "metadata": {},
   "outputs": [
    {
     "data": {
      "text/plain": [
       "{2, 5, 9.4, 'PYTHON', 'a'}"
      ]
     },
     "execution_count": 24,
     "metadata": {},
     "output_type": "execute_result"
    }
   ],
   "source": [
    "value_set = {2,'PYTHON','a',5,9.4}\n",
    "value_set"
   ]
  },
  {
   "cell_type": "code",
   "execution_count": 29,
   "id": "87f114d5-3576-41bf-8e4c-7ea277282d8d",
   "metadata": {},
   "outputs": [
    {
     "ename": "KeyError",
     "evalue": "'PYTHON'",
     "output_type": "error",
     "traceback": [
      "\u001b[1;31m---------------------------------------------------------------------------\u001b[0m",
      "\u001b[1;31mKeyError\u001b[0m                                  Traceback (most recent call last)",
      "Cell \u001b[1;32mIn[29], line 1\u001b[0m\n\u001b[1;32m----> 1\u001b[0m value_set\u001b[38;5;241m.\u001b[39mremove(\u001b[38;5;124m'\u001b[39m\u001b[38;5;124mPYTHON\u001b[39m\u001b[38;5;124m'\u001b[39m)\n",
      "\u001b[1;31mKeyError\u001b[0m: 'PYTHON'"
     ]
    }
   ],
   "source": [
    "value_set.remove('PYTHON')\n"
   ]
  },
  {
   "cell_type": "code",
   "execution_count": 28,
   "id": "8cd88d5c-5910-45d5-a04a-a711b5c9575d",
   "metadata": {},
   "outputs": [
    {
     "data": {
      "text/plain": [
       "{2, 5, 9.4, 'a'}"
      ]
     },
     "execution_count": 28,
     "metadata": {},
     "output_type": "execute_result"
    }
   ],
   "source": [
    "value_set"
   ]
  },
  {
   "cell_type": "code",
   "execution_count": 31,
   "id": "2e07c9e4-5761-4c07-86f4-d7e2f72493ea",
   "metadata": {},
   "outputs": [],
   "source": [
    "value_set.discard(9.4)"
   ]
  },
  {
   "cell_type": "code",
   "execution_count": 32,
   "id": "b6e3a880-87d6-4ebc-9763-eb0e1de1d78b",
   "metadata": {},
   "outputs": [
    {
     "data": {
      "text/plain": [
       "{2, 5, 'a'}"
      ]
     },
     "execution_count": 32,
     "metadata": {},
     "output_type": "execute_result"
    }
   ],
   "source": [
    "value_set"
   ]
  },
  {
   "cell_type": "code",
   "execution_count": 33,
   "id": "becdf3c3-79f3-4988-bb15-c927c23e7247",
   "metadata": {},
   "outputs": [],
   "source": [
    "value_set.discard(10)"
   ]
  },
  {
   "cell_type": "code",
   "execution_count": 34,
   "id": "4352fe53-1108-4b55-8a5e-3e051e7afbe9",
   "metadata": {},
   "outputs": [
    {
     "data": {
      "text/plain": [
       "{2, 5, 'a'}"
      ]
     },
     "execution_count": 34,
     "metadata": {},
     "output_type": "execute_result"
    }
   ],
   "source": [
    "value_set"
   ]
  },
  {
   "cell_type": "markdown",
   "id": "9b9d614e-78d9-4e71-b19f-d017cb20f323",
   "metadata": {},
   "source": [
    "# Difference between remove() and discard()"
   ]
  },
  {
   "cell_type": "code",
   "execution_count": null,
   "id": "dc31bdfa-b98d-48ab-af7b-633c055576f9",
   "metadata": {},
   "outputs": [],
   "source": [
    "\n"
   ]
  },
  {
   "cell_type": "markdown",
   "id": "a0dab56d-247d-4afa-9fa5-bff2726cf52e",
   "metadata": {},
   "source": [
    "# Clear or delete a set"
   ]
  },
  {
   "cell_type": "code",
   "execution_count": 35,
   "id": "a1de7d1e-b04f-440a-a755-a44dbcc57d14",
   "metadata": {},
   "outputs": [
    {
     "data": {
      "text/plain": [
       "{2, 5, 9.4, 'PYTHON', 'a'}"
      ]
     },
     "execution_count": 35,
     "metadata": {},
     "output_type": "execute_result"
    }
   ],
   "source": [
    "value_set = {2,'PYTHON','a',5,9.4}\n",
    "value_set"
   ]
  },
  {
   "cell_type": "code",
   "execution_count": 36,
   "id": "151b43af-7115-45a6-8954-0b722972ae11",
   "metadata": {},
   "outputs": [
    {
     "data": {
      "text/plain": [
       "set()"
      ]
     },
     "execution_count": 36,
     "metadata": {},
     "output_type": "execute_result"
    }
   ],
   "source": [
    "value_set.clear()\n",
    "value_set"
   ]
  },
  {
   "cell_type": "code",
   "execution_count": 37,
   "id": "d2705bc6-ef69-48ad-a8a6-16c1eb8377d9",
   "metadata": {},
   "outputs": [],
   "source": [
    "del value_set\n"
   ]
  },
  {
   "cell_type": "code",
   "execution_count": 38,
   "id": "88fa96c4-7a39-4b55-b58a-5554be557744",
   "metadata": {},
   "outputs": [
    {
     "ename": "NameError",
     "evalue": "name 'value_set' is not defined",
     "output_type": "error",
     "traceback": [
      "\u001b[1;31m---------------------------------------------------------------------------\u001b[0m",
      "\u001b[1;31mNameError\u001b[0m                                 Traceback (most recent call last)",
      "Cell \u001b[1;32mIn[38], line 1\u001b[0m\n\u001b[1;32m----> 1\u001b[0m value_set\n",
      "\u001b[1;31mNameError\u001b[0m: name 'value_set' is not defined"
     ]
    }
   ],
   "source": [
    "value_set"
   ]
  },
  {
   "cell_type": "markdown",
   "id": "1ea05013-4fa2-473b-9c96-194dd025c965",
   "metadata": {},
   "source": [
    "# Que) write a python code to get the set elements from the user and print the elements in the created set ?"
   ]
  },
  {
   "cell_type": "code",
   "execution_count": 3,
   "id": "67230a79-d048-44d2-8e2f-917b55c44d72",
   "metadata": {},
   "outputs": [
    {
     "name": "stdin",
     "output_type": "stream",
     "text": [
      " 4\n",
      " 12\n",
      " 26\n",
      " 10\n",
      " 6\n"
     ]
    }
   ],
   "source": [
    "value_set=set()\n",
    "n=int(input())\n",
    "for i in range(n):\n",
    "    value_set.add(int(input()))\n",
    "                  "
   ]
  },
  {
   "cell_type": "code",
   "execution_count": 4,
   "id": "c8915fd7-48f0-48ce-9f91-65b0b41f722d",
   "metadata": {},
   "outputs": [
    {
     "data": {
      "text/plain": [
       "{6, 10, 12, 26}"
      ]
     },
     "execution_count": 4,
     "metadata": {},
     "output_type": "execute_result"
    }
   ],
   "source": [
    "value_set"
   ]
  },
  {
   "cell_type": "code",
   "execution_count": 5,
   "id": "683040fe-53f8-4f2e-b127-b4a6594411b2",
   "metadata": {},
   "outputs": [
    {
     "name": "stdout",
     "output_type": "stream",
     "text": [
      "26\n",
      "10\n",
      "12\n",
      "6\n"
     ]
    }
   ],
   "source": [
    "for i in value_set:\n",
    "    print(i)"
   ]
  },
  {
   "cell_type": "markdown",
   "id": "d472afb6-a5b5-41d4-ad73-f6a3bd75db4d",
   "metadata": {},
   "source": [
    "# write a python code to check whether the elements got from the user is present in the value_set ?"
   ]
  },
  {
   "cell_type": "code",
   "execution_count": 7,
   "id": "92a22868-7709-4b93-ad84-7eb8e638add8",
   "metadata": {},
   "outputs": [
    {
     "name": "stdin",
     "output_type": "stream",
     "text": [
      "Enter elements separated by spaces:  0\n"
     ]
    },
    {
     "name": "stdout",
     "output_type": "stream",
     "text": [
      "0 is not present in the value_set.\n"
     ]
    }
   ],
   "source": [
    "# Define the value set\n",
    "value_set = {6, 12, 26, 10}\n",
    "\n",
    "# Get user input as a list of numbers\n",
    "user_input = input(\"Enter elements separated by spaces: \")\n",
    "\n",
    "# Convert user input into a set of integers\n",
    "user_elements = set(map(int, user_input.split()))\n",
    "\n",
    "# Check if elements are present in the value_set\n",
    "for element in user_elements:\n",
    "    if element in value_set:\n",
    "        print(f\"{element} is present in the value_set.\")\n",
    "    else:\n",
    "        print(f\"{element} is not present in the value_set.\")\n"
   ]
  },
  {
   "cell_type": "markdown",
   "id": "52abc3cc-c151-4555-9b33-700b57e189fa",
   "metadata": {},
   "source": [
    "# write a python program to find the length of the set"
   ]
  },
  {
   "cell_type": "code",
   "execution_count": 8,
   "id": "e4bbb4ef-66c8-43bb-9395-d97599ae662c",
   "metadata": {},
   "outputs": [
    {
     "data": {
      "text/plain": [
       "4"
      ]
     },
     "execution_count": 8,
     "metadata": {},
     "output_type": "execute_result"
    }
   ],
   "source": [
    "len(value_set)"
   ]
  },
  {
   "cell_type": "markdown",
   "id": "b6be28b9-fe4f-42d5-afc6-dd3c603197f6",
   "metadata": {},
   "source": [
    "# Union of two sets"
   ]
  },
  {
   "cell_type": "code",
   "execution_count": 9,
   "id": "d935cf41-2b1e-460c-8f19-fbe5041a335e",
   "metadata": {},
   "outputs": [],
   "source": [
    "month1_set = {\"Jan\",\"Feb\",\"Dec\",\"Mar\"}\n",
    "month2_set = {\"May\",\"Jan\",\"Oct\",\"Mar\"}\n",
    "\n"
   ]
  },
  {
   "cell_type": "code",
   "execution_count": 10,
   "id": "9cfbebc2-9b68-4b94-a930-72dbb3461913",
   "metadata": {},
   "outputs": [
    {
     "data": {
      "text/plain": [
       "{'Dec', 'Feb', 'Jan', 'Mar'}"
      ]
     },
     "execution_count": 10,
     "metadata": {},
     "output_type": "execute_result"
    }
   ],
   "source": [
    "month1_set"
   ]
  },
  {
   "cell_type": "code",
   "execution_count": 11,
   "id": "84bc642e-caa5-4a6b-bb48-b3b56e0dfaee",
   "metadata": {},
   "outputs": [
    {
     "data": {
      "text/plain": [
       "{'Jan', 'Mar', 'May', 'Oct'}"
      ]
     },
     "execution_count": 11,
     "metadata": {},
     "output_type": "execute_result"
    }
   ],
   "source": [
    "month2_set"
   ]
  },
  {
   "cell_type": "code",
   "execution_count": 12,
   "id": "18c76877-0641-4fbb-8f19-9fc315922347",
   "metadata": {},
   "outputs": [],
   "source": [
    "month = month1_set | month2_set"
   ]
  },
  {
   "cell_type": "code",
   "execution_count": 13,
   "id": "f77a4c61-b331-4e02-80a2-d48f3bf9acef",
   "metadata": {},
   "outputs": [
    {
     "data": {
      "text/plain": [
       "{'Dec', 'Feb', 'Jan', 'Mar', 'May', 'Oct'}"
      ]
     },
     "execution_count": 13,
     "metadata": {},
     "output_type": "execute_result"
    }
   ],
   "source": [
    "month"
   ]
  },
  {
   "cell_type": "code",
   "execution_count": 14,
   "id": "dc2f9afc-1e09-4872-a0b0-8bcec02e9db8",
   "metadata": {},
   "outputs": [],
   "source": [
    "month_common = month1_set.union(month2_set)"
   ]
  },
  {
   "cell_type": "code",
   "execution_count": 15,
   "id": "42bcc51a-c975-4103-8708-65531b1c0641",
   "metadata": {},
   "outputs": [
    {
     "data": {
      "text/plain": [
       "{'Dec', 'Feb', 'Jan', 'Mar', 'May', 'Oct'}"
      ]
     },
     "execution_count": 15,
     "metadata": {},
     "output_type": "execute_result"
    }
   ],
   "source": [
    "month_common"
   ]
  },
  {
   "cell_type": "markdown",
   "id": "1b9827f1-63d5-4ab7-aa30-91fe60af6efa",
   "metadata": {},
   "source": [
    "# Intersection of two sets"
   ]
  },
  {
   "cell_type": "code",
   "execution_count": 16,
   "id": "21237981-7b50-49f3-8489-70d9a315a467",
   "metadata": {},
   "outputs": [],
   "source": [
    "common = month1_set & month2_set"
   ]
  },
  {
   "cell_type": "code",
   "execution_count": 17,
   "id": "5726266e-d891-49d3-92f5-4480bd249c8a",
   "metadata": {},
   "outputs": [
    {
     "data": {
      "text/plain": [
       "{'Jan', 'Mar'}"
      ]
     },
     "execution_count": 17,
     "metadata": {},
     "output_type": "execute_result"
    }
   ],
   "source": [
    "common"
   ]
  },
  {
   "cell_type": "code",
   "execution_count": 18,
   "id": "4c74d132-abfc-4ff4-9e72-031239c58dd7",
   "metadata": {},
   "outputs": [],
   "source": [
    "common = month1_set.intersection(month2_set)"
   ]
  },
  {
   "cell_type": "code",
   "execution_count": 20,
   "id": "75be564e-0c96-4905-bdb1-d1ead217aac7",
   "metadata": {},
   "outputs": [
    {
     "data": {
      "text/plain": [
       "{'Jan', 'Mar'}"
      ]
     },
     "execution_count": 20,
     "metadata": {},
     "output_type": "execute_result"
    }
   ],
   "source": [
    "common"
   ]
  },
  {
   "cell_type": "markdown",
   "id": "775d4c78-b8c4-4663-bf72-c9028284546d",
   "metadata": {},
   "source": [
    "# Difference of two sets"
   ]
  },
  {
   "cell_type": "code",
   "execution_count": 21,
   "id": "b41b01d6-c31e-4be9-82dd-5428b20c8f0c",
   "metadata": {},
   "outputs": [],
   "source": [
    "diff = (month1_set - month2_set)"
   ]
  },
  {
   "cell_type": "code",
   "execution_count": 22,
   "id": "63c7d682-0d87-4e7d-89d2-bac354c2c981",
   "metadata": {},
   "outputs": [
    {
     "data": {
      "text/plain": [
       "{'Dec', 'Feb'}"
      ]
     },
     "execution_count": 22,
     "metadata": {},
     "output_type": "execute_result"
    }
   ],
   "source": [
    "diff"
   ]
  },
  {
   "cell_type": "code",
   "execution_count": 23,
   "id": "a8477cdf-8bb9-4d84-a0c6-f86152fdd253",
   "metadata": {},
   "outputs": [],
   "source": [
    "x = month1_set.difference(month2_set)"
   ]
  },
  {
   "cell_type": "code",
   "execution_count": 24,
   "id": "ad125ea9-db50-4d16-95d3-e07f9ac850ce",
   "metadata": {},
   "outputs": [
    {
     "data": {
      "text/plain": [
       "{'Dec', 'Feb'}"
      ]
     },
     "execution_count": 24,
     "metadata": {},
     "output_type": "execute_result"
    }
   ],
   "source": [
    "x"
   ]
  },
  {
   "cell_type": "markdown",
   "id": "5d54f83a-d66f-4d46-a698-8efe2d9a74e3",
   "metadata": {},
   "source": [
    "# Set Comparisons"
   ]
  },
  {
   "cell_type": "code",
   "execution_count": 27,
   "id": "ab5a3022-6b01-4cd1-8148-45719fdf5df4",
   "metadata": {},
   "outputs": [],
   "source": [
    "month1_set = {\"Jan\",\"Feb\",\"Dec\",\"Mar\"}\n",
    "month2_set = {\"Jan\", \"Feb\"}\n"
   ]
  },
  {
   "cell_type": "code",
   "execution_count": 28,
   "id": "cde15f51-7ae0-44ca-bc56-81300ad804a2",
   "metadata": {},
   "outputs": [
    {
     "data": {
      "text/plain": [
       "True"
      ]
     },
     "execution_count": 28,
     "metadata": {},
     "output_type": "execute_result"
    }
   ],
   "source": [
    "month1_set > month2_set"
   ]
  },
  {
   "cell_type": "code",
   "execution_count": 29,
   "id": "b1a6add9-bf76-4b42-8c12-812894acb8b5",
   "metadata": {},
   "outputs": [],
   "source": [
    "month1_set = {\"Jan\",\"Feb\",\"Dec\",\"Mar\"}\n",
    "month2_set = {\"Nov\", \"Oct\"}"
   ]
  },
  {
   "cell_type": "code",
   "execution_count": 30,
   "id": "5d2926d0-844b-41f7-a4c4-c54ebe1ff064",
   "metadata": {},
   "outputs": [
    {
     "data": {
      "text/plain": [
       "False"
      ]
     },
     "execution_count": 30,
     "metadata": {},
     "output_type": "execute_result"
    }
   ],
   "source": [
    "month1_set > month2_set"
   ]
  },
  {
   "cell_type": "code",
   "execution_count": 1,
   "id": "9a44a36b-19d0-4022-a64f-2806ab0c746b",
   "metadata": {},
   "outputs": [
    {
     "name": "stdout",
     "output_type": "stream",
     "text": [
      "True\n",
      "False\n",
      "False\n"
     ]
    }
   ],
   "source": [
    "month1_set = {\"Jan\",\"Feb\",\"Dec\",\"Mar\"}\n",
    "month2_set = {\"Jan\", \"Feb\"}\n",
    "print(month1_set > month2_set)\n",
    "print(month1_set < month2_set)\n",
    "print(month1_set == month2_set)\n"
   ]
  },
  {
   "cell_type": "markdown",
   "id": "c9dbcb65-eb30-44a7-9cd3-35ca8b66c3d3",
   "metadata": {},
   "source": [
    "## Frozen Sets"
   ]
  },
  {
   "cell_type": "code",
   "execution_count": null,
   "id": "6385a892-3b4b-44c4-98be-3cf551ed201e",
   "metadata": {},
   "outputs": [],
   "source": []
  }
 ],
 "metadata": {
  "kernelspec": {
   "display_name": "Python 3 (ipykernel)",
   "language": "python",
   "name": "python3"
  },
  "language_info": {
   "codemirror_mode": {
    "name": "ipython",
    "version": 3
   },
   "file_extension": ".py",
   "mimetype": "text/x-python",
   "name": "python",
   "nbconvert_exporter": "python",
   "pygments_lexer": "ipython3",
   "version": "3.12.4"
  }
 },
 "nbformat": 4,
 "nbformat_minor": 5
}
