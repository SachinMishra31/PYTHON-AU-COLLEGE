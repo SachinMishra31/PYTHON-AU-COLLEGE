{
 "cells": [
  {
   "cell_type": "code",
   "execution_count": 3,
   "id": "6e6e66ee-1ba1-48bf-9b41-fab0b929d655",
   "metadata": {},
   "outputs": [
    {
     "name": "stdin",
     "output_type": "stream",
     "text": [
      "Enter elements of first list separated by space:  1 2 3 4\n",
      "Enter elements of second list separated by space:  5 6 7 8\n"
     ]
    },
    {
     "name": "stdout",
     "output_type": "stream",
     "text": [
      "The Union of two lists is: [1, 2, 3, 4, 5, 6, 7, 8]\n"
     ]
    }
   ],
   "source": [
    "# Input two lists of integers\n",
    "a = list(map(int, input(\"Enter elements of first list separated by space: \").split()))\n",
    "b = list(map(int, input(\"Enter elements of second list separated by space: \").split()))\n",
    "\n",
    "# Calculate the union of the two lists using set union\n",
    "union = list(set(a).union(set(b)))\n",
    "\n",
    "# Print the result\n",
    "print(\"The Union of two lists is:\", union)\n"
   ]
  },
  {
   "cell_type": "code",
   "execution_count": null,
   "id": "dce21bb8-384f-4cc7-9b8f-6599e0f8eeed",
   "metadata": {},
   "outputs": [],
   "source": []
  }
 ],
 "metadata": {
  "kernelspec": {
   "display_name": "Python 3 (ipykernel)",
   "language": "python",
   "name": "python3"
  },
  "language_info": {
   "codemirror_mode": {
    "name": "ipython",
    "version": 3
   },
   "file_extension": ".py",
   "mimetype": "text/x-python",
   "name": "python",
   "nbconvert_exporter": "python",
   "pygments_lexer": "ipython3",
   "version": "3.12.4"
  }
 },
 "nbformat": 4,
 "nbformat_minor": 5
}
