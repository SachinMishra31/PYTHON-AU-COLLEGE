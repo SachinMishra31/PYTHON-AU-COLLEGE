{
 "cells": [
  {
   "cell_type": "code",
   "execution_count": null,
   "id": "5e24f9f0-e9e0-4f9c-8671-2f866c023510",
   "metadata": {},
   "outputs": [],
   "source": [
    "# The word polymorphism means having many forms\n",
    "# Same function name(but different signatures) used for different types"
   ]
  },
  {
   "cell_type": "markdown",
   "id": "72d81084-6091-4c77-a2d7-6d1dea92dcae",
   "metadata": {},
   "source": [
    "### Que 1) write a python to find the area of circle and rectangle using method overloading."
   ]
  },
  {
   "cell_type": "code",
   "execution_count": null,
   "id": "53bf0854-0e66-4d99-93a8-54fea4c5984a",
   "metadata": {},
   "outputs": [],
   "source": [
    "## create a class compute which contains method area() which is used to calculate the area of circle and rectangle."
   ]
  },
  {
   "cell_type": "markdown",
   "id": "ef22a6d5-d3df-4486-9e49-ec502f1557dc",
   "metadata": {},
   "source": [
    "### Que 2) Write a python program to find modulus of two numbers and powers of three numbers using method overloading."
   ]
  },
  {
   "cell_type": "code",
   "execution_count": null,
   "id": "b7bef8f9-a70e-4076-9d08-53ba42dcc7ef",
   "metadata": {},
   "outputs": [],
   "source": []
  }
 ],
 "metadata": {
  "kernelspec": {
   "display_name": "Python 3 (ipykernel)",
   "language": "python",
   "name": "python3"
  },
  "language_info": {
   "codemirror_mode": {
    "name": "ipython",
    "version": 3
   },
   "file_extension": ".py",
   "mimetype": "text/x-python",
   "name": "python",
   "nbconvert_exporter": "python",
   "pygments_lexer": "ipython3",
   "version": "3.12.4"
  }
 },
 "nbformat": 4,
 "nbformat_minor": 5
}
