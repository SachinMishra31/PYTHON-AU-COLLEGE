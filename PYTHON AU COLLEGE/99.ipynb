{
 "cells": [
  {
   "cell_type": "code",
   "execution_count": 1,
   "id": "f997ff84-4b45-4746-8afe-e2f13fd1226f",
   "metadata": {},
   "outputs": [
    {
     "name": "stdout",
     "output_type": "stream",
     "text": [
      "Happy Number\n"
     ]
    }
   ],
   "source": [
    "def is_happy_number(num):\n",
    "    def sum_of_squares(n):\n",
    "        total = 0\n",
    "        while n > 0:\n",
    "            digit = n % 10\n",
    "            total += digit ** 2\n",
    "            n //= 10\n",
    "        return total\n",
    "\n",
    "    visited_numbers = set()\n",
    "\n",
    "    while num != 1 and num not in visited_numbers:\n",
    "        visited_numbers.add(num)\n",
    "        num = sum_of_squares(num)\n",
    "\n",
    "    if num == 1:\n",
    "        return \"Happy Number\"\n",
    "    else:\n",
    "        return \"Not a Happy Number\"\n",
    "\n",
    "# Sample Input 1\n",
    "num = 100\n",
    "print(is_happy_number(num))"
   ]
  },
  {
   "cell_type": "code",
   "execution_count": null,
   "id": "a042d8a6-9fa8-4d14-8689-d91b74928ee8",
   "metadata": {},
   "outputs": [],
   "source": []
  }
 ],
 "metadata": {
  "kernelspec": {
   "display_name": "Python 3 (ipykernel)",
   "language": "python",
   "name": "python3"
  },
  "language_info": {
   "codemirror_mode": {
    "name": "ipython",
    "version": 3
   },
   "file_extension": ".py",
   "mimetype": "text/x-python",
   "name": "python",
   "nbconvert_exporter": "python",
   "pygments_lexer": "ipython3",
   "version": "3.12.4"
  }
 },
 "nbformat": 4,
 "nbformat_minor": 5
}
