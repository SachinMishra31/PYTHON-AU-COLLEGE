{
 "cells": [
  {
   "cell_type": "code",
   "execution_count": 1,
   "id": "4dfe4793-91b5-4c25-a89e-0f1522319607",
   "metadata": {},
   "outputs": [
    {
     "name": "stdin",
     "output_type": "stream",
     "text": [
      " enter day 7\n"
     ]
    },
    {
     "name": "stdout",
     "output_type": "stream",
     "text": [
      "16\n"
     ]
    }
   ],
   "source": [
    "day = int(input(\" enter day\"))\n",
    "if day<=5:\n",
    "    print( day*2)\n",
    "elif day >= 6 and day <=10:\n",
    "    print(10 + ( ( day - 5)*3))\n",
    "elif day >= 11 and day <=15:\n",
    "    print(25+(day-10)*4)\n",
    "else:\n",
    "    print(45+ (day - 15)*5)\n",
    "                 "
   ]
  },
  {
   "cell_type": "code",
   "execution_count": null,
   "id": "0ac233fb-64f9-4316-8553-032d7ba302c1",
   "metadata": {},
   "outputs": [],
   "source": []
  }
 ],
 "metadata": {
  "kernelspec": {
   "display_name": "Python 3 (ipykernel)",
   "language": "python",
   "name": "python3"
  },
  "language_info": {
   "codemirror_mode": {
    "name": "ipython",
    "version": 3
   },
   "file_extension": ".py",
   "mimetype": "text/x-python",
   "name": "python",
   "nbconvert_exporter": "python",
   "pygments_lexer": "ipython3",
   "version": "3.12.4"
  }
 },
 "nbformat": 4,
 "nbformat_minor": 5
}
