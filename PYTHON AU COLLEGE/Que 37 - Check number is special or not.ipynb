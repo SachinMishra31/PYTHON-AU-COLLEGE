{
 "cells": [
  {
   "cell_type": "code",
   "execution_count": 1,
   "id": "b0d3d065-4937-4f68-8770-93bcafbd6aa1",
   "metadata": {},
   "outputs": [
    {
     "name": "stdin",
     "output_type": "stream",
     "text": [
      " 56\n"
     ]
    },
    {
     "name": "stdout",
     "output_type": "stream",
     "text": [
      " first digit : 5\n",
      "second digit: 6\n",
      "output: 41\n",
      "not a special number\n"
     ]
    }
   ],
   "source": [
    "x = int(input())\n",
    "\n",
    "first = x//10 # first digit\n",
    "second = x%10 # second digit\n",
    "\n",
    "print(\" first digit :\", first)\n",
    "print(\"second digit:\", second)\n",
    "\n",
    "result = (first+second)+(first*second)\n",
    "print(\"output:\" , result)\n",
    "\n",
    "if x == result:\n",
    "    print(\"special number\")\n",
    "else:\n",
    "    print(\"not a special number\")\n",
    "    "
   ]
  },
  {
   "cell_type": "code",
   "execution_count": null,
   "id": "df52d07b-29b2-4c91-9987-d42caf46bda1",
   "metadata": {},
   "outputs": [],
   "source": []
  }
 ],
 "metadata": {
  "kernelspec": {
   "display_name": "Python 3 (ipykernel)",
   "language": "python",
   "name": "python3"
  },
  "language_info": {
   "codemirror_mode": {
    "name": "ipython",
    "version": 3
   },
   "file_extension": ".py",
   "mimetype": "text/x-python",
   "name": "python",
   "nbconvert_exporter": "python",
   "pygments_lexer": "ipython3",
   "version": "3.12.4"
  }
 },
 "nbformat": 4,
 "nbformat_minor": 5
}
