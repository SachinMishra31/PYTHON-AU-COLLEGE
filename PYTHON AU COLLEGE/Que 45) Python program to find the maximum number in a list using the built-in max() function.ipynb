{
 "cells": [
  {
   "cell_type": "code",
   "execution_count": 3,
   "id": "304c4d3e-4fae-4fa6-ad2b-62d4f2c3fd6d",
   "metadata": {},
   "outputs": [
    {
     "name": "stdout",
     "output_type": "stream",
     "text": [
      "The maximum number in the list is: 10\n"
     ]
    }
   ],
   "source": [
    "def find_maximum(numbers):\n",
    "    if not numbers:\n",
    "        return \"The list is empty.\"\n",
    "    return max(numbers)\n",
    "\n",
    "# Example usage\n",
    "numbers = [3, 5, 7, 2, 8, 10, 1]\n",
    "maximum = find_maximum(numbers)\n",
    "print(\"The maximum number in the list is:\", maximum)\n"
   ]
  },
  {
   "cell_type": "markdown",
   "id": "fe2d0fdc-d584-464f-97be-6deba95de9e2",
   "metadata": {},
   "source": [
    "## Revision 1"
   ]
  },
  {
   "cell_type": "code",
   "execution_count": 2,
   "id": "ae63557e-701c-487d-8c0d-b5cd26bf4404",
   "metadata": {},
   "outputs": [
    {
     "name": "stdout",
     "output_type": "stream",
     "text": [
      "The maximum number in the list is: 10\n"
     ]
    }
   ],
   "source": [
    "def find_maximum(numbers):\n",
    "    if not numbers:\n",
    "        return \"The list is empty.\"\n",
    "    return max(numbers)\n",
    "\n",
    "# Example usage\n",
    "\n",
    "numbers = [3,5,7,2,8,10,1]\n",
    "maximum = find_maximum(numbers)\n",
    "print(\"The maximum number in the list is:\",maximum)"
   ]
  },
  {
   "cell_type": "code",
   "execution_count": null,
   "id": "4769d9f1-c60d-45da-a2aa-0cc300f0ee66",
   "metadata": {},
   "outputs": [],
   "source": []
  }
 ],
 "metadata": {
  "kernelspec": {
   "display_name": "Python 3 (ipykernel)",
   "language": "python",
   "name": "python3"
  },
  "language_info": {
   "codemirror_mode": {
    "name": "ipython",
    "version": 3
   },
   "file_extension": ".py",
   "mimetype": "text/x-python",
   "name": "python",
   "nbconvert_exporter": "python",
   "pygments_lexer": "ipython3",
   "version": "3.12.4"
  }
 },
 "nbformat": 4,
 "nbformat_minor": 5
}
