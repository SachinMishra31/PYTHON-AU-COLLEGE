{
 "cells": [
  {
   "cell_type": "code",
   "execution_count": 1,
   "id": "ddc414cc-a90e-4337-8b83-f85b6a82b1d5",
   "metadata": {},
   "outputs": [
    {
     "name": "stdout",
     "output_type": "stream",
     "text": [
      "* * * * * \n",
      " * * * * \n",
      "  * * * \n",
      "   * * \n",
      "    * \n",
      "     \n"
     ]
    }
   ],
   "source": [
    "n = 5\n",
    "for i in range(0,n+1):\n",
    "    print(\" \"*i,end =\"\")\n",
    "    print(\"* \"*(n-i))\n"
   ]
  },
  {
   "cell_type": "code",
   "execution_count": null,
   "id": "45abdba3-51e5-44c3-8f73-365934c6cfbc",
   "metadata": {},
   "outputs": [],
   "source": []
  }
 ],
 "metadata": {
  "kernelspec": {
   "display_name": "Python 3 (ipykernel)",
   "language": "python",
   "name": "python3"
  },
  "language_info": {
   "codemirror_mode": {
    "name": "ipython",
    "version": 3
   },
   "file_extension": ".py",
   "mimetype": "text/x-python",
   "name": "python",
   "nbconvert_exporter": "python",
   "pygments_lexer": "ipython3",
   "version": "3.12.4"
  }
 },
 "nbformat": 4,
 "nbformat_minor": 5
}
