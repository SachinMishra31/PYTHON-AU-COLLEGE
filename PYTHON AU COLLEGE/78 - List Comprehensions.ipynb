{
 "cells": [
  {
   "cell_type": "code",
   "execution_count": null,
   "id": "b09295e4-213e-4cd3-a3a1-2d4f12216936",
   "metadata": {},
   "outputs": [],
   "source": [
    "## Predict the output\n",
    "\n",
    "x,y = [int(x)for x in input().split()]\n",
    "print(\"First Number is : \","
   ]
  }
 ],
 "metadata": {
  "kernelspec": {
   "display_name": "Python 3 (ipykernel)",
   "language": "python",
   "name": "python3"
  },
  "language_info": {
   "codemirror_mode": {
    "name": "ipython",
    "version": 3
   },
   "file_extension": ".py",
   "mimetype": "text/x-python",
   "name": "python",
   "nbconvert_exporter": "python",
   "pygments_lexer": "ipython3",
   "version": "3.12.4"
  }
 },
 "nbformat": 4,
 "nbformat_minor": 5
}
