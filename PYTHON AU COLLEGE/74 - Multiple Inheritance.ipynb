{
 "cells": [
  {
   "cell_type": "code",
   "execution_count": 1,
   "id": "4d8ce885-6ba7-4506-93ab-14ba1bf8e924",
   "metadata": {},
   "outputs": [],
   "source": [
    "# Description:\n",
    "\n",
    "# Create a class normal room contains method calculates() which takes no_rooms,days as parameter used to calculate room rent. \n",
    "# If number of days equal to one then room rent is 300. If no_of_days greater than 1 and less than equal to 5, then the room rent is 250. \n",
    "# More than five days then the room rent is 200.\n",
    "\n",
    "# Create an another class AC_room contains method AC_calculates() which takes no_rooms,days as parameter used to calculate room rent.\n",
    "# If number of days equal to one then room rent is 450. If no_of_days greater than 1 and less than equal to 5, then the room rent is 300.\n",
    "# More than five days then the room rent is 250.\n",
    "\n",
    "# Create an another class Suite_room contains method Suite_calculates() which takes no_rooms,days as parameter used to calculate room rent.\n",
    "# If number of days equal to one then room rent is 550. \n",
    "# If no_of_days greater than 1 and less than equal to 5, then the room rent is 500. \n",
    "# More than five days then the room rent is 450.\n",
    "\n",
    "# Create a class Hotel which inherit all the above three classes it contains method display used to"
   ]
  },
  {
   "cell_type": "code",
   "execution_count": 2,
   "id": "1c10cb68-3107-4b4f-8809-21cdb7d21f99",
   "metadata": {},
   "outputs": [
    {
     "name": "stdout",
     "output_type": "stream",
     "text": [
      "Total rent for Normal Room: 500\n",
      "Total rent for AC Room: 250\n",
      "Total rent for Suite Room: 1500\n"
     ]
    }
   ],
   "source": [
    "# multipal inheritancabs - pandey solution dont write this solution in exam\n",
    "class NormalRoom:\n",
    "    def calculates(self, no_rooms, days):\n",
    "        if days == 1:\n",
    "            rent = 300\n",
    "        elif 1 < days <= 5:\n",
    "            rent = 250\n",
    "        else:\n",
    "            rent = 200\n",
    "        total_rent = rent * no_rooms\n",
    "        return total_rent\n",
    "\n",
    "\n",
    "class AC_Room:\n",
    "    def AC_calculates(self, no_rooms, days):\n",
    "        if days == 1:\n",
    "            rent = 450\n",
    "        elif 1 < days <= 5:\n",
    "            rent = 300\n",
    "        else:\n",
    "            rent = 250\n",
    "        total_rent = rent * no_rooms\n",
    "        return total_rent\n",
    "\n",
    "\n",
    "class SuiteRoom:\n",
    "    def Suite_calculates(self, no_rooms, days):\n",
    "        if days == 1:\n",
    "            rent = 550\n",
    "        elif 1 < days <= 5:\n",
    "            rent = 500\n",
    "        else:\n",
    "            rent = 450\n",
    "        total_rent = rent * no_rooms\n",
    "        return total_rent\n",
    "\n",
    "\n",
    "class Hotel(NormalRoom, AC_Room, SuiteRoom):\n",
    "    def display(self, room_type, no_rooms, days):\n",
    "        if room_type == \"Normal\":\n",
    "            total_rent = self.calculates(no_rooms, days)\n",
    "        elif room_type == \"AC\":\n",
    "            total_rent = self.AC_calculates(no_rooms, days)\n",
    "        elif room_type == \"Suite\":\n",
    "            total_rent = self.Suite_calculates(no_rooms, days)\n",
    "        else:\n",
    "            return \"Invalid room type\"\n",
    "        return f\"Total rent for {room_type} Room: {total_rent}\"\n",
    "\n",
    "\n",
    "# Example usage\n",
    "hotel = Hotel()\n",
    "print(hotel.display(\"Normal\", 2, 3))  \n",
    "print(hotel.display(\"AC\", 1, 6))      \n",
    "print(hotel.display(\"Suite\", 3, 2))"
   ]
  },
  {
   "cell_type": "code",
   "execution_count": null,
   "id": "dc354c4c-e9a5-4bce-9999-421d206f9571",
   "metadata": {},
   "outputs": [],
   "source": []
  }
 ],
 "metadata": {
  "kernelspec": {
   "display_name": "Python 3 (ipykernel)",
   "language": "python",
   "name": "python3"
  },
  "language_info": {
   "codemirror_mode": {
    "name": "ipython",
    "version": 3
   },
   "file_extension": ".py",
   "mimetype": "text/x-python",
   "name": "python",
   "nbconvert_exporter": "python",
   "pygments_lexer": "ipython3",
   "version": "3.12.4"
  }
 },
 "nbformat": 4,
 "nbformat_minor": 5
}
