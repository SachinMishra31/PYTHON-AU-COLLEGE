{
 "cells": [
  {
   "cell_type": "markdown",
   "id": "f1502bc2-fc70-4dba-b5e7-a96beac54b04",
   "metadata": {},
   "source": [
    "# Basic Set Comprehension"
   ]
  },
  {
   "cell_type": "markdown",
   "id": "0effc85d-515e-4b07-a56f-5a1ebcf477e1",
   "metadata": {},
   "source": [
    "## Que 1) create a set of squares of numbers from o to 4 ?"
   ]
  },
  {
   "cell_type": "code",
   "execution_count": 1,
   "id": "10d8db04-3054-46c7-ad1e-58104d1ddefb",
   "metadata": {},
   "outputs": [
    {
     "name": "stdout",
     "output_type": "stream",
     "text": [
      "{0, 1, 4, 9, 16}\n"
     ]
    }
   ],
   "source": [
    "\n",
    "squares = {x**2 for x in range (5)}\n",
    "print(squares)"
   ]
  },
  {
   "cell_type": "markdown",
   "id": "e13f6eb7-cf79-4ea3-9dc8-3dea7f397d77",
   "metadata": {},
   "source": [
    "## Que 2) Creating a new set of squared values ?"
   ]
  },
  {
   "cell_type": "code",
   "execution_count": 2,
   "id": "49538bc2-06d8-4b5e-a89f-e99ee4e1f63b",
   "metadata": {},
   "outputs": [
    {
     "name": "stdout",
     "output_type": "stream",
     "text": [
      "{0, 1, 4, 9, 16}\n"
     ]
    }
   ],
   "source": [
    "numbers = [1,2,3,4 ,5]\n",
    "squared_numbers = {x**2 for x in range (5)}\n",
    "print(squared_numbers)"
   ]
  },
  {
   "cell_type": "markdown",
   "id": "e6350c36-e039-4218-bcfc-595fea5366fa",
   "metadata": {},
   "source": [
    "# Set Comprehension with Condition"
   ]
  },
  {
   "cell_type": "markdown",
   "id": "9131ddf4-4e42-436e-a3bc-3271686dbde1",
   "metadata": {},
   "source": [
    "## 3) create a set of squares,but only for even numbers"
   ]
  },
  {
   "cell_type": "code",
   "execution_count": 3,
   "id": "99274da9-ba78-4d16-990c-17d7c6ca8d83",
   "metadata": {},
   "outputs": [],
   "source": [
    "numbers = [1,2,3,4 ,5]"
   ]
  },
  {
   "cell_type": "markdown",
   "id": "fea73aa7-ebef-499f-a72a-0586cadffb90",
   "metadata": {},
   "source": [
    "# Using a set comprehension with strings"
   ]
  },
  {
   "cell_type": "markdown",
   "id": "7cad16ed-60a1-44d2-9630-eac42430946f",
   "metadata": {},
   "source": [
    " ## Que 4) Say the fruit name without vowel...!!"
   ]
  },
  {
   "cell_type": "code",
   "execution_count": 6,
   "id": "c4429ed8-d4c9-44a6-8db9-4cf60607f455",
   "metadata": {},
   "outputs": [
    {
     "name": "stdout",
     "output_type": "stream",
     "text": [
      "set()\n"
     ]
    }
   ],
   "source": [
    "words = ['apple','banana','cherry','lyn']\n",
    "vowels = {'a','e','i','o','u'}\n",
    "vowels_words = {word for word in words if any(letter in vowels for letter in words)}\n",
    "print(vowels_words)\n",
    "\n"
   ]
  },
  {
   "cell_type": "markdown",
   "id": "98e1d492-6dd0-4c06-8150-25dc21604600",
   "metadata": {},
   "source": [
    "# Eliminating Duplicates"
   ]
  },
  {
   "cell_type": "code",
   "execution_count": 8,
   "id": "cae4902d-5aa5-41a9-b7ed-8d5d7d8be09e",
   "metadata": {},
   "outputs": [
    {
     "name": "stdout",
     "output_type": "stream",
     "text": [
      "{1, 4, 36, 9, 16, 25}\n"
     ]
    }
   ],
   "source": [
    "# Does sets automatically remove duplicates ? yes!\n",
    "# you can use set comprehension to ensure uniqueness.\n",
    "\n",
    "duplicates = [1,2,3,3,4,5,1,6]\n",
    "unique_squares = {x**2 for x in duplicates}\n",
    "print(unique_squares)"
   ]
  },
  {
   "cell_type": "markdown",
   "id": "2e85e873-58d7-457d-b833-f021628ffcc5",
   "metadata": {},
   "source": [
    "#  Set Comprehension with string Manipulation"
   ]
  },
  {
   "cell_type": "markdown",
   "id": "7835dd7c-95ba-4efb-8048-d4a8174d6510",
   "metadata": {},
   "source": [
    "## Que 5) Create a set of uppercase letters from a string ?"
   ]
  },
  {
   "cell_type": "code",
   "execution_count": 9,
   "id": "abc45fa8-8600-49d4-9ee7-0bdb7778f896",
   "metadata": {},
   "outputs": [
    {
     "name": "stdout",
     "output_type": "stream",
     "text": [
      "{'D', 'W', 'R', 'O', 'E', 'H', 'L'}\n"
     ]
    }
   ],
   "source": [
    "text = \"hello world\"\n",
    "uppercase_letters = {char.upper() for char in text if char.isalpha()}\n",
    "print(uppercase_letters)"
   ]
  },
  {
   "cell_type": "code",
   "execution_count": null,
   "id": "293de01d-f794-4add-9345-6111005a4177",
   "metadata": {},
   "outputs": [],
   "source": []
  }
 ],
 "metadata": {
  "kernelspec": {
   "display_name": "Python 3 (ipykernel)",
   "language": "python",
   "name": "python3"
  },
  "language_info": {
   "codemirror_mode": {
    "name": "ipython",
    "version": 3
   },
   "file_extension": ".py",
   "mimetype": "text/x-python",
   "name": "python",
   "nbconvert_exporter": "python",
   "pygments_lexer": "ipython3",
   "version": "3.12.4"
  }
 },
 "nbformat": 4,
 "nbformat_minor": 5
}
